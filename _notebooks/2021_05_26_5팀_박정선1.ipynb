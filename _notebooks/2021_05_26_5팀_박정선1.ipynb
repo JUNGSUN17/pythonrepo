{
  "nbformat": 4,
  "nbformat_minor": 0,
  "metadata": {
    "colab": {
      "name": "2021-05-26-5팀-박정선.ipynb",
      "provenance": [],
      "collapsed_sections": [],
      "authorship_tag": "ABX9TyNS8CRCBbupFyz2XWGJajRo",
      "include_colab_link": true
    },
    "kernelspec": {
      "display_name": "Python 3",
      "name": "python3"
    },
    "language_info": {
      "name": "python"
    }
  },
  "cells": [
    {
      "cell_type": "markdown",
      "metadata": {
        "id": "view-in-github",
        "colab_type": "text"
      },
      "source": [
        "<a href=\"https://colab.research.google.com/github/JUNGSUN17/pythonrepo/blob/master/_notebooks/2021_05_26_5%ED%8C%80_%EB%B0%95%EC%A0%95%EC%84%A01.ipynb\" target=\"_parent\"><img src=\"https://colab.research.google.com/assets/colab-badge.svg\" alt=\"Open In Colab\"/></a>"
      ]
    },
    {
      "cell_type": "code",
      "metadata": {
        "colab": {
          "base_uri": "https://localhost:8080/"
        },
        "id": "fZ54LmfM-oUY",
        "outputId": "3340f58b-d9a3-46e0-8210-d8262d13f575"
      },
      "source": [
        "#리스트 출력하기\n",
        "fruits = ['사과','오렌지','포도','수박','바나나'] \n",
        "for fruit in fruits:\n",
        "    print(fruit,end='') #end: no space"
      ],
      "execution_count": null,
      "outputs": [
        {
          "output_type": "stream",
          "text": [
            "사과오렌지포도수박바나나"
          ],
          "name": "stdout"
        }
      ]
    },
    {
      "cell_type": "code",
      "metadata": {
        "colab": {
          "base_uri": "https://localhost:8080/"
        },
        "id": "BpJhJwmE7ylV",
        "outputId": "4db05586-a8ba-4a2f-f4ab-ce04114896f4"
      },
      "source": [
        "n1 = 100\n",
        "fruits = ['사과','딸기','바나나']\n",
        "myList = [n1,fruits,20,30,'슈퍼맨','True',[1,2,3],'Hello','파이썬']\n",
        "myList"
      ],
      "execution_count": null,
      "outputs": [
        {
          "output_type": "execute_result",
          "data": {
            "text/plain": [
              "[100, ['사과', '딸기', '바나나'], 20, 30, '슈펴맨', 'True', [1, 2, 3], 'Hello', '파이썬']"
            ]
          },
          "metadata": {
            "tags": []
          },
          "execution_count": 9
        }
      ]
    },
    {
      "cell_type": "markdown",
      "metadata": {
        "id": "uZeEWrp5AH_s"
      },
      "source": [
        "**초기값이 있는 리스트 생성**"
      ]
    },
    {
      "cell_type": "code",
      "metadata": {
        "colab": {
          "base_uri": "https://localhost:8080/"
        },
        "id": "4sOndpsL8sFD",
        "outputId": "72798461-99e2-4876-a6b3-a568069deeca"
      },
      "source": [
        "#리스트명 = [요소1,....요소5]\n",
        "list1 = [1,2,3,4,5]\n",
        "list1"
      ],
      "execution_count": null,
      "outputs": [
        {
          "output_type": "execute_result",
          "data": {
            "text/plain": [
              "[1, 2, 3, 4, 5]"
            ]
          },
          "metadata": {
            "tags": []
          },
          "execution_count": 10
        }
      ]
    },
    {
      "cell_type": "code",
      "metadata": {
        "colab": {
          "base_uri": "https://localhost:8080/"
        },
        "id": "OQIbTumf9D8H",
        "outputId": "151654dc-a783-4073-a9a5-1f7dfd1eb131"
      },
      "source": [
        "#리스트명 = list(range(시작값,끝값,간격))\n",
        "l1 = list(range(1,6))\n",
        "l1"
      ],
      "execution_count": null,
      "outputs": [
        {
          "output_type": "execute_result",
          "data": {
            "text/plain": [
              "[1, 2, 3, 4, 5]"
            ]
          },
          "metadata": {
            "tags": []
          },
          "execution_count": 11
        }
      ]
    },
    {
      "cell_type": "markdown",
      "metadata": {
        "id": "-ybIo4K6_TgD"
      },
      "source": [
        "**빈 리스트 생성하기**"
      ]
    },
    {
      "cell_type": "code",
      "metadata": {
        "colab": {
          "base_uri": "https://localhost:8080/"
        },
        "id": "bA63iX789J4X",
        "outputId": "3b7f30ae-5e08-49dd-bcf3-74014c1eea82"
      },
      "source": [
        "list3 = [] #리스트명 = []\n",
        "13"
      ],
      "execution_count": null,
      "outputs": [
        {
          "output_type": "execute_result",
          "data": {
            "text/plain": [
              "13"
            ]
          },
          "metadata": {
            "tags": []
          },
          "execution_count": 12
        }
      ]
    },
    {
      "cell_type": "code",
      "metadata": {
        "colab": {
          "base_uri": "https://localhost:8080/"
        },
        "id": "FJ4J4hrk9OAL",
        "outputId": "3d0d3cc4-6cbe-4350-917e-f3539e1f7735"
      },
      "source": [
        "list4 = list() #리스트명 = list()\n",
        "list4"
      ],
      "execution_count": null,
      "outputs": [
        {
          "output_type": "execute_result",
          "data": {
            "text/plain": [
              "[]"
            ]
          },
          "metadata": {
            "tags": []
          },
          "execution_count": 15
        }
      ]
    },
    {
      "cell_type": "markdown",
      "metadata": {
        "id": "YvCw_P6j_eIQ"
      },
      "source": [
        "**for문을 이용하여 리스트의 요소 출력하기**"
      ]
    },
    {
      "cell_type": "code",
      "metadata": {
        "colab": {
          "base_uri": "https://localhost:8080/"
        },
        "id": "5IRZPuY11vUs",
        "outputId": "7312f876-97a2-4ae7-b114-d64d834d030a"
      },
      "source": [
        "fruits = ['사과','오렌지','포도','수박','바나나']\n",
        "for fruit in fruits:\n",
        "    print(fruit)"
      ],
      "execution_count": 5,
      "outputs": [
        {
          "output_type": "stream",
          "text": [
            "사과\n",
            "오렌지\n",
            "포도\n",
            "수박\n",
            "바나나\n"
          ],
          "name": "stdout"
        }
      ]
    },
    {
      "cell_type": "code",
      "metadata": {
        "colab": {
          "base_uri": "https://localhost:8080/"
        },
        "id": "lHonoatxDhY0",
        "outputId": "81a135d8-f481-4b2a-a1af-8bbafe0c7dfc"
      },
      "source": [
        "fruits = ['사과','오렌지','포도','수박','바나나']\n",
        "for fruits in range(2):\n",
        "    print(fruit)"
      ],
      "execution_count": null,
      "outputs": [
        {
          "output_type": "stream",
          "text": [
            "바나나\n",
            "바나나\n"
          ],
          "name": "stdout"
        }
      ]
    },
    {
      "cell_type": "code",
      "metadata": {
        "colab": {
          "base_uri": "https://localhost:8080/"
        },
        "id": "mSKAlxBq-FSA",
        "outputId": "8dc55bcf-7b83-4d59-ca71-bd757b4bc93e"
      },
      "source": [
        "#리스트 출력하기\n",
        "fruits = ['사과','오렌지','포도','수박','바나나']\n",
        "for fruit in fruits:\n",
        "    print(fruit,end=' ') #end: space"
      ],
      "execution_count": null,
      "outputs": [
        {
          "output_type": "stream",
          "text": [
            "사과 오렌지 포도 수박 바나나 "
          ],
          "name": "stdout"
        }
      ]
    },
    {
      "cell_type": "code",
      "metadata": {
        "colab": {
          "base_uri": "https://localhost:8080/"
        },
        "id": "cLzZ-Y3NAQ9w",
        "outputId": "4b1e1383-84f0-4007-ddbb-b5bf7328ca46"
      },
      "source": [
        "#리스트 출력하기\n",
        "fruits = ['사과','오렌지','포도','수박','바나나']\n",
        "for fruit in fruits:\n",
        "    print(fruit,end='') #end: no space"
      ],
      "execution_count": null,
      "outputs": [
        {
          "output_type": "stream",
          "text": [
            "사과오렌지포도수박바나나"
          ],
          "name": "stdout"
        }
      ]
    },
    {
      "cell_type": "code",
      "metadata": {
        "colab": {
          "base_uri": "https://localhost:8080/"
        },
        "id": "CXICysKKBnpY",
        "outputId": "943e2dab-6b9d-4b3c-a52b-8f6a0ead367a"
      },
      "source": [
        "#리스트 출력하기\n",
        "fruits = ['사과','오렌지','포도','수박','바나나']\n",
        "for fruit in fruits:\n",
        "    print(fruit,end='...') #end: ..."
      ],
      "execution_count": null,
      "outputs": [
        {
          "output_type": "stream",
          "text": [
            "사과...오렌지...포도...수박...바나나..."
          ],
          "name": "stdout"
        }
      ]
    },
    {
      "cell_type": "code",
      "metadata": {
        "colab": {
          "base_uri": "https://localhost:8080/"
        },
        "id": "p3L9aG6oAikC",
        "outputId": "257ab94e-866d-42c3-ce86-af318f7a9792"
      },
      "source": [
        "#리스트 출력하기\n",
        "fruits = ['사과','오렌지','포도','수박','바나나']\n",
        "for i in fruits:\n",
        "    print(type(i))\n",
        "    print(i)"
      ],
      "execution_count": null,
      "outputs": [
        {
          "output_type": "stream",
          "text": [
            "<class 'str'>\n",
            "사과\n",
            "<class 'str'>\n",
            "오렌지\n",
            "<class 'str'>\n",
            "포도\n",
            "<class 'str'>\n",
            "수박\n",
            "<class 'str'>\n",
            "바나나\n"
          ],
          "name": "stdout"
        }
      ]
    },
    {
      "cell_type": "markdown",
      "metadata": {
        "id": "7TVORbNID3Zb"
      },
      "source": [
        "# 리스트 요소 추출: 인덱싱\n",
        "\n",
        "**인덱스를 사용하여 해당 인덱스가 지정하는 요소 추출**\n",
        "\n",
        "리스트명 [index]"
      ]
    },
    {
      "cell_type": "code",
      "metadata": {
        "colab": {
          "base_uri": "https://localhost:8080/",
          "height": 35
        },
        "id": "Y-jXHajiA5U6",
        "outputId": "5e59dc58-6cd0-434f-c12e-c031db298125"
      },
      "source": [
        "fruits = ['사과','오렌지','포도','수박','바나나']\n",
        "fruits[1]"
      ],
      "execution_count": null,
      "outputs": [
        {
          "output_type": "execute_result",
          "data": {
            "application/vnd.google.colaboratory.intrinsic+json": {
              "type": "string"
            },
            "text/plain": [
              "'오렌지'"
            ]
          },
          "metadata": {
            "tags": []
          },
          "execution_count": 34
        }
      ]
    },
    {
      "cell_type": "code",
      "metadata": {
        "colab": {
          "base_uri": "https://localhost:8080/",
          "height": 35
        },
        "id": "ixZFBO-xEMV2",
        "outputId": "6f780929-bb65-417c-e6c1-ff4cee64e7df"
      },
      "source": [
        "fruits = ['사과','오렌지','포도','수박','바나나']\n",
        "fruits[-4]"
      ],
      "execution_count": null,
      "outputs": [
        {
          "output_type": "execute_result",
          "data": {
            "application/vnd.google.colaboratory.intrinsic+json": {
              "type": "string"
            },
            "text/plain": [
              "'오렌지'"
            ]
          },
          "metadata": {
            "tags": []
          },
          "execution_count": 35
        }
      ]
    },
    {
      "cell_type": "code",
      "metadata": {
        "colab": {
          "base_uri": "https://localhost:8080/"
        },
        "id": "Jddw2yMiEvk5",
        "outputId": "3540c9c1-e360-4a40-a050-68d7e3ff07c2"
      },
      "source": [
        "fruits = ['사과','오렌지','포도',['수박','바나나']]\n",
        "fruits[3]"
      ],
      "execution_count": null,
      "outputs": [
        {
          "output_type": "execute_result",
          "data": {
            "text/plain": [
              "['수박', '바나나']"
            ]
          },
          "metadata": {
            "tags": []
          },
          "execution_count": 37
        }
      ]
    },
    {
      "cell_type": "code",
      "metadata": {
        "colab": {
          "base_uri": "https://localhost:8080/",
          "height": 35
        },
        "id": "vWadGoYPE7_O",
        "outputId": "ded88a38-7ee1-4389-802d-e8fa993dcd3a"
      },
      "source": [
        "fruits = [['사과','오렌지'],'포도',['수박','바나나']]\n",
        "fruits[-2]"
      ],
      "execution_count": null,
      "outputs": [
        {
          "output_type": "execute_result",
          "data": {
            "application/vnd.google.colaboratory.intrinsic+json": {
              "type": "string"
            },
            "text/plain": [
              "'포도'"
            ]
          },
          "metadata": {
            "tags": []
          },
          "execution_count": 38
        }
      ]
    },
    {
      "cell_type": "code",
      "metadata": {
        "colab": {
          "base_uri": "https://localhost:8080/"
        },
        "id": "rpSGrTePFF1h",
        "outputId": "5acc2b30-ba4d-40e0-d335-f1b6d802334f"
      },
      "source": [
        "a = [1,2,3,4,5]\n",
        "a[2]+a[4]"
      ],
      "execution_count": null,
      "outputs": [
        {
          "output_type": "execute_result",
          "data": {
            "text/plain": [
              "8"
            ]
          },
          "metadata": {
            "tags": []
          },
          "execution_count": 39
        }
      ]
    },
    {
      "cell_type": "code",
      "metadata": {
        "colab": {
          "base_uri": "https://localhost:8080/"
        },
        "id": "4Jjf5iXpFJoX",
        "outputId": "b7a119ea-d957-4bd2-e593-00ffde04e38d"
      },
      "source": [
        "a = [1,2,3,4,5]\n",
        "a[-2]+a[-3] #끝에서 두번째, 끝에서 세번째 값을 가져온다"
      ],
      "execution_count": null,
      "outputs": [
        {
          "output_type": "execute_result",
          "data": {
            "text/plain": [
              "7"
            ]
          },
          "metadata": {
            "tags": []
          },
          "execution_count": 41
        }
      ]
    },
    {
      "cell_type": "code",
      "metadata": {
        "colab": {
          "base_uri": "https://localhost:8080/",
          "height": 35
        },
        "id": "CaimII5MFNd_",
        "outputId": "3ca0e7df-f290-442f-a432-ca4e44056afe"
      },
      "source": [
        "#수박을 추출하려면?\n",
        "fruits = ['사과','오렌지',['포도','수박','바나나']]\n",
        "fruits[2][1]"
      ],
      "execution_count": null,
      "outputs": [
        {
          "output_type": "execute_result",
          "data": {
            "application/vnd.google.colaboratory.intrinsic+json": {
              "type": "string"
            },
            "text/plain": [
              "'수박'"
            ]
          },
          "metadata": {
            "tags": []
          },
          "execution_count": 1
        }
      ]
    },
    {
      "cell_type": "code",
      "metadata": {
        "colab": {
          "base_uri": "https://localhost:8080/",
          "height": 35
        },
        "id": "6VScLDPDFpHy",
        "outputId": "8091c8e4-7b78-4ae1-cb64-02edf289a787"
      },
      "source": [
        "#바나나를 추출하려면?\n",
        "fruits = ['사과','오렌지',['포도','수박','바나나']]\n",
        "fruits[2][2]"
      ],
      "execution_count": null,
      "outputs": [
        {
          "output_type": "execute_result",
          "data": {
            "application/vnd.google.colaboratory.intrinsic+json": {
              "type": "string"
            },
            "text/plain": [
              "'바나나'"
            ]
          },
          "metadata": {
            "tags": []
          },
          "execution_count": 2
        }
      ]
    },
    {
      "cell_type": "code",
      "metadata": {
        "colab": {
          "base_uri": "https://localhost:8080/",
          "height": 35
        },
        "id": "Trbn0nEyGH8a",
        "outputId": "4c488975-6152-461e-a2c4-cb4293917c36"
      },
      "source": [
        "#포도를 추출하려면?\n",
        "fruits = ['사과','오렌지',['포도','수박','바나나']]\n",
        "fruits[2][0]"
      ],
      "execution_count": null,
      "outputs": [
        {
          "output_type": "execute_result",
          "data": {
            "application/vnd.google.colaboratory.intrinsic+json": {
              "type": "string"
            },
            "text/plain": [
              "'포도'"
            ]
          },
          "metadata": {
            "tags": []
          },
          "execution_count": 45
        }
      ]
    },
    {
      "cell_type": "code",
      "metadata": {
        "colab": {
          "base_uri": "https://localhost:8080/",
          "height": 35
        },
        "id": "KwynrCAxGNIX",
        "outputId": "24816287-693f-4e91-ad03-6e8f0bfadbd1"
      },
      "source": [
        "#Life를 추출하려면?\n",
        "a = [1,2,['a','b',['Life','is']]]\n",
        "a[2][2][0]"
      ],
      "execution_count": null,
      "outputs": [
        {
          "output_type": "execute_result",
          "data": {
            "application/vnd.google.colaboratory.intrinsic+json": {
              "type": "string"
            },
            "text/plain": [
              "'Life'"
            ]
          },
          "metadata": {
            "tags": []
          },
          "execution_count": 47
        }
      ]
    },
    {
      "cell_type": "code",
      "metadata": {
        "colab": {
          "base_uri": "https://localhost:8080/",
          "height": 35
        },
        "id": "0vrw3Ov3Gd_J",
        "outputId": "c8d6663b-1e49-4636-9b4b-2f4c8bdd3092"
      },
      "source": [
        "#is를 추출하려면?\n",
        "a = [1,2,['a','b',['Life','is']]]\n",
        "a[2][2][1]"
      ],
      "execution_count": null,
      "outputs": [
        {
          "output_type": "execute_result",
          "data": {
            "application/vnd.google.colaboratory.intrinsic+json": {
              "type": "string"
            },
            "text/plain": [
              "'is'"
            ]
          },
          "metadata": {
            "tags": []
          },
          "execution_count": 48
        }
      ]
    },
    {
      "cell_type": "code",
      "metadata": {
        "colab": {
          "base_uri": "https://localhost:8080/",
          "height": 35
        },
        "id": "9Afl-mqeG0bc",
        "outputId": "b537c309-569a-4bae-8ce5-0aaed6dafb45"
      },
      "source": [
        "#a를 추출하려면?\n",
        "a = [1,2,['a','b',['Life','is']]]\n",
        "a[2][0]"
      ],
      "execution_count": null,
      "outputs": [
        {
          "output_type": "execute_result",
          "data": {
            "application/vnd.google.colaboratory.intrinsic+json": {
              "type": "string"
            },
            "text/plain": [
              "'a'"
            ]
          },
          "metadata": {
            "tags": []
          },
          "execution_count": 49
        }
      ]
    },
    {
      "cell_type": "code",
      "metadata": {
        "colab": {
          "base_uri": "https://localhost:8080/",
          "height": 35
        },
        "id": "JOwrMYSqG5Ej",
        "outputId": "cfde2527-cc82-4e17-8b6e-019c5c5612d4"
      },
      "source": [
        "#b를 추출하려면?\n",
        "a = [1,2,['a','b',['Life','is']]]\n",
        "a[2][1]"
      ],
      "execution_count": null,
      "outputs": [
        {
          "output_type": "execute_result",
          "data": {
            "application/vnd.google.colaboratory.intrinsic+json": {
              "type": "string"
            },
            "text/plain": [
              "'b'"
            ]
          },
          "metadata": {
            "tags": []
          },
          "execution_count": 50
        }
      ]
    },
    {
      "cell_type": "markdown",
      "metadata": {
        "id": "1kfTHrQ_HKKw"
      },
      "source": [
        "**리스트 요소 추출: 슬라이싱**\n",
        "\n",
        "슬라이싱 기법으로 한 번에 여러 개의 요소들을 추출할 수 있다\n",
        "\n",
        "리스트명[시작인덱스:끝인덱스]\n",
        "\n",
        "*단, 끝인덱스 요소는 포함하지 않음*"
      ]
    },
    {
      "cell_type": "code",
      "metadata": {
        "colab": {
          "base_uri": "https://localhost:8080/"
        },
        "id": "mfNsKiDDG_mC",
        "outputId": "06232ef5-94b7-4d27-9c30-d62b2ebf02c2"
      },
      "source": [
        "numb = [1,2,3,4,5,6,7,8,9,10]\n",
        "numb[3:8]"
      ],
      "execution_count": null,
      "outputs": [
        {
          "output_type": "execute_result",
          "data": {
            "text/plain": [
              "[4, 5, 6, 7, 8]"
            ]
          },
          "metadata": {
            "tags": []
          },
          "execution_count": 51
        }
      ]
    },
    {
      "cell_type": "code",
      "metadata": {
        "colab": {
          "base_uri": "https://localhost:8080/"
        },
        "id": "as95NcNKIRhe",
        "outputId": "0430e738-4300-4041-c5a5-736a12e70390"
      },
      "source": [
        "numb = list(range(11))\n",
        "numb[3:8]"
      ],
      "execution_count": null,
      "outputs": [
        {
          "output_type": "execute_result",
          "data": {
            "text/plain": [
              "[3, 4, 5, 6, 7]"
            ]
          },
          "metadata": {
            "tags": []
          },
          "execution_count": 56
        }
      ]
    },
    {
      "cell_type": "code",
      "metadata": {
        "colab": {
          "base_uri": "https://localhost:8080/"
        },
        "id": "-vh_ggN_Hwgm",
        "outputId": "b75d7d2a-4004-46d9-c0a3-59e94d1d7931"
      },
      "source": [
        "numb = [1,2,3,4,5,6,7,8,9,10]\n",
        "numb[-7:-2]"
      ],
      "execution_count": null,
      "outputs": [
        {
          "output_type": "execute_result",
          "data": {
            "text/plain": [
              "[4, 5, 6, 7, 8]"
            ]
          },
          "metadata": {
            "tags": []
          },
          "execution_count": 52
        }
      ]
    },
    {
      "cell_type": "code",
      "metadata": {
        "colab": {
          "base_uri": "https://localhost:8080/"
        },
        "id": "PA6tfFqwIDW1",
        "outputId": "4a797588-551c-4b8e-b62e-cf891f69a151"
      },
      "source": [
        "#시작인덱스 생략 (리스트 처음부터라고 가정)\n",
        "numb = [1,2,3,4,5,6,7,8,9,10]\n",
        "print(numb[:3])\n",
        "print(numb[0:3])"
      ],
      "execution_count": null,
      "outputs": [
        {
          "output_type": "stream",
          "text": [
            "[1, 2, 3]\n",
            "[1, 2, 3]\n"
          ],
          "name": "stdout"
        }
      ]
    },
    {
      "cell_type": "code",
      "metadata": {
        "colab": {
          "base_uri": "https://localhost:8080/"
        },
        "id": "-bkIg3tVJ7qy",
        "outputId": "19235fd9-174c-4537-e405-198f7f2cecdd"
      },
      "source": [
        "#끝인덱스 생략 (리스트 마지막까지라고 가정)\n",
        "numb = [1,2,3,4,5,6,7,8,9,10]\n",
        "print(numb[3:])\n",
        "print(numb[3:10]) #인덱스 3번부터 10번 앞까지\n",
        "print(numb[:3])\n",
        "print(numb[3:len(numb)])"
      ],
      "execution_count": null,
      "outputs": [
        {
          "output_type": "stream",
          "text": [
            "[4, 5, 6, 7, 8, 9, 10]\n",
            "[4, 5, 6, 7, 8, 9, 10]\n",
            "[1, 2, 3]\n",
            "[4, 5, 6, 7, 8, 9, 10]\n"
          ],
          "name": "stdout"
        }
      ]
    },
    {
      "cell_type": "code",
      "metadata": {
        "colab": {
          "base_uri": "https://localhost:8080/"
        },
        "id": "JuQUeY2uQKte",
        "outputId": "592ffbf3-4a40-46be-8227-337b6f653cb0"
      },
      "source": [
        "#시작, 끝 인덱스 모두 생략 (리스트 전체라고 가정)\n",
        "print(numb[:])\n",
        "print(numb)"
      ],
      "execution_count": null,
      "outputs": [
        {
          "output_type": "stream",
          "text": [
            "[1, 2, 3, 4, 5, 6, 7, 8, 9, 10]\n",
            "[1, 2, 3, 4, 5, 6, 7, 8, 9, 10]\n"
          ],
          "name": "stdout"
        }
      ]
    },
    {
      "cell_type": "markdown",
      "metadata": {
        "id": "mDEDOsnNJCqS"
      },
      "source": [
        "**특정 간격으로 슬라이싱**\n",
        "\n",
        "리스트명[시작인덱스: 끝인덱스: 간격]"
      ]
    },
    {
      "cell_type": "code",
      "metadata": {
        "colab": {
          "base_uri": "https://localhost:8080/"
        },
        "id": "Kj6WMUSTI-_i",
        "outputId": "08e8db40-553d-4b7f-bbf4-002cbd136f53"
      },
      "source": [
        "numb = [1,2,3,4,5,6,7,8,9,10]\n",
        "numb[3:8:2] #3번 인덱스부터 7번 인덱스까지 2 간격으로 추출"
      ],
      "execution_count": null,
      "outputs": [
        {
          "output_type": "execute_result",
          "data": {
            "text/plain": [
              "[4, 6, 8]"
            ]
          },
          "metadata": {
            "tags": []
          },
          "execution_count": 59
        }
      ]
    },
    {
      "cell_type": "code",
      "metadata": {
        "colab": {
          "base_uri": "https://localhost:8080/"
        },
        "id": "KTk0gOibJcbE",
        "outputId": "e8999039-9c63-4d30-e61f-95deb5a07d7c"
      },
      "source": [
        "numb = [1,2,3,4,5,6,7,8,9,10]\n",
        "numb[-7:-2:2] #-7번 인덱스부터 -2번 인덱스까지 2 간격으로 추출"
      ],
      "execution_count": null,
      "outputs": [
        {
          "output_type": "execute_result",
          "data": {
            "text/plain": [
              "[4, 6, 8]"
            ]
          },
          "metadata": {
            "tags": []
          },
          "execution_count": 60
        }
      ]
    },
    {
      "cell_type": "markdown",
      "metadata": {
        "id": "-qd92q2nKZkL"
      },
      "source": [
        "**역순으로 항목 추출**\n",
        "\n",
        "리스트명[시작인덱스:끝인덱스:간격(음수)]"
      ]
    },
    {
      "cell_type": "code",
      "metadata": {
        "colab": {
          "base_uri": "https://localhost:8080/"
        },
        "id": "bAEknbEsJg0w",
        "outputId": "eaba3a6b-82ca-4ed2-e30d-88777a089443"
      },
      "source": [
        "numb = [1,2,3,4,5,6,7,8,9,10]\n",
        "numb[-3:-8:-2] #거꾸로"
      ],
      "execution_count": null,
      "outputs": [
        {
          "output_type": "execute_result",
          "data": {
            "text/plain": [
              "[8, 6, 4]"
            ]
          },
          "metadata": {
            "tags": []
          },
          "execution_count": 65
        }
      ]
    },
    {
      "cell_type": "code",
      "metadata": {
        "colab": {
          "base_uri": "https://localhost:8080/"
        },
        "id": "fV2R4pbCKKrJ",
        "outputId": "37ab582a-1aa4-4052-bb69-cdb7f612600c"
      },
      "source": [
        "numb = [1,2,3,4,5,6,7,8,9,10]\n",
        "numb[7:2:-2]"
      ],
      "execution_count": null,
      "outputs": [
        {
          "output_type": "execute_result",
          "data": {
            "text/plain": [
              "[8, 6, 4]"
            ]
          },
          "metadata": {
            "tags": []
          },
          "execution_count": 66
        }
      ]
    },
    {
      "cell_type": "code",
      "metadata": {
        "colab": {
          "base_uri": "https://localhost:8080/"
        },
        "id": "BvQZXVTfKedj",
        "outputId": "dd5338af-b500-44d0-ae5c-284c63a57f8e"
      },
      "source": [
        "numb = [1,2,3,4,5,6,7,8,9,10]\n",
        "print(numb[8:3:-1])\n",
        "numb[-2:-7:-1]"
      ],
      "execution_count": null,
      "outputs": [
        {
          "output_type": "stream",
          "text": [
            "[9, 8, 7, 6, 5]\n"
          ],
          "name": "stdout"
        },
        {
          "output_type": "execute_result",
          "data": {
            "text/plain": [
              "[9, 8, 7, 6, 5]"
            ]
          },
          "metadata": {
            "tags": []
          },
          "execution_count": 70
        }
      ]
    },
    {
      "cell_type": "code",
      "metadata": {
        "colab": {
          "base_uri": "https://localhost:8080/"
        },
        "id": "k3k3RlauLEC-",
        "outputId": "ee7aa935-adc5-49d1-f88f-dfa1beddf13d"
      },
      "source": [
        "#Error appeared\n",
        "numb = [1,2,3,4,5,6,7,8,9,10]\n",
        "print(numb[::-1])"
      ],
      "execution_count": null,
      "outputs": [
        {
          "output_type": "stream",
          "text": [
            "[10, 9, 8, 7, 6, 5, 4, 3, 2, 1]\n"
          ],
          "name": "stdout"
        }
      ]
    },
    {
      "cell_type": "code",
      "metadata": {
        "colab": {
          "base_uri": "https://localhost:8080/"
        },
        "id": "oR1wk-b5LbH7",
        "outputId": "e4dc21d5-84bc-4bba-d7d3-67e82afd792f"
      },
      "source": [
        "#결과값은?\n",
        "a = [1,2,3,['a','b','c'],4,5]\n",
        "a[2:5]"
      ],
      "execution_count": null,
      "outputs": [
        {
          "output_type": "execute_result",
          "data": {
            "text/plain": [
              "[3, ['a', 'b', 'c'], 4]"
            ]
          },
          "metadata": {
            "tags": []
          },
          "execution_count": 76
        }
      ]
    },
    {
      "cell_type": "code",
      "metadata": {
        "colab": {
          "base_uri": "https://localhost:8080/"
        },
        "id": "z3e_9eGJLpNP",
        "outputId": "1705150b-f7aa-4040-805e-a1aa5f09dea3"
      },
      "source": [
        "#이해 불가!!!\n",
        "a = [1,2,3,['a','b','c'],4,5]\n",
        "a[-5:-3]"
      ],
      "execution_count": null,
      "outputs": [
        {
          "output_type": "execute_result",
          "data": {
            "text/plain": [
              "[2, 3]"
            ]
          },
          "metadata": {
            "tags": []
          },
          "execution_count": 74
        }
      ]
    },
    {
      "cell_type": "markdown",
      "metadata": {
        "id": "XwbauVBXMNEP"
      },
      "source": [
        "# 리스트 연산하기 (더하기, 곱하기)"
      ]
    },
    {
      "cell_type": "code",
      "metadata": {
        "colab": {
          "base_uri": "https://localhost:8080/"
        },
        "id": "PSx4c-ccLsmn",
        "outputId": "3b58936b-f330-41c4-8028-5a938c7c8919"
      },
      "source": [
        "#리스트 더하기\n",
        "a = [1,2,3]\n",
        "b = [4,5,6]\n",
        "a+b"
      ],
      "execution_count": null,
      "outputs": [
        {
          "output_type": "execute_result",
          "data": {
            "text/plain": [
              "[1, 2, 3, 4, 5, 6]"
            ]
          },
          "metadata": {
            "tags": []
          },
          "execution_count": 77
        }
      ]
    },
    {
      "cell_type": "code",
      "metadata": {
        "colab": {
          "base_uri": "https://localhost:8080/"
        },
        "id": "tFumjWiJMWOm",
        "outputId": "3c787310-6e0f-4df7-c67f-cc43a799bc7f"
      },
      "source": [
        "#리스트 곱하기\n",
        "#요소값이 여러번 반복된 새로운 리스트를 만든다\n",
        "a = [1,2,3]\n",
        "b = a*3\n",
        "b"
      ],
      "execution_count": null,
      "outputs": [
        {
          "output_type": "execute_result",
          "data": {
            "text/plain": [
              "[1, 2, 3, 1, 2, 3, 1, 2, 3]"
            ]
          },
          "metadata": {
            "tags": []
          },
          "execution_count": 81
        }
      ]
    },
    {
      "cell_type": "markdown",
      "metadata": {
        "id": "WaYtKy0TNF2G"
      },
      "source": [
        "# 리스트 크기(길이) 구하기\n",
        "\n",
        "**리스트 요소의 개수를 구한다**\n",
        "\n",
        "len(리스트명)"
      ]
    },
    {
      "cell_type": "code",
      "metadata": {
        "colab": {
          "base_uri": "https://localhost:8080/"
        },
        "id": "LqbWYJukMqDD",
        "outputId": "9c9dd7f9-e098-4fd5-9696-27aa4b5030d3"
      },
      "source": [
        "fruits = ['사과','오렌지','포도','수박','바나나']\n",
        "len(fruits)"
      ],
      "execution_count": null,
      "outputs": [
        {
          "output_type": "execute_result",
          "data": {
            "text/plain": [
              "5"
            ]
          },
          "metadata": {
            "tags": []
          },
          "execution_count": 82
        }
      ]
    },
    {
      "cell_type": "markdown",
      "metadata": {
        "id": "gL-M4HdCOulE"
      },
      "source": [
        "# 리스트 요소값 변경하기\n",
        "\n",
        "**지정한 인덱스의 요소값을 변경한다**\n",
        "\n",
        "리스트명[index] = item"
      ]
    },
    {
      "cell_type": "code",
      "metadata": {
        "colab": {
          "base_uri": "https://localhost:8080/"
        },
        "id": "N5UK409jNf-s",
        "outputId": "666c9a66-2a13-418f-fc4d-7dfcbec710a2"
      },
      "source": [
        "#1번 인덱스의 '오렌지'를 '망고'로 변경\n",
        "fruits = ['사과','오렌지','포도','수박','바나나']\n",
        "fruits[1] = '망고'\n",
        "fruits"
      ],
      "execution_count": null,
      "outputs": [
        {
          "output_type": "execute_result",
          "data": {
            "text/plain": [
              "['사과', '망고', '포도', '수박', '바나나']"
            ]
          },
          "metadata": {
            "tags": []
          },
          "execution_count": 84
        }
      ]
    },
    {
      "cell_type": "code",
      "metadata": {
        "colab": {
          "base_uri": "https://localhost:8080/"
        },
        "id": "95zCUITGNvjO",
        "outputId": "f0fbeda6-1b0e-48d7-837e-f3bd2202f791"
      },
      "source": [
        "#인덱스에서 변수나 수식을 사용할 수 있다\n",
        "fruits = ['사과','오렌지','포도','수박','바나나']\n",
        "k=1\n",
        "fruits[k+2] = '망고' #인덱스 3은 '수박'\n",
        "fruits"
      ],
      "execution_count": null,
      "outputs": [
        {
          "output_type": "execute_result",
          "data": {
            "text/plain": [
              "['사과', '오렌지', '포도', '망고', '바나나']"
            ]
          },
          "metadata": {
            "tags": []
          },
          "execution_count": 85
        }
      ]
    },
    {
      "cell_type": "code",
      "metadata": {
        "colab": {
          "base_uri": "https://localhost:8080/"
        },
        "id": "NX0KoMHcN6jR",
        "outputId": "2acf2508-6553-449e-a07e-e7c302e310a7"
      },
      "source": [
        "#인덱스에서 변수나 수식을 사용할 수 있다\n",
        "fruits = ['사과','오렌지','포도','수박','바나나']\n",
        "k=1\n",
        "fruits[k+2] = '망고' #인덱스 3은 '수박'\n",
        "fruits"
      ],
      "execution_count": null,
      "outputs": [
        {
          "output_type": "execute_result",
          "data": {
            "text/plain": [
              "['사과', '오렌지', '포도', '망고', '바나나']"
            ]
          },
          "metadata": {
            "tags": []
          },
          "execution_count": 93
        }
      ]
    },
    {
      "cell_type": "markdown",
      "metadata": {
        "id": "HLYynGcmRZ91"
      },
      "source": [
        "**인덱스 범위를 초과하면 안된다**"
      ]
    },
    {
      "cell_type": "code",
      "metadata": {
        "colab": {
          "base_uri": "https://localhost:8080/",
          "height": 213
        },
        "id": "SVOo7GmyRXbc",
        "outputId": "5414795a-5afc-48ce-afed-c8042a0da324"
      },
      "source": [
        "fruits = ['사과','오렌지','포도','수박','바나나']\n",
        "fruits[5] = '망고'\n",
        "fruits"
      ],
      "execution_count": null,
      "outputs": [
        {
          "output_type": "error",
          "ename": "IndexError",
          "evalue": "ignored",
          "traceback": [
            "\u001b[0;31m---------------------------------------------------------------------------\u001b[0m",
            "\u001b[0;31mIndexError\u001b[0m                                Traceback (most recent call last)",
            "\u001b[0;32m<ipython-input-94-bf18f460d4ca>\u001b[0m in \u001b[0;36m<module>\u001b[0;34m()\u001b[0m\n\u001b[1;32m      1\u001b[0m \u001b[0mfruits\u001b[0m \u001b[0;34m=\u001b[0m \u001b[0;34m[\u001b[0m\u001b[0;34m'사과'\u001b[0m\u001b[0;34m,\u001b[0m\u001b[0;34m'오렌지'\u001b[0m\u001b[0;34m,\u001b[0m\u001b[0;34m'포도'\u001b[0m\u001b[0;34m,\u001b[0m\u001b[0;34m'수박'\u001b[0m\u001b[0;34m,\u001b[0m\u001b[0;34m'바나나'\u001b[0m\u001b[0;34m]\u001b[0m\u001b[0;34m\u001b[0m\u001b[0;34m\u001b[0m\u001b[0m\n\u001b[0;32m----> 2\u001b[0;31m \u001b[0mfruits\u001b[0m\u001b[0;34m[\u001b[0m\u001b[0;36m5\u001b[0m\u001b[0;34m]\u001b[0m \u001b[0;34m=\u001b[0m \u001b[0;34m'망고'\u001b[0m\u001b[0;34m\u001b[0m\u001b[0;34m\u001b[0m\u001b[0m\n\u001b[0m\u001b[1;32m      3\u001b[0m \u001b[0mfruits\u001b[0m\u001b[0;34m\u001b[0m\u001b[0;34m\u001b[0m\u001b[0m\n",
            "\u001b[0;31mIndexError\u001b[0m: list assignment index out of range"
          ]
        }
      ]
    },
    {
      "cell_type": "markdown",
      "metadata": {
        "id": "-JT2m0yBSA9S"
      },
      "source": [
        "**슬라이싱으로 여러 개의 항목을 한번에 변경**\n",
        "\n",
        "리스트명[시작인덱스:끝인덱스] = [item1,item2,...,itemN]"
      ]
    },
    {
      "cell_type": "code",
      "metadata": {
        "colab": {
          "base_uri": "https://localhost:8080/"
        },
        "id": "mxV_J0lxRZO0",
        "outputId": "84ae53df-928e-4b49-b2b2-42c0564d3b5d"
      },
      "source": [
        "#슬라이싱이 적용된 위치의 항목이 변경된다\n",
        "fruits = ['사과','오렌지','포도','복숭아','바나나']\n",
        "fruits[1:2] = ['수박','망고','키위']\n",
        "fruits"
      ],
      "execution_count": null,
      "outputs": [
        {
          "output_type": "execute_result",
          "data": {
            "text/plain": [
              "['사과', '수박', '망고', '키위', '포도', '복숭아', '바나나']"
            ]
          },
          "metadata": {
            "tags": []
          },
          "execution_count": 102
        }
      ]
    },
    {
      "cell_type": "code",
      "metadata": {
        "colab": {
          "base_uri": "https://localhost:8080/"
        },
        "id": "d5erql_5Sa13",
        "outputId": "17e25691-ca79-48c5-b8cd-a96238373473"
      },
      "source": [
        "fruits = ['사과','오렌지','포도','복숭아','바나나']\n",
        "fruits[3:4] = ['수박','망고','키위']\n",
        "fruits"
      ],
      "execution_count": null,
      "outputs": [
        {
          "output_type": "execute_result",
          "data": {
            "text/plain": [
              "['사과', '오렌지', '포도', '수박', '망고', '키위', '바나나']"
            ]
          },
          "metadata": {
            "tags": []
          },
          "execution_count": 101
        }
      ]
    },
    {
      "cell_type": "code",
      "metadata": {
        "colab": {
          "base_uri": "https://localhost:8080/"
        },
        "id": "Ki68IJTRRtNG",
        "outputId": "81dc627c-1a66-49f6-b9ba-abd2edbfe2ed"
      },
      "source": [
        "#슬라이싱 기호를 사용하지 않으면 리스트 안에 리스트 형태로 항목이 추가된다\n",
        "fruits = ['사과','오렌지','포도','복숭아','바나나']\n",
        "fruits[1] = ['수박','망고','키위']\n",
        "fruits"
      ],
      "execution_count": null,
      "outputs": [
        {
          "output_type": "execute_result",
          "data": {
            "text/plain": [
              "['사과', ['수박', '망고', '키위'], '포도', '복숭아', '바나나']"
            ]
          },
          "metadata": {
            "tags": []
          },
          "execution_count": 98
        }
      ]
    },
    {
      "cell_type": "code",
      "metadata": {
        "colab": {
          "base_uri": "https://localhost:8080/"
        },
        "id": "99jAAPagSUIr",
        "outputId": "ef16c153-cb52-4ddc-ef13-6c49a62e3381"
      },
      "source": [
        "fruits = ['사과','오렌지','포도','복숭아','바나나']\n",
        "fruits[4] = ['수박','망고','키위']\n",
        "fruits"
      ],
      "execution_count": null,
      "outputs": [
        {
          "output_type": "execute_result",
          "data": {
            "text/plain": [
              "['사과', '오렌지', '포도', '복숭아', ['수박', '망고', '키위']]"
            ]
          },
          "metadata": {
            "tags": []
          },
          "execution_count": 104
        }
      ]
    },
    {
      "cell_type": "code",
      "metadata": {
        "colab": {
          "base_uri": "https://localhost:8080/"
        },
        "id": "rSS1dXtzSXnS",
        "outputId": "9ab49413-91b6-42f4-8b72-91fd7666c87f"
      },
      "source": [
        "#여러개의 항목 변경 - 슬라이싱 위치에 추가\n",
        "fruits = ['사과','오렌지',['포도','복숭아'],'바나나']\n",
        "fruits[1:2] = ['수박','망고','키위']\n",
        "fruits"
      ],
      "execution_count": null,
      "outputs": [
        {
          "output_type": "execute_result",
          "data": {
            "text/plain": [
              "['사과', '수박', '망고', '키위', ['포도', '복숭아'], '바나나']"
            ]
          },
          "metadata": {
            "tags": []
          },
          "execution_count": 108
        }
      ]
    },
    {
      "cell_type": "code",
      "metadata": {
        "colab": {
          "base_uri": "https://localhost:8080/"
        },
        "id": "mctNifr3UDf5",
        "outputId": "1c4a5ab0-d9d6-43d2-d688-604c5b6bc2d5"
      },
      "source": [
        "#여러개의 항목 변경 - 슬라이싱 위치에 추가\n",
        "fruits = ['사과','오렌지','포도',['복숭아','바나나']]\n",
        "fruits[1:2] = ['수박','망고','키위']\n",
        "fruits"
      ],
      "execution_count": null,
      "outputs": [
        {
          "output_type": "execute_result",
          "data": {
            "text/plain": [
              "['사과', '수박', '망고', '키위', '포도', ['복숭아', '바나나']]"
            ]
          },
          "metadata": {
            "tags": []
          },
          "execution_count": 107
        }
      ]
    },
    {
      "cell_type": "code",
      "metadata": {
        "colab": {
          "base_uri": "https://localhost:8080/"
        },
        "id": "UrkjCT7QaSK5",
        "outputId": "3ce99150-f6a5-4bfd-e201-35ffeb79b42c"
      },
      "source": [
        "#채탕창 예시\n",
        "a = [1,2,3,4,5,6,7,8,9,10]\n",
        "a[1:2] = 200, 300, 400\n",
        "print(a)"
      ],
      "execution_count": null,
      "outputs": [
        {
          "output_type": "stream",
          "text": [
            "[1, 200, 300, 400, 3, 4, 5, 6, 7, 8, 9, 10]\n"
          ],
          "name": "stdout"
        }
      ]
    },
    {
      "cell_type": "markdown",
      "metadata": {
        "id": "banECkQ6U7eN"
      },
      "source": [
        "# 리스트 요소 삭제하기\n",
        "\n",
        "**1) 지정한 인덱스 요소를 삭제한다**\n",
        "\n",
        "del 리스트명[index]"
      ]
    },
    {
      "cell_type": "code",
      "metadata": {
        "colab": {
          "base_uri": "https://localhost:8080/"
        },
        "id": "5vyUoZ5SUQ2S",
        "outputId": "680c10d0-3d91-4f82-da77-797f9f9bc1d3"
      },
      "source": [
        "fruits = ['사과','오렌지','포도','복숭아','바나나']\n",
        "del fruits[3] #인덱스 복숭아를 삭제한다\n",
        "fruits"
      ],
      "execution_count": null,
      "outputs": [
        {
          "output_type": "execute_result",
          "data": {
            "text/plain": [
              "['사과', '오렌지', '포도', '바나나']"
            ]
          },
          "metadata": {
            "tags": []
          },
          "execution_count": 110
        }
      ]
    },
    {
      "cell_type": "code",
      "metadata": {
        "colab": {
          "base_uri": "https://localhost:8080/"
        },
        "id": "fIDNdvdUVCOX",
        "outputId": "b6d6681d-392e-4e29-aba2-631a4ea0fa8e"
      },
      "source": [
        "fruits = ['사과','오렌지','포도','복숭아','바나나']\n",
        "del fruits[3:5] #슬라이싱 기법: 여러 요소를 한꺼번에 삭제할 수 있다\n",
        "fruits"
      ],
      "execution_count": null,
      "outputs": [
        {
          "output_type": "execute_result",
          "data": {
            "text/plain": [
              "['사과', '오렌지', '포도']"
            ]
          },
          "metadata": {
            "tags": []
          },
          "execution_count": 111
        }
      ]
    },
    {
      "cell_type": "markdown",
      "metadata": {
        "id": "Aim0PZmZVtgX"
      },
      "source": [
        "**2) 리스트에서 마지막 요소를 반환하고 삭제한다**\n",
        "\n",
        "리스트명.pop()"
      ]
    },
    {
      "cell_type": "code",
      "metadata": {
        "colab": {
          "base_uri": "https://localhost:8080/"
        },
        "id": "viA3yGnpVskp",
        "outputId": "2b3ca71d-4294-4434-880d-5af7715f940f"
      },
      "source": [
        "fruits = ['사과','오렌지','포도','복숭아','바나나']\n",
        "last_fruits = fruits.pop() #마지막 요소인 바나나 삭제\n",
        "print(last_fruits)\n",
        "fruits"
      ],
      "execution_count": null,
      "outputs": [
        {
          "output_type": "stream",
          "text": [
            "바나나\n"
          ],
          "name": "stdout"
        },
        {
          "output_type": "execute_result",
          "data": {
            "text/plain": [
              "['사과', '오렌지', '포도', '복숭아']"
            ]
          },
          "metadata": {
            "tags": []
          },
          "execution_count": 113
        }
      ]
    },
    {
      "cell_type": "code",
      "metadata": {
        "colab": {
          "base_uri": "https://localhost:8080/"
        },
        "id": "VIEZ6M7SWBs5",
        "outputId": "7450a17f-6488-421b-b3bb-1fe3d9073cec"
      },
      "source": [
        "fruits = ['사과','오렌지','포도',['복숭아','바나나']]\n",
        "last_fruits = fruits.pop() #마지막 요소: ['복숭아','바나나']\n",
        "print(fruits,last_fruits)\n",
        "print(last_fruits)"
      ],
      "execution_count": null,
      "outputs": [
        {
          "output_type": "stream",
          "text": [
            "['사과', '오렌지', '포도'] ['복숭아', '바나나']\n",
            "['복숭아', '바나나']\n"
          ],
          "name": "stdout"
        }
      ]
    },
    {
      "cell_type": "code",
      "metadata": {
        "colab": {
          "base_uri": "https://localhost:8080/"
        },
        "id": "Oi_EyEgtWOY3",
        "outputId": "12c83c7c-3e40-4744-959e-7e3f8bbdab8c"
      },
      "source": [
        "fruits = ['사과','오렌지','포도',['복숭아','바나나']]\n",
        "a = fruits.pop()\n",
        "print(fruits,'*',a)"
      ],
      "execution_count": null,
      "outputs": [
        {
          "output_type": "stream",
          "text": [
            "['사과', '오렌지', '포도'] * ['복숭아', '바나나']\n"
          ],
          "name": "stdout"
        }
      ]
    },
    {
      "cell_type": "code",
      "metadata": {
        "colab": {
          "base_uri": "https://localhost:8080/"
        },
        "id": "0A7w4NX3Zpmz",
        "outputId": "42c01b64-f4e7-43d7-f77c-e70a5d2b1767"
      },
      "source": [
        "#채팅창 예시\n",
        "a = [1,2,3,4,5,6,7,8,9,10]\n",
        "pop_a = a.pop(2)\n",
        "print(pop_a)\n",
        "print(a)"
      ],
      "execution_count": null,
      "outputs": [
        {
          "output_type": "stream",
          "text": [
            "3\n",
            "[1, 2, 4, 5, 6, 7, 8, 9, 10]\n"
          ],
          "name": "stdout"
        }
      ]
    },
    {
      "cell_type": "markdown",
      "metadata": {
        "id": "AWlc9kqqXQ10"
      },
      "source": [
        "**3)요소값(not index)을 이용하여 삭제한다. 삭제하고자 하는 요소의 인덱스(위치)를 알 필요가 없다**\n",
        "\n",
        "리스트명.remove(요소}"
      ]
    },
    {
      "cell_type": "code",
      "metadata": {
        "colab": {
          "base_uri": "https://localhost:8080/"
        },
        "id": "HVCwQn5tWsTe",
        "outputId": "81ad4c93-6ab5-41ec-a48a-4f695f47d0d8"
      },
      "source": [
        "fruits = ['사과','오렌지','포도','복숭아','바나나']\n",
        "fruits.remove('바나나') \n",
        "fruits"
      ],
      "execution_count": null,
      "outputs": [
        {
          "output_type": "execute_result",
          "data": {
            "text/plain": [
              "['사과', '오렌지', '포도', '복숭아']"
            ]
          },
          "metadata": {
            "tags": []
          },
          "execution_count": 118
        }
      ]
    },
    {
      "cell_type": "code",
      "metadata": {
        "colab": {
          "base_uri": "https://localhost:8080/"
        },
        "id": "NUCnKdrAYqSM",
        "outputId": "69262b9b-e396-4c5b-fd6e-c800a7626da3"
      },
      "source": [
        "#해당 요소가 여러 개일 경우, 첫번째 만나는 요소만 삭제한다\n",
        "fruits = ['사과','오렌지','바나나','포도','복숭아','바나나']\n",
        "fruits.remove('바나나') \n",
        "fruits"
      ],
      "execution_count": null,
      "outputs": [
        {
          "output_type": "execute_result",
          "data": {
            "text/plain": [
              "['사과', '오렌지', '포도', '복숭아', '바나나']"
            ]
          },
          "metadata": {
            "tags": []
          },
          "execution_count": 120
        }
      ]
    },
    {
      "cell_type": "code",
      "metadata": {
        "colab": {
          "base_uri": "https://localhost:8080/"
        },
        "id": "2hnBEFtRackU",
        "outputId": "34536f51-57fe-47b9-d7e6-e50bba80bfd7"
      },
      "source": [
        "fruits = [1,2,3,4,5,6,7]\n",
        "fruits.remove(3) \n",
        "fruits"
      ],
      "execution_count": null,
      "outputs": [
        {
          "output_type": "execute_result",
          "data": {
            "text/plain": [
              "[1, 2, 4, 5, 6, 7]"
            ]
          },
          "metadata": {
            "tags": []
          },
          "execution_count": 124
        }
      ]
    },
    {
      "cell_type": "code",
      "metadata": {
        "colab": {
          "base_uri": "https://localhost:8080/"
        },
        "id": "z2nFkGYAall-",
        "outputId": "630daf85-1697-4cb7-93ce-f0991e652ffd"
      },
      "source": [
        "#숫자 삭제 예시\n",
        "no = [1,2,3,4,5,6,7]\n",
        "no.remove(5) \n",
        "no"
      ],
      "execution_count": null,
      "outputs": [
        {
          "output_type": "execute_result",
          "data": {
            "text/plain": [
              "[1, 2, 3, 4, 6, 7]"
            ]
          },
          "metadata": {
            "tags": []
          },
          "execution_count": 128
        }
      ]
    },
    {
      "cell_type": "code",
      "metadata": {
        "colab": {
          "base_uri": "https://localhost:8080/"
        },
        "id": "KWBX9nKBbBj4",
        "outputId": "13bf5fd8-be4f-46f5-9d76-e044801803fb"
      },
      "source": [
        "#과목 예시\n",
        "subject = ['수학','영어','국어','물리','역사']\n",
        "subject.remove('국어')\n",
        "print(subject)\n",
        "subject"
      ],
      "execution_count": null,
      "outputs": [
        {
          "output_type": "stream",
          "text": [
            "['수학', '영어', '물리', '역사']\n"
          ],
          "name": "stdout"
        },
        {
          "output_type": "execute_result",
          "data": {
            "text/plain": [
              "['수학', '영어', '물리', '역사']"
            ]
          },
          "metadata": {
            "tags": []
          },
          "execution_count": 135
        }
      ]
    },
    {
      "cell_type": "code",
      "metadata": {
        "colab": {
          "base_uri": "https://localhost:8080/"
        },
        "id": "cjhoJ-NMgTO1",
        "outputId": "833a391e-9537-4e26-ed19-40c08ee7a5ed"
      },
      "source": [
        "#모든 요소 삭제: clear()\n",
        "subject = ['수학','영어','국어','물리','역사']\n",
        "subject.clear()\n",
        "print(subject)\n",
        "subject"
      ],
      "execution_count": null,
      "outputs": [
        {
          "output_type": "stream",
          "text": [
            "[]\n"
          ],
          "name": "stdout"
        },
        {
          "output_type": "execute_result",
          "data": {
            "text/plain": [
              "[]"
            ]
          },
          "metadata": {
            "tags": []
          },
          "execution_count": 140
        }
      ]
    },
    {
      "cell_type": "code",
      "metadata": {
        "colab": {
          "base_uri": "https://localhost:8080/",
          "height": 231
        },
        "id": "Ik6Mn85JhNCy",
        "outputId": "46a8a061-e937-4750-fbb6-5ee97955f4fd"
      },
      "source": [
        "#remove()의 경우, 해당 요소가 리스트에 없으면 에러가 발생한다\n",
        "fruits = ['사과','오렌지','바나나','포도','복숭아','바나나']\n",
        "fruits.remove('참외') #존재하지 않는 요소 삭제 시도\n",
        "fruits"
      ],
      "execution_count": null,
      "outputs": [
        {
          "output_type": "error",
          "ename": "ValueError",
          "evalue": "ignored",
          "traceback": [
            "\u001b[0;31m---------------------------------------------------------------------------\u001b[0m",
            "\u001b[0;31mValueError\u001b[0m                                Traceback (most recent call last)",
            "\u001b[0;32m<ipython-input-142-366843c05be8>\u001b[0m in \u001b[0;36m<module>\u001b[0;34m()\u001b[0m\n\u001b[1;32m      1\u001b[0m \u001b[0;31m#remove()의 경우, 해당 요소가 리스트에 없으면 에러가 발생한다\u001b[0m\u001b[0;34m\u001b[0m\u001b[0;34m\u001b[0m\u001b[0;34m\u001b[0m\u001b[0m\n\u001b[1;32m      2\u001b[0m \u001b[0mfruits\u001b[0m \u001b[0;34m=\u001b[0m \u001b[0;34m[\u001b[0m\u001b[0;34m'사과'\u001b[0m\u001b[0;34m,\u001b[0m\u001b[0;34m'오렌지'\u001b[0m\u001b[0;34m,\u001b[0m\u001b[0;34m'바나나'\u001b[0m\u001b[0;34m,\u001b[0m\u001b[0;34m'포도'\u001b[0m\u001b[0;34m,\u001b[0m\u001b[0;34m'복숭아'\u001b[0m\u001b[0;34m,\u001b[0m\u001b[0;34m'바나나'\u001b[0m\u001b[0;34m]\u001b[0m\u001b[0;34m\u001b[0m\u001b[0;34m\u001b[0m\u001b[0m\n\u001b[0;32m----> 3\u001b[0;31m \u001b[0mfruits\u001b[0m\u001b[0;34m.\u001b[0m\u001b[0mremove\u001b[0m\u001b[0;34m(\u001b[0m\u001b[0;34m'참외'\u001b[0m\u001b[0;34m)\u001b[0m\u001b[0;34m\u001b[0m\u001b[0;34m\u001b[0m\u001b[0m\n\u001b[0m\u001b[1;32m      4\u001b[0m \u001b[0mfruits\u001b[0m\u001b[0;34m\u001b[0m\u001b[0;34m\u001b[0m\u001b[0m\n",
            "\u001b[0;31mValueError\u001b[0m: list.remove(x): x not in list"
          ]
        }
      ]
    },
    {
      "cell_type": "code",
      "metadata": {
        "colab": {
          "base_uri": "https://localhost:8080/"
        },
        "id": "aU0xm7y4hq0h",
        "outputId": "86e9cabf-1df7-4831-e1d9-b74762432b89"
      },
      "source": [
        "#remove()의 경우, 해당 요소가 리스트에 없으면 에러가 발생한다\n",
        "fruits = ['사과','오렌지','바나나','포도','복숭아','바나나']\n",
        "if '참외' in fruits: #'참외'가 fruits에 포함되는지 검사\n",
        "    fruits.remove('참외') \n",
        "fruits"
      ],
      "execution_count": null,
      "outputs": [
        {
          "output_type": "execute_result",
          "data": {
            "text/plain": [
              "['사과', '오렌지', '바나나', '포도', '복숭아', '바나나']"
            ]
          },
          "metadata": {
            "tags": []
          },
          "execution_count": 145
        }
      ]
    },
    {
      "cell_type": "markdown",
      "metadata": {
        "id": "3PG4AyGgi2Js"
      },
      "source": [
        "# 리스트에 요소 추가\n",
        "\n",
        "**리스트의 맨 마지막에 요소를 추가한다.**\n",
        "\n",
        "리스트명.append(요소)"
      ]
    },
    {
      "cell_type": "code",
      "metadata": {
        "colab": {
          "base_uri": "https://localhost:8080/"
        },
        "id": "3naoCxjRi039",
        "outputId": "516d5eaa-40e3-4e9b-defc-432cbc7e6c36"
      },
      "source": [
        "#리스트에 값을 추가하려면 리스트가 먼저 생성되어 있어야 한다\n",
        "fruits = ['사과','오렌지','바나나','포도','복숭아','바나나']\n",
        "fruits.append('참외') \n",
        "fruits"
      ],
      "execution_count": null,
      "outputs": [
        {
          "output_type": "execute_result",
          "data": {
            "text/plain": [
              "['사과', '오렌지', '바나나', '포도', '복숭아', '바나나', '참외']"
            ]
          },
          "metadata": {
            "tags": []
          },
          "execution_count": 146
        }
      ]
    },
    {
      "cell_type": "code",
      "metadata": {
        "colab": {
          "base_uri": "https://localhost:8080/"
        },
        "id": "bCivDfYjjInv",
        "outputId": "baa961e9-a6a8-45c4-d52e-0f23eab1a7aa"
      },
      "source": [
        "fruits = ['사과','오렌지','바나나','포도','복숭아','바나나']\n",
        "fruits.append('참외') \n",
        "fruits.append('망고') \n",
        "fruits"
      ],
      "execution_count": null,
      "outputs": [
        {
          "output_type": "execute_result",
          "data": {
            "text/plain": [
              "['사과', '오렌지', '바나나', '포도', '복숭아', '바나나', '참외', '망고']"
            ]
          },
          "metadata": {
            "tags": []
          },
          "execution_count": 147
        }
      ]
    },
    {
      "cell_type": "markdown",
      "metadata": {
        "id": "KXRB38XbjYJA"
      },
      "source": [
        "# 리스트에 요소 삽입\n",
        "\n",
        "**지정한 인덱스에 요소를 삽입한다.**\n",
        "\n",
        "리스트명.insert(인덱스,요소)"
      ]
    },
    {
      "cell_type": "code",
      "metadata": {
        "colab": {
          "base_uri": "https://localhost:8080/"
        },
        "id": "IGd3XiZgjW3v",
        "outputId": "55e50b9d-8de7-473c-c632-6e4b4a2e7c35"
      },
      "source": [
        "#'오렌지' 뒤에 '참외' 삽입; 한칸씩 뒤로 밀림\n",
        "fruits = ['사과','오렌지','바나나','포도','복숭아','바나나']\n",
        "fruits.insert(2,'참외') \n",
        "fruits"
      ],
      "execution_count": null,
      "outputs": [
        {
          "output_type": "execute_result",
          "data": {
            "text/plain": [
              "['사과', '오렌지', '참외', '바나나', '포도', '복숭아', '바나나']"
            ]
          },
          "metadata": {
            "tags": []
          },
          "execution_count": 149
        }
      ]
    },
    {
      "cell_type": "code",
      "metadata": {
        "colab": {
          "base_uri": "https://localhost:8080/"
        },
        "id": "fE0D39n7ju_Q",
        "outputId": "ea118e98-49a9-45b3-f3c6-55bd26fa4dae"
      },
      "source": [
        "#3 뒤에 100 삽입\n",
        "num = [1,2,3,4,5,6,7]\n",
        "num.insert(3,100) \n",
        "num"
      ],
      "execution_count": null,
      "outputs": [
        {
          "output_type": "execute_result",
          "data": {
            "text/plain": [
              "[1, 2, 3, 100, 4, 5, 6, 7]"
            ]
          },
          "metadata": {
            "tags": []
          },
          "execution_count": 151
        }
      ]
    },
    {
      "cell_type": "markdown",
      "metadata": {
        "id": "Tj1TPv1jkQh0"
      },
      "source": [
        "# 리스트에 여러 요소 추가\n",
        "\n",
        "**리스트 마지막에 여러 요소를 한꺼번에 추가한다.**\n",
        "\n",
        "리스트명.extend(리스트)"
      ]
    },
    {
      "cell_type": "code",
      "metadata": {
        "colab": {
          "base_uri": "https://localhost:8080/"
        },
        "id": "0JhkoNFpkPQp",
        "outputId": "33482c49-3a45-46ce-9b5d-d7a91afbbc41"
      },
      "source": [
        "fruits = ['사과','오렌지','바나나','포도','복숭아','바나나']\n",
        "fruits.extend(['딸기','참외'])\n",
        "fruits"
      ],
      "execution_count": null,
      "outputs": [
        {
          "output_type": "execute_result",
          "data": {
            "text/plain": [
              "['사과', '오렌지', '바나나', '포도', '복숭아', '바나나', '딸기', '참외']"
            ]
          },
          "metadata": {
            "tags": []
          },
          "execution_count": 154
        }
      ]
    },
    {
      "cell_type": "code",
      "metadata": {
        "colab": {
          "base_uri": "https://localhost:8080/",
          "height": 213
        },
        "id": "e_BSsUxvj9nI",
        "outputId": "59cf38a9-f4c0-4f3c-e442-8b564e27182e"
      },
      "source": [
        "fruits = ['사과','오렌지','바나나','포도','복숭아','바나나']\n",
        "fruits.extend('딸기','참외') #[] 기호 필수 => 대괄호 없으면 오류\n",
        "fruits"
      ],
      "execution_count": null,
      "outputs": [
        {
          "output_type": "error",
          "ename": "TypeError",
          "evalue": "ignored",
          "traceback": [
            "\u001b[0;31m---------------------------------------------------------------------------\u001b[0m",
            "\u001b[0;31mTypeError\u001b[0m                                 Traceback (most recent call last)",
            "\u001b[0;32m<ipython-input-155-b6f77c1bcbed>\u001b[0m in \u001b[0;36m<module>\u001b[0;34m()\u001b[0m\n\u001b[1;32m      1\u001b[0m \u001b[0mfruits\u001b[0m \u001b[0;34m=\u001b[0m \u001b[0;34m[\u001b[0m\u001b[0;34m'사과'\u001b[0m\u001b[0;34m,\u001b[0m\u001b[0;34m'오렌지'\u001b[0m\u001b[0;34m,\u001b[0m\u001b[0;34m'바나나'\u001b[0m\u001b[0;34m,\u001b[0m\u001b[0;34m'포도'\u001b[0m\u001b[0;34m,\u001b[0m\u001b[0;34m'복숭아'\u001b[0m\u001b[0;34m,\u001b[0m\u001b[0;34m'바나나'\u001b[0m\u001b[0;34m]\u001b[0m\u001b[0;34m\u001b[0m\u001b[0;34m\u001b[0m\u001b[0m\n\u001b[0;32m----> 2\u001b[0;31m \u001b[0mfruits\u001b[0m\u001b[0;34m.\u001b[0m\u001b[0mextend\u001b[0m\u001b[0;34m(\u001b[0m\u001b[0;34m'딸기'\u001b[0m\u001b[0;34m,\u001b[0m\u001b[0;34m'참외'\u001b[0m\u001b[0;34m)\u001b[0m \u001b[0;31m#[] 기호 필수 => 대괄호 없으면 오류\u001b[0m\u001b[0;34m\u001b[0m\u001b[0;34m\u001b[0m\u001b[0m\n\u001b[0m\u001b[1;32m      3\u001b[0m \u001b[0mfruits\u001b[0m\u001b[0;34m\u001b[0m\u001b[0;34m\u001b[0m\u001b[0m\n",
            "\u001b[0;31mTypeError\u001b[0m: extend() takes exactly one argument (2 given)"
          ]
        }
      ]
    },
    {
      "cell_type": "code",
      "metadata": {
        "colab": {
          "base_uri": "https://localhost:8080/"
        },
        "id": "CE7EfajQlAjc",
        "outputId": "e05399fb-a643-4783-876b-83f1d84b53be"
      },
      "source": [
        "fruits = ['사과','오렌지','바나나','포도','복숭아','바나나']\n",
        "fruits.extend(('딸기','참외')) #(괄호)가 [대괄호] 대체 가능\n",
        "fruits"
      ],
      "execution_count": null,
      "outputs": [
        {
          "output_type": "execute_result",
          "data": {
            "text/plain": [
              "['사과', '오렌지', '바나나', '포도', '복숭아', '바나나', '딸기', '참외']"
            ]
          },
          "metadata": {
            "tags": []
          },
          "execution_count": 156
        }
      ]
    },
    {
      "cell_type": "code",
      "metadata": {
        "colab": {
          "base_uri": "https://localhost:8080/",
          "height": 213
        },
        "id": "v3AooDhhlRcb",
        "outputId": "505459a6-21ce-4d94-8d58-25835eeca645"
      },
      "source": [
        "fruits = ['사과','오렌지','바나나','포도','복숭아','바나나']\n",
        "fruits.extend(['딸기','참외'],['망고','파인애플']) #오류!! 2 given\n",
        "fruits"
      ],
      "execution_count": null,
      "outputs": [
        {
          "output_type": "error",
          "ename": "TypeError",
          "evalue": "ignored",
          "traceback": [
            "\u001b[0;31m---------------------------------------------------------------------------\u001b[0m",
            "\u001b[0;31mTypeError\u001b[0m                                 Traceback (most recent call last)",
            "\u001b[0;32m<ipython-input-159-dfdace6984d8>\u001b[0m in \u001b[0;36m<module>\u001b[0;34m()\u001b[0m\n\u001b[1;32m      1\u001b[0m \u001b[0mfruits\u001b[0m \u001b[0;34m=\u001b[0m \u001b[0;34m[\u001b[0m\u001b[0;34m'사과'\u001b[0m\u001b[0;34m,\u001b[0m\u001b[0;34m'오렌지'\u001b[0m\u001b[0;34m,\u001b[0m\u001b[0;34m'바나나'\u001b[0m\u001b[0;34m,\u001b[0m\u001b[0;34m'포도'\u001b[0m\u001b[0;34m,\u001b[0m\u001b[0;34m'복숭아'\u001b[0m\u001b[0;34m,\u001b[0m\u001b[0;34m'바나나'\u001b[0m\u001b[0;34m]\u001b[0m\u001b[0;34m\u001b[0m\u001b[0;34m\u001b[0m\u001b[0m\n\u001b[0;32m----> 2\u001b[0;31m \u001b[0mfruits\u001b[0m\u001b[0;34m.\u001b[0m\u001b[0mextend\u001b[0m\u001b[0;34m(\u001b[0m\u001b[0;34m[\u001b[0m\u001b[0;34m'딸기'\u001b[0m\u001b[0;34m,\u001b[0m\u001b[0;34m'참외'\u001b[0m\u001b[0;34m]\u001b[0m\u001b[0;34m,\u001b[0m\u001b[0;34m[\u001b[0m\u001b[0;34m'망고'\u001b[0m\u001b[0;34m,\u001b[0m\u001b[0;34m'파인애플'\u001b[0m\u001b[0;34m]\u001b[0m\u001b[0;34m)\u001b[0m\u001b[0;34m\u001b[0m\u001b[0;34m\u001b[0m\u001b[0m\n\u001b[0m\u001b[1;32m      3\u001b[0m \u001b[0mfruits\u001b[0m\u001b[0;34m\u001b[0m\u001b[0;34m\u001b[0m\u001b[0m\n",
            "\u001b[0;31mTypeError\u001b[0m: extend() takes exactly one argument (2 given)"
          ]
        }
      ]
    },
    {
      "cell_type": "code",
      "metadata": {
        "colab": {
          "base_uri": "https://localhost:8080/"
        },
        "id": "S48btcrclkPW",
        "outputId": "464531ca-aa93-417e-f1ce-a8a1a8a533f3"
      },
      "source": [
        "fruits = ['사과','오렌지','바나나','포도','복숭아','바나나']\n",
        "fruits.extend([['딸기','참외'],['망고','파인애플']]) #대괄호 or 괄호 2번으로 오류 없이 가능; 하나로 인식시키기\n",
        "fruits"
      ],
      "execution_count": null,
      "outputs": [
        {
          "output_type": "execute_result",
          "data": {
            "text/plain": [
              "['사과', '오렌지', '바나나', '포도', '복숭아', '바나나', ['딸기', '참외'], ['망고', '파인애플']]"
            ]
          },
          "metadata": {
            "tags": []
          },
          "execution_count": 162
        }
      ]
    },
    {
      "cell_type": "markdown",
      "metadata": {
        "id": "Z8_FrS73mRlu"
      },
      "source": [
        "# 요소의 위치 찾기\n",
        "\n",
        "**리스트에서 특정 요소의 인덱스 찾기**\n",
        "\n",
        "리스트명.index(요소)"
      ]
    },
    {
      "cell_type": "code",
      "metadata": {
        "colab": {
          "base_uri": "https://localhost:8080/"
        },
        "id": "eezfXqOPlC2m",
        "outputId": "d89264cc-d4cd-4d9c-d241-208808c53e06"
      },
      "source": [
        "#포도의 위치(인덱스) 찾기\n",
        "fruits = ['사과','오렌지','바나나','포도','복숭아','바나나']\n",
        "fruits.index('포도')"
      ],
      "execution_count": null,
      "outputs": [
        {
          "output_type": "execute_result",
          "data": {
            "text/plain": [
              "3"
            ]
          },
          "metadata": {
            "tags": []
          },
          "execution_count": 165
        }
      ]
    },
    {
      "cell_type": "code",
      "metadata": {
        "colab": {
          "base_uri": "https://localhost:8080/"
        },
        "id": "tg9dlH2vm26g",
        "outputId": "2d72896c-44c7-4dc7-cc60-0737eb0d3bd8"
      },
      "source": [
        "name = ['영이','철수','까치','엄지','스칼렛']\n",
        "find_index = name.index('까치')\n",
        "find_index"
      ],
      "execution_count": null,
      "outputs": [
        {
          "output_type": "execute_result",
          "data": {
            "text/plain": [
              "2"
            ]
          },
          "metadata": {
            "tags": []
          },
          "execution_count": 169
        }
      ]
    },
    {
      "cell_type": "code",
      "metadata": {
        "colab": {
          "base_uri": "https://localhost:8080/"
        },
        "id": "Xb4fiKw7nkEW",
        "outputId": "e742ba2a-3b52-43f3-a8f8-115be3450bfd"
      },
      "source": [
        "#리스트에 요소가 존재하는지 검사 후 인덱스 찾기\n",
        "fruits = ['사과','오렌지','바나나','포도','복숭아','바나나']\n",
        "if '망고' in fruits: \n",
        "    print(fruits.index('망고'))\n",
        "else:\n",
        "    print('해당 요소 존재하지 않음')"
      ],
      "execution_count": null,
      "outputs": [
        {
          "output_type": "stream",
          "text": [
            "해당 요소 존재하지 않음\n"
          ],
          "name": "stdout"
        }
      ]
    },
    {
      "cell_type": "code",
      "metadata": {
        "colab": {
          "base_uri": "https://localhost:8080/"
        },
        "id": "OQ8Nqcymn7m9",
        "outputId": "e54649fd-ce79-4bf1-be74-f103e05674a4"
      },
      "source": [
        "#리스트에 요소가 존재하는지 검사 후, 존재한다면 인덱스 위치 찾기\n",
        "fruits = ['사과','오렌지','바나나','포도','복숭아','바나나']\n",
        "fruit_name = input('과일이름:')\n",
        "if fruit_name in fruits: \n",
        "    print(fruits.index(fruit_name))\n",
        "else:\n",
        "    print('해당 요소 존재하지 않음')"
      ],
      "execution_count": null,
      "outputs": [
        {
          "output_type": "stream",
          "text": [
            "과일이름:망고\n",
            "해당 요소 존재하지 않음\n"
          ],
          "name": "stdout"
        }
      ]
    },
    {
      "cell_type": "code",
      "metadata": {
        "colab": {
          "base_uri": "https://localhost:8080/"
        },
        "id": "5V1KvRA5o_6F",
        "outputId": "88581cb6-ef5d-4a8d-9fe0-56248332fd33"
      },
      "source": [
        "#리스트에 요소가 존재하는지 검사 후, 존재한다면 인덱스 위치 찾기\n",
        "names = ['영이','철수','까치','엄지','스칼렛']\n",
        "person_name = input('이름:')\n",
        "if person_name in names: \n",
        "    print(names.index(person_name))\n",
        "else:\n",
        "    print('여행 중')"
      ],
      "execution_count": null,
      "outputs": [
        {
          "output_type": "stream",
          "text": [
            "이름:영수\n",
            "여행 중\n"
          ],
          "name": "stdout"
        }
      ]
    },
    {
      "cell_type": "code",
      "metadata": {
        "colab": {
          "base_uri": "https://localhost:8080/"
        },
        "id": "G6xZaQYtru7K",
        "outputId": "e109e374-b970-4fc3-e367-b9f285ad1bba"
      },
      "source": [
        "#리스트에 요소가 존재하는지 검사 후, 존재한다면 인덱스 위치 찾기\n",
        "names = ['영이','철수','까치','엄지','스칼렛']\n",
        "person_name = input('누구를 만나야 한다고? ')\n",
        "if person_name in names: \n",
        "    print(f'''{person_name}는 왜?''')\n",
        "else:\n",
        "    print(f'''{person_name} 여기 없어. 아마 여행 중일 걸?''')"
      ],
      "execution_count": null,
      "outputs": [
        {
          "output_type": "stream",
          "text": [
            "누구를 만나야 한다고? 영수\n",
            "영수 여기 없어. 아마 여행 중일 걸?\n"
          ],
          "name": "stdout"
        }
      ]
    },
    {
      "cell_type": "code",
      "metadata": {
        "colab": {
          "base_uri": "https://localhost:8080/"
        },
        "id": "V2sc3dd-sVN_",
        "outputId": "35f97131-3d4c-4582-adc3-6bfbc56e5e82"
      },
      "source": [
        "#약간의 오류\n",
        "names = ['영이','철수','까치','엄지','스칼렛']\n",
        "person_name = input('누구? ')\n",
        "if person_name in names:\n",
        "    print(f'''{person_name}는 왜?''')\n",
        "else:\n",
        "    print('''{person_name} 여기 없어. 아마 여행 중일 걸?''')"
      ],
      "execution_count": null,
      "outputs": [
        {
          "output_type": "stream",
          "text": [
            "누구? 영이\n",
            "영이는 왜?\n"
          ],
          "name": "stdout"
        }
      ]
    },
    {
      "cell_type": "markdown",
      "metadata": {
        "id": "8QBRQiGbprFj"
      },
      "source": [
        "# 특정 요소의 개수 추출\n",
        "\n",
        "**리스트에서 지정한 요소의 개수를 반환한다.**\n",
        "\n",
        "리스트명.count(요소)"
      ]
    },
    {
      "cell_type": "code",
      "metadata": {
        "colab": {
          "base_uri": "https://localhost:8080/"
        },
        "id": "-jqEoS-YpqOl",
        "outputId": "e65b524e-a465-4b4a-ca8e-b1e9c28ef352"
      },
      "source": [
        "fruits = ['사과','오렌지','바나나','포도','복숭아','바나나','사과','사과']\n",
        "fruits.count('사과')"
      ],
      "execution_count": null,
      "outputs": [
        {
          "output_type": "execute_result",
          "data": {
            "text/plain": [
              "3"
            ]
          },
          "metadata": {
            "tags": []
          },
          "execution_count": 4
        }
      ]
    },
    {
      "cell_type": "markdown",
      "metadata": {
        "id": "xSfo9T4Dt1o4"
      },
      "source": [
        "# 리스트 정렬\n",
        "\n",
        "***sort***\n",
        "\n",
        "리스트 원본을 정렬하기\n"
      ]
    },
    {
      "cell_type": "code",
      "metadata": {
        "colab": {
          "base_uri": "https://localhost:8080/"
        },
        "id": "_JWGNUsxpn94",
        "outputId": "2bac03cc-1ea7-4e8a-a5ed-dc424b9f1ec6"
      },
      "source": [
        "#오름차순 정렬\n",
        "fruits = ['사과','오렌지','바나나','포도','복숭아','바나나','사과','사과']\n",
        "fruits.sort() \n",
        "fruits"
      ],
      "execution_count": null,
      "outputs": [
        {
          "output_type": "execute_result",
          "data": {
            "text/plain": [
              "['바나나', '바나나', '복숭아', '사과', '사과', '사과', '오렌지', '포도']"
            ]
          },
          "metadata": {
            "tags": []
          },
          "execution_count": 23
        }
      ]
    },
    {
      "cell_type": "code",
      "metadata": {
        "colab": {
          "base_uri": "https://localhost:8080/"
        },
        "id": "xX1O73C2hY_w",
        "outputId": "cdcb1336-4ffa-4c56-c4ff-a745954216fa"
      },
      "source": [
        "#내림차순 정렬\n",
        "fruits = ['사과','오렌지','바나나','포도','복숭아','바나나','사과','사과']\n",
        "fruits.sort(reverse=True) \n",
        "fruits"
      ],
      "execution_count": null,
      "outputs": [
        {
          "output_type": "execute_result",
          "data": {
            "text/plain": [
              "['포도', '오렌지', '사과', '사과', '사과', '복숭아', '바나나', '바나나']"
            ]
          },
          "metadata": {
            "tags": []
          },
          "execution_count": 7
        }
      ]
    },
    {
      "cell_type": "markdown",
      "metadata": {
        "id": "5HtlGQN-upUP"
      },
      "source": [
        "***sorted***\n",
        "\n",
        "원본은 건드리지 않고 정렬된 새로운 리스트 반환"
      ]
    },
    {
      "cell_type": "code",
      "metadata": {
        "colab": {
          "base_uri": "https://localhost:8080/"
        },
        "id": "bhasK2vEuTEy",
        "outputId": "e69f2894-0a65-4f9c-d36a-dade402f65ef"
      },
      "source": [
        "#오름차순 정렬\n",
        "fruits = ['사과','오렌지','바나나','포도','복숭아','바나나','사과','사과']\n",
        "sorted_fruits = sorted(fruits)\n",
        "print(\"원본:\", fruits)\n",
        "print(\"정렬:\", sorted_fruits)"
      ],
      "execution_count": null,
      "outputs": [
        {
          "output_type": "stream",
          "text": [
            "원본: ['사과', '오렌지', '바나나', '포도', '복숭아', '바나나', '사과', '사과']\n",
            "정렬: ['바나나', '바나나', '복숭아', '사과', '사과', '사과', '오렌지', '포도']\n"
          ],
          "name": "stdout"
        }
      ]
    },
    {
      "cell_type": "code",
      "metadata": {
        "colab": {
          "base_uri": "https://localhost:8080/"
        },
        "id": "txbDGN88v7bE",
        "outputId": "973f8d0c-bf43-45e5-dd2c-4281b1ae48ce"
      },
      "source": [
        "#내림차순 정렬\n",
        "fruits = ['사과','오렌지','바나나','포도','복숭아','바나나']\n",
        "sorted_fruits = sorted(fruits,reverse=True)\n",
        "print(\"원본\", fruits)\n",
        "print(\"정렬:\", sorted_fruits)"
      ],
      "execution_count": null,
      "outputs": [
        {
          "output_type": "stream",
          "text": [
            "원본 ['사과', '오렌지', '바나나', '포도', '복숭아', '바나나']\n",
            "정렬: ['포도', '오렌지', '사과', '복숭아', '바나나', '바나나']\n"
          ],
          "name": "stdout"
        }
      ]
    },
    {
      "cell_type": "code",
      "metadata": {
        "colab": {
          "base_uri": "https://localhost:8080/"
        },
        "id": "09T9U7ahwMay",
        "outputId": "b8eca745-5502-4d50-af8b-be6839756c9d"
      },
      "source": [
        "#내림차순 정렬\n",
        "fruits = ['사과','오렌지','포도','수박','바나나','오렌지','포도','수박']\n",
        "s_fruits = sorted(fruits,reverse=True)\n",
        "print('원본',fruits)\n",
        "print('수정본',s_fruits)"
      ],
      "execution_count": null,
      "outputs": [
        {
          "output_type": "stream",
          "text": [
            "원본 ['사과', '오렌지', '포도', '수박', '바나나', '오렌지', '포도', '수박']\n",
            "수정본 ['포도', '포도', '오렌지', '오렌지', '수박', '수박', '사과', '바나나']\n"
          ],
          "name": "stdout"
        }
      ]
    },
    {
      "cell_type": "code",
      "metadata": {
        "colab": {
          "base_uri": "https://localhost:8080/"
        },
        "id": "jfSgi6P-uy5e",
        "outputId": "0ef9b420-ea87-4ef4-dddb-dff3c37ffc33"
      },
      "source": [
        "#채팅창 예제\n",
        "mix = ['a','b','ㄱ', 'ㄴ','ㄷ','1','2']\n",
        "mix_2 = sorted(mix)\n",
        "mix_3 = sorted(mix, reverse=True)\n",
        "print(\"원본: \", mix)\n",
        "print(\"복사_오름차순 :\", mix_2)\n",
        "print(\"복사_내림차순 : \", mix_3)"
      ],
      "execution_count": null,
      "outputs": [
        {
          "output_type": "stream",
          "text": [
            "원본:  ['a', 'b', 'ㄱ', 'ㄴ', 'ㄷ', '1', '2']\n",
            "복사_오름차순 : ['1', '2', 'a', 'b', 'ㄱ', 'ㄴ', 'ㄷ']\n",
            "복사_내림차순 :  ['ㄷ', 'ㄴ', 'ㄱ', 'b', 'a', '2', '1']\n"
          ],
          "name": "stdout"
        }
      ]
    },
    {
      "cell_type": "markdown",
      "metadata": {
        "id": "2BFu0duyutEt"
      },
      "source": [
        "# 리스트 뒤집기\n",
        "\n",
        "리스트를 역순으로 뒤집는다 (정렬이 아니라)\n",
        "\n",
        "***reverse***\n"
      ]
    },
    {
      "cell_type": "code",
      "metadata": {
        "colab": {
          "base_uri": "https://localhost:8080/"
        },
        "id": "GTGyQgeAufFs",
        "outputId": "4b2a1e70-c17f-4753-c0a3-8fc36b8dd362"
      },
      "source": [
        "#오름차순 리스트 뒤집기\n",
        "fruits = ['사과','오렌지','바나나','포도','복숭아','바나나','사과','사과']\n",
        "fruits.reverse()\n",
        "fruits"
      ],
      "execution_count": null,
      "outputs": [
        {
          "output_type": "execute_result",
          "data": {
            "text/plain": [
              "['사과', '사과', '바나나', '복숭아', '포도', '바나나', '오렌지', '사과']"
            ]
          },
          "metadata": {
            "tags": []
          },
          "execution_count": 25
        }
      ]
    },
    {
      "cell_type": "markdown",
      "metadata": {
        "id": "CMerOfFiw4pG"
      },
      "source": [
        "# 리스트에서 랜덤 항목 추출\n",
        "\n",
        "리스트에서 랜덤 항목을 추출한다.\n",
        "\n",
        "random.choice(리스트명)"
      ]
    },
    {
      "cell_type": "code",
      "metadata": {
        "colab": {
          "base_uri": "https://localhost:8080/"
        },
        "id": "zK3elbTEwXNb",
        "outputId": "fc32009b-72f4-4b82-cfd5-508438302102"
      },
      "source": [
        "# random.choice(리스트명)\n",
        "import random\n",
        "wise_saying = []\n",
        "wise_saying.append('미래는 현재 우리가 무엇을 하고 있는가에 달려있다. - 마히트마 간디')\n",
        "wise_saying.append('교육은 세상을 바꿀 수 있는 가장 강력힌 무기다 - 넬슨 만델리')\n",
        "wise_saying.append('성공하기 위한 가장 확실한 방법은 한번 더 시도해 보는 것이다 - 토마스에디슨')\n",
        "wise_saying.append('가장 불만에 가득찬 고객은 가장 위대한 배움의 원천이다 _ 빌 게이츠')\n",
        "wise_saying.append('영원히 살 것처럼 꿈꾸고 오믈 죽을 것처럼 살아라 - 제임스딘')\n",
        "wise_saying.append('경쟁우위가 없다면 경쟁하지 마라 - 잭윌치')\n",
        "wise_saying.append('삶에 실수는 없고, 배움만이 있을 뿐이다. - 지아드 압델 누어')\n",
        "wise_saying.append('어제와 똑같은 삶을 살면서 다른 미래를 기대하는 것은 정신병의 초기증세이다 -아인슈타인')\n",
        "wise_saying.append('문제점을 찾지 말고 해결책을 찾으라 - 헨리포드')\n",
        "wise_saying.append('실수를 해보지 않은 사람은 한번도 새로운 일을 시도해보지 않았던 사람이다 -아인슈타인')\n",
        "print(random.choice(wise_saying))\n",
        "print(random.sample(wise_saying,2))"
      ],
      "execution_count": 6,
      "outputs": [
        {
          "output_type": "stream",
          "text": [
            "성공하기 위한 가장 확실한 방법은 한번 더 시도해 보는 것이다 - 토마스에디슨\n",
            "['영원히 살 것처럼 꿈꾸고 오믈 죽을 것처럼 살아라 - 제임스딘', '실수를 해보지 않은 사람은 한번도 새로운 일을 시도해보지 않았던 사람이다 -아인슈타인']\n"
          ],
          "name": "stdout"
        }
      ]
    },
    {
      "cell_type": "code",
      "metadata": {
        "colab": {
          "base_uri": "https://localhost:8080/"
        },
        "id": "nbU3Cs5SxTJU",
        "outputId": "d5e594c3-3c2b-45ea-ba31-a26446ba828f"
      },
      "source": [
        "# random.choice(리스트명)\n",
        "import random\n",
        "quote = []\n",
        "quote.append('산다는것 그것은 치열한 전투이다. -로망로랑') \n",
        "quote.append('하루에 3시간을 걸으면 7년 후에 지구를 한바퀴 돌 수 있다. -사무엘존슨') \n",
        "quote.append('언제나 현재에 집중할수 있다면 행복할것이다. -파울로 코엘료')\n",
        "quote.append('진정으로 웃으려면 고통을 참아야하며 , 나아가 고통을 즐길 줄 알아야 해 -찰리 채플린')\n",
        "print(random.choice(quote))\n",
        "print(random.choice(quote),3)"
      ],
      "execution_count": null,
      "outputs": [
        {
          "output_type": "stream",
          "text": [
            "진정으로 웃으려면 고통을 참아야하며 , 나아가 고통을 즐길 줄 알아야 해 -찰리 채플린\n",
            "언제나 현재에 집중할수 있다면 행복할것이다. -파울로 코엘료 3\n"
          ],
          "name": "stdout"
        }
      ]
    },
    {
      "cell_type": "markdown",
      "metadata": {
        "id": "dHlA6iy2yTbA"
      },
      "source": [
        "# 리스트 합계, 최대값, 최소값 구하기"
      ]
    },
    {
      "cell_type": "code",
      "metadata": {
        "colab": {
          "base_uri": "https://localhost:8080/"
        },
        "id": "GVao679OyaQx",
        "outputId": "7d29ce1c-da71-4fcb-fc29-d7965364129b"
      },
      "source": [
        "a = [1,2,3,4,5]\n",
        "b = ['a','b','c','d','e']\n",
        "c = ['사과','오렌지','포도','수박','바나나']\n",
        "print(sum(a))\n",
        "print(max(b))\n",
        "print(min(c))"
      ],
      "execution_count": null,
      "outputs": [
        {
          "output_type": "stream",
          "text": [
            "15\n",
            "e\n",
            "바나나\n"
          ],
          "name": "stdout"
        }
      ]
    },
    {
      "cell_type": "markdown",
      "metadata": {
        "id": "OdZpRWFzG56Z"
      },
      "source": [
        "#예제"
      ]
    },
    {
      "cell_type": "code",
      "metadata": {
        "colab": {
          "base_uri": "https://localhost:8080/"
        },
        "id": "UVpgUh5i3igC",
        "outputId": "1fb7f698-7633-46cb-90a4-6c93ec0de653"
      },
      "source": [
        "#예제: 숫자들의 합계와 평균 계산하기 (My version)\n",
        "#사용자로부터 5개의 숫자를 입력받아 리스트에 저장\n",
        "#숫자들의 합계와 평균을 계산하여 출력하는 프로그램 작성\n",
        "no_list = []\n",
        "for x in range(5): \n",
        "    numb = int(input('넘버: '))\n",
        "    no_list.append(numb) #리스트의 맨 마지막에 요소를 추가 \n",
        "total_sum = sum(no_list)\n",
        "average = sum(no_list)/len(no_list)\n",
        "print(\"-\"*50)\n",
        "print('합계: ',total_sum)\n",
        "print('평균: ',average)"
      ],
      "execution_count": 1,
      "outputs": [
        {
          "output_type": "stream",
          "text": [
            "넘버: 12\n",
            "넘버: 30\n",
            "넘버: 24\n",
            "넘버: 56\n",
            "넘버: 30\n",
            "--------------------------------------------------\n",
            "합계:  152\n",
            "평균:  30.4\n"
          ],
          "name": "stdout"
        }
      ]
    },
    {
      "cell_type": "code",
      "metadata": {
        "colab": {
          "base_uri": "https://localhost:8080/"
        },
        "id": "oEwqymXhzuJG",
        "outputId": "d4001403-6a1b-48ef-b255-cf5f9b822e87"
      },
      "source": [
        "#예제: 숫자들의 합계와 평균 계산하기 (다른 방식 도전) \n",
        "list = []\n",
        "for i in range(5):\n",
        "    number = int(input('숫자:'))\n",
        "    list.append(number)\n",
        "if len(list) != 0:  # !=의 의미: 값이 동일하지 않다\n",
        "    average = sum(list)/len(list2)\n",
        "else:\n",
        "    average = 0\n",
        "print(f'합계:{sum(list)},평균:{average}')"
      ],
      "execution_count": null,
      "outputs": [
        {
          "output_type": "stream",
          "text": [
            "숫자:20\n",
            "숫자:15\n",
            "숫자:4\n",
            "숫자:67\n",
            "숫자:49\n",
            "합계:155,평균:31.0\n"
          ],
          "name": "stdout"
        }
      ]
    },
    {
      "cell_type": "code",
      "metadata": {
        "colab": {
          "base_uri": "https://localhost:8080/"
        },
        "id": "eY8xLINBz-_X",
        "outputId": "de06ecd2-9011-4737-8907-5ef72c358ea1"
      },
      "source": [
        "# 위와 같은 예제: print(f'') 말고 쉼표 형식으로 도전\n",
        "list = []\n",
        "for i in range(5):\n",
        "    number = int(input('숫자:'))\n",
        "    list.append(number)\n",
        "if len(list) != 0:  # !=의 의미: 값이 동일하지 않다\n",
        "    average = sum(list)/len(list)\n",
        "else:\n",
        "    average = 0\n",
        "print('합계:',sum(list),'평균:',average)"
      ],
      "execution_count": null,
      "outputs": [
        {
          "output_type": "stream",
          "text": [
            "숫자:1\n",
            "숫자:2\n",
            "숫자:3\n",
            "숫자:4\n",
            "숫자:5\n",
            "합계: 15 평균: 3.0\n"
          ],
          "name": "stdout"
        }
      ]
    },
    {
      "cell_type": "code",
      "metadata": {
        "colab": {
          "base_uri": "https://localhost:8080/"
        },
        "id": "FPzVZTFM0mbo",
        "outputId": "36dc0889-3b2a-419e-f860-607e9aac98e2"
      },
      "source": [
        "# 위와 같은 예제: if문 else 없이 도전\n",
        "list = []\n",
        "for i in range(5):\n",
        "    number = int(input('숫자:'))\n",
        "    list.append(number)\n",
        "if len(list) != 0:  # !=의 의미: 값이 동일하지 않다\n",
        "    average = sum(list)/len(list)\n",
        "print('합계:',sum(list),'평균:',average)"
      ],
      "execution_count": null,
      "outputs": [
        {
          "output_type": "stream",
          "text": [
            "숫자:1\n",
            "숫자:2\n",
            "숫자:3\n",
            "숫자:4\n",
            "숫자:5\n",
            "합계: 15 평균: 3.0\n"
          ],
          "name": "stdout"
        }
      ]
    },
    {
      "cell_type": "code",
      "metadata": {
        "colab": {
          "base_uri": "https://localhost:8080/"
        },
        "id": "uCDA815p1bXQ",
        "outputId": "6a3b6e41-d976-4f2d-bb3b-d9c68bec7de6"
      },
      "source": [
        "# 위와 같은 예제: average 실수(float)를 정수(integer)로 변환한 버전\n",
        "list = []\n",
        "for i in range(5):\n",
        "    number = int(input('숫자:'))\n",
        "    list.append(number)\n",
        "if len(list) != 0:  # !=의 의미: 값이 동일하지 않다\n",
        "    average = sum(list)/len(list)\n",
        "print('합계:',sum(list),'평균:',int(average))"
      ],
      "execution_count": null,
      "outputs": [
        {
          "output_type": "stream",
          "text": [
            "숫자:1\n",
            "숫자:2\n",
            "숫자:3\n",
            "숫자:4\n",
            "숫자:5\n",
            "합계: 15 평균: 3\n"
          ],
          "name": "stdout"
        }
      ]
    }
  ]
}