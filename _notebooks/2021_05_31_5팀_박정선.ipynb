{
  "nbformat": 4,
  "nbformat_minor": 0,
  "metadata": {
    "colab": {
      "name": "2021-05-31-5팀-박정선.ipynb",
      "provenance": [],
      "collapsed_sections": [],
      "toc_visible": true,
      "authorship_tag": "ABX9TyOV968+p1niyvGYqxczOF/h",
      "include_colab_link": true
    },
    "kernelspec": {
      "name": "python3",
      "display_name": "Python 3"
    },
    "language_info": {
      "name": "python"
    }
  },
  "cells": [
    {
      "cell_type": "markdown",
      "metadata": {
        "id": "view-in-github",
        "colab_type": "text"
      },
      "source": [
        "<a href=\"https://colab.research.google.com/github/JUNGSUN17/pythonrepo/blob/master/_notebooks/2021_05_31_5%ED%8C%80_%EB%B0%95%EC%A0%95%EC%84%A0.ipynb\" target=\"_parent\"><img src=\"https://colab.research.google.com/assets/colab-badge.svg\" alt=\"Open In Colab\"/></a>"
      ]
    },
    {
      "cell_type": "markdown",
      "metadata": {
        "id": "uKpjUC1BoQiQ"
      },
      "source": [
        "# 딕셔너리 복습, 집합, 조건문"
      ]
    },
    {
      "cell_type": "markdown",
      "metadata": {
        "id": "_QPeliZEpOPY"
      },
      "source": [
        "#딕셔너리 복습 예제\n",
        "\n",
        "**예제1: 편의점 재고 관리**"
      ]
    },
    {
      "cell_type": "code",
      "metadata": {
        "colab": {
          "base_uri": "https://localhost:8080/"
        },
        "id": "S-44NWvMmusg",
        "outputId": "b545e063-9b47-441b-824e-d8e1d7565640"
      },
      "source": [
        "#물건 이름 = prod, 개수 = num\n",
        "#1단계: 엔터(\"\")를 입력할 때까지 물건 이름과 개수를 입력받는다.\n",
        "dic_li = {}\n",
        "while True:\n",
        "    prod = input('물건 이름:')\n",
        "    if prod == '':\n",
        "        break\n",
        "    num = int(input('개수:'))\n",
        "    dic_li[prod] = num\n",
        "dic_li"
      ],
      "execution_count": null,
      "outputs": [
        {
          "output_type": "stream",
          "text": [
            "물건 이름:필통\n",
            "개수:15\n",
            "물건 이름:사탕\n",
            "개수:7\n",
            "물건 이름:책\n",
            "개수:18\n",
            "물건 이름:\n"
          ],
          "name": "stdout"
        },
        {
          "output_type": "execute_result",
          "data": {
            "text/plain": [
              "{'사탕': 7, '책': 18, '필통': 15}"
            ]
          },
          "metadata": {
            "tags": []
          },
          "execution_count": 18
        }
      ]
    },
    {
      "cell_type": "markdown",
      "metadata": {
        "id": "R2yXGqKXvQad"
      },
      "source": [
        "#집합 (set)\n",
        "\n",
        "* 자료들이 순서와 중복 없이 저장된 것\n",
        "\n",
        "* 중괄호 {} 안에 요소를 쉼표로 구별하여 나열한다\n",
        "\n",
        "Set_name = {value1, value2, ..., valueN}"
      ]
    },
    {
      "cell_type": "code",
      "metadata": {
        "colab": {
          "base_uri": "https://localhost:8080/"
        },
        "id": "YDiqH-R6vc_v",
        "outputId": "a5c70066-42fd-4624-9007-1c48b8274812"
      },
      "source": [
        "#중복 제거\n",
        "set_wish = set(['양파링', '꽈배기', '새우깡', '수미칩','새우깡'])\n",
        "set_wish"
      ],
      "execution_count": null,
      "outputs": [
        {
          "output_type": "execute_result",
          "data": {
            "text/plain": [
              "{'꽈배기', '새우깡', '수미칩', '양파링'}"
            ]
          },
          "metadata": {
            "tags": []
          },
          "execution_count": 40
        }
      ]
    },
    {
      "cell_type": "markdown",
      "metadata": {
        "id": "WHhevd9mwFIc"
      },
      "source": [
        "##집합 생성 (2가지 방법)\n",
        "\n",
        "* 집합명 = {요소1, 요소2, ..., 요소N}\n",
        "\n",
        "* 집합명 = set([소1, 요소2, ..., 요소N])\n"
      ]
    },
    {
      "cell_type": "code",
      "metadata": {
        "id": "kRpBZkMav0E9",
        "colab": {
          "base_uri": "https://localhost:8080/"
        },
        "outputId": "0a5292e0-8f3a-478a-ab53-4e525c72367b"
      },
      "source": [
        "set_wish = {'양파링', '꽈배기', '새우깡', '수미칩','새우깡'}\n",
        "set_wish"
      ],
      "execution_count": null,
      "outputs": [
        {
          "output_type": "execute_result",
          "data": {
            "text/plain": [
              "{'꽈배기', '새우깡', '수미칩', '양파링'}"
            ]
          },
          "metadata": {
            "tags": []
          },
          "execution_count": 43
        }
      ]
    },
    {
      "cell_type": "code",
      "metadata": {
        "colab": {
          "base_uri": "https://localhost:8080/"
        },
        "id": "2a_bGt8dwg6L",
        "outputId": "3a13e5ed-0cd3-467a-bad8-c830daf04254"
      },
      "source": [
        "set_wish = set(['양파링', '꽈배기', '새우깡', '수미칩','새우깡'])\n",
        "set_wish"
      ],
      "execution_count": null,
      "outputs": [
        {
          "output_type": "execute_result",
          "data": {
            "text/plain": [
              "{'꽈배기', '새우깡', '수미칩', '양파링'}"
            ]
          },
          "metadata": {
            "tags": []
          },
          "execution_count": 5
        }
      ]
    },
    {
      "cell_type": "code",
      "metadata": {
        "colab": {
          "base_uri": "https://localhost:8080/"
        },
        "id": "uKygyp4BwoPa",
        "outputId": "a1e59951-fe4d-413a-e5f7-36bb9d0a192a"
      },
      "source": [
        "set_hello = set(\"Hello\")\n",
        "set_hello"
      ],
      "execution_count": null,
      "outputs": [
        {
          "output_type": "execute_result",
          "data": {
            "text/plain": [
              "{'H', 'e', 'l', 'o'}"
            ]
          },
          "metadata": {
            "tags": []
          },
          "execution_count": 6
        }
      ]
    },
    {
      "cell_type": "markdown",
      "metadata": {
        "id": "ki9MIErn20nj"
      },
      "source": [
        "##집합: 요소 추출\n",
        "\n",
        "* 집합 자료형은 순서가 없기 때문에 인덱싱으로 값을 얻을 수 없다.\n",
        "\n",
        "* 집합 자료형에 저장된 값을 인덱싱으로 접근하려면 리스트나 튜플로 변환하여 사용한다"
      ]
    },
    {
      "cell_type": "code",
      "metadata": {
        "colab": {
          "base_uri": "https://localhost:8080/"
        },
        "id": "nU-YB2q427xw",
        "outputId": "a132054e-5dcb-4110-b5b7-a24ad9bfade4"
      },
      "source": [
        "set_wish = set(['양파링', '꽈배기', '새우깡', '수미칩','새우깡'])\n",
        "list_wish = list(set_wish)\n",
        "print(list_wish)\n",
        "print(list_wish[2])"
      ],
      "execution_count": null,
      "outputs": [
        {
          "output_type": "stream",
          "text": [
            "['새우깡', '양파링', '수미칩', '꽈배기']\n",
            "수미칩\n"
          ],
          "name": "stdout"
        }
      ]
    },
    {
      "cell_type": "code",
      "metadata": {
        "colab": {
          "base_uri": "https://localhost:8080/"
        },
        "id": "agW3czKy3R_Y",
        "outputId": "551e30bc-1ad8-4eef-8718-8f883ff6e3ea"
      },
      "source": [
        "set_wish = set(['양파링', '꽈배기', '새우깡', '수미칩','새우깡'])\n",
        "list_wish = tuple(set_wish)\n",
        "print(list_wish)\n",
        "print(list_wish[2])"
      ],
      "execution_count": null,
      "outputs": [
        {
          "output_type": "stream",
          "text": [
            "('새우깡', '양파링', '수미칩', '꽈배기')\n",
            "수미칩\n"
          ],
          "name": "stdout"
        }
      ]
    },
    {
      "cell_type": "markdown",
      "metadata": {
        "id": "N-t8aJie3e3h"
      },
      "source": [
        "##집합: 연산\n",
        "\n",
        "* a와 b의 합집합: a.union(b)\n",
        "\n",
        "* a와 b의 교집합: a.intersection(b)\n",
        "\n",
        "* a와 b의 차집합: a.difference(b)\n",
        "\n"
      ]
    },
    {
      "cell_type": "code",
      "metadata": {
        "colab": {
          "base_uri": "https://localhost:8080/"
        },
        "id": "NdiNV3r43ao1",
        "outputId": "b51ab963-877a-4a97-980a-01eda0194aa4"
      },
      "source": [
        "#합집합\n",
        "sweety = {'빼빼로', '가나', '허니버터'}\n",
        "salty = {'양파링', '새우깡', '수미칩'}\n",
        "print(sweety.union(salty))\n",
        "print(sweety|salty)"
      ],
      "execution_count": null,
      "outputs": [
        {
          "output_type": "stream",
          "text": [
            "{'새우깡', '양파링', '빼빼로', '허니버터', '가나', '수미칩'}\n",
            "{'새우깡', '양파링', '빼빼로', '허니버터', '가나', '수미칩'}\n"
          ],
          "name": "stdout"
        }
      ]
    },
    {
      "cell_type": "code",
      "metadata": {
        "colab": {
          "base_uri": "https://localhost:8080/"
        },
        "id": "FhoBcSZX4XD2",
        "outputId": "6c898f96-1c06-426a-ac81-d124f4d31a4c"
      },
      "source": [
        "#교집합\n",
        "sweety = {'빼빼로', '가나', '허니버터'}\n",
        "salty = {'양파링', '새우깡', '수미칩'}\n",
        "print(sweety.intersection(salty))\n",
        "print(sweety&salty)"
      ],
      "execution_count": null,
      "outputs": [
        {
          "output_type": "stream",
          "text": [
            "set()\n",
            "set()\n"
          ],
          "name": "stdout"
        }
      ]
    },
    {
      "cell_type": "code",
      "metadata": {
        "colab": {
          "base_uri": "https://localhost:8080/"
        },
        "id": "GVtMP-nQ4dJZ",
        "outputId": "9d41c818-16dc-451c-c13a-b37f2fbbedf7"
      },
      "source": [
        "#차집합\n",
        "sweety = {'빼빼로', '가나', '허니버터'}\n",
        "salty = {'양파링', '새우깡', '수미칩'}\n",
        "print(sweety.difference(salty))\n",
        "print(sweety-salty)\n",
        "print(salty.difference(sweety))\n",
        "print(salty-sweety)"
      ],
      "execution_count": null,
      "outputs": [
        {
          "output_type": "stream",
          "text": [
            "{'허니버터', '가나', '빼빼로'}\n",
            "{'허니버터', '가나', '빼빼로'}\n",
            "{'새우깡', '양파링', '수미칩'}\n",
            "{'새우깡', '양파링', '수미칩'}\n"
          ],
          "name": "stdout"
        }
      ]
    },
    {
      "cell_type": "markdown",
      "metadata": {
        "id": "E2wjwno147gg"
      },
      "source": [
        "##집합: 추가\n",
        "\n",
        "* 집합명.add(요소)\n",
        "* 집합명.update(리스트)"
      ]
    },
    {
      "cell_type": "code",
      "metadata": {
        "colab": {
          "base_uri": "https://localhost:8080/"
        },
        "id": "bHgS_87d4pXR",
        "outputId": "ab90e27d-2f42-4a62-a59f-cca9f253846a"
      },
      "source": [
        "set_wish = {'양파링', '꽈배기', '새우깡', '수미칩','새우깡'}\n",
        "set_wish.add('허니버터')\n",
        "set_wish"
      ],
      "execution_count": null,
      "outputs": [
        {
          "output_type": "execute_result",
          "data": {
            "text/plain": [
              "{'꽈배기', '새우깡', '수미칩', '양파링', '허니버터'}"
            ]
          },
          "metadata": {
            "tags": []
          },
          "execution_count": 33
        }
      ]
    },
    {
      "cell_type": "code",
      "metadata": {
        "colab": {
          "base_uri": "https://localhost:8080/"
        },
        "id": "rEMMtfOi5Oea",
        "outputId": "00454266-8923-48b7-d401-4a4a3a0819f6"
      },
      "source": [
        "set_wish = {'양파링', '꽈배기', '새우깡', '수미칩','새우깡'}\n",
        "set_wish.update(['허니버터', '칸쵸'])\n",
        "set_wish"
      ],
      "execution_count": null,
      "outputs": [
        {
          "output_type": "execute_result",
          "data": {
            "text/plain": [
              "{'꽈배기', '새우깡', '수미칩', '양파링', '칸쵸', '허니버터'}"
            ]
          },
          "metadata": {
            "tags": []
          },
          "execution_count": 34
        }
      ]
    },
    {
      "cell_type": "markdown",
      "metadata": {
        "id": "ORHssVrv6HNd"
      },
      "source": [
        "##집합: 요소 삭제\n",
        "\n",
        "* 집합명.remove(요소)"
      ]
    },
    {
      "cell_type": "code",
      "metadata": {
        "colab": {
          "base_uri": "https://localhost:8080/"
        },
        "id": "Nv29nNSL5cjf",
        "outputId": "dde06ac6-ccdf-4ebb-bb04-485d7bd10a1b"
      },
      "source": [
        "set_wish = {'양파링', '꽈배기', '새우깡', '수미칩','새우깡'}\n",
        "set_wish.remove('꽈배기')\n",
        "set_wish"
      ],
      "execution_count": null,
      "outputs": [
        {
          "output_type": "execute_result",
          "data": {
            "text/plain": [
              "{'새우깡', '수미칩', '양파링'}"
            ]
          },
          "metadata": {
            "tags": []
          },
          "execution_count": 35
        }
      ]
    },
    {
      "cell_type": "code",
      "metadata": {
        "colab": {
          "base_uri": "https://localhost:8080/",
          "height": 138
        },
        "id": "BjkCnl9A5oRK",
        "outputId": "bce14044-c332-473f-804f-74318a71b7f3"
      },
      "source": [
        "#Error: 빼빼로 없음\n",
        "set_wish = {'양파링', '꽈배기', '새우깡', '수미칩','새우깡'}\n",
        "set_wish.remove('뺴뺴로'')\n",
        "set_wish"
      ],
      "execution_count": null,
      "outputs": [
        {
          "output_type": "error",
          "ename": "SyntaxError",
          "evalue": "ignored",
          "traceback": [
            "\u001b[0;36m  File \u001b[0;32m\"<ipython-input-36-98bdb06acb1c>\"\u001b[0;36m, line \u001b[0;32m2\u001b[0m\n\u001b[0;31m    set_wish.remove('뺴뺴로'')\u001b[0m\n\u001b[0m                           ^\u001b[0m\n\u001b[0;31mSyntaxError\u001b[0m\u001b[0;31m:\u001b[0m EOL while scanning string literal\n"
          ]
        }
      ]
    },
    {
      "cell_type": "code",
      "metadata": {
        "colab": {
          "base_uri": "https://localhost:8080/"
        },
        "id": "PHXwJx2d5seb",
        "outputId": "7563b0b9-8ef0-4d10-8f3e-bc8980af229c"
      },
      "source": [
        "set_wish = {'양파링', '꽈배기', '새우깡', '수미칩','새우깡'}\n",
        "if '꽈배기' in list(set_wish):\n",
        "    set_wish.remove('꽈배기')\n",
        "set_wish"
      ],
      "execution_count": null,
      "outputs": [
        {
          "output_type": "execute_result",
          "data": {
            "text/plain": [
              "{'새우깡', '수미칩', '양파링'}"
            ]
          },
          "metadata": {
            "tags": []
          },
          "execution_count": 39
        }
      ]
    },
    {
      "cell_type": "markdown",
      "metadata": {
        "id": "gaRM4isR6wmd"
      },
      "source": [
        "## 테스트"
      ]
    },
    {
      "cell_type": "code",
      "metadata": {
        "colab": {
          "base_uri": "https://localhost:8080/"
        },
        "id": "x3Qd6tux6B57",
        "outputId": "dc54b022-533c-43c9-ff6e-3a418d7ed548"
      },
      "source": [
        "fruit = {'망고', '사과', '자두'}\n",
        "fruit.update(['파인애플', '참외'])\n",
        "fruit\n",
        "fruit.remove('사과')\n",
        "fruit"
      ],
      "execution_count": null,
      "outputs": [
        {
          "output_type": "execute_result",
          "data": {
            "text/plain": [
              "{'망고', '자두', '참외', '파인애플'}"
            ]
          },
          "metadata": {
            "tags": []
          },
          "execution_count": 50
        }
      ]
    },
    {
      "cell_type": "markdown",
      "metadata": {
        "id": "ji6-bJuE7KEb"
      },
      "source": [
        "# 오류 메시지 해석\n",
        "\n",
        "* NameError: 참조변수 없음\n",
        "\n",
        "```\n",
        "# 코드로 형식 지정됨\n",
        "```\n",
        "\n"
      ]
    },
    {
      "cell_type": "code",
      "metadata": {
        "colab": {
          "base_uri": "https://localhost:8080/",
          "height": 175
        },
        "id": "QM-OsE-T7A6C",
        "outputId": "9947cc32-ef36-4e54-d3a0-b8150c745d63"
      },
      "source": [
        "#변수가 정의되어 있지 않음\n",
        "print(number)"
      ],
      "execution_count": null,
      "outputs": [
        {
          "output_type": "error",
          "ename": "NameError",
          "evalue": "ignored",
          "traceback": [
            "\u001b[0;31m---------------------------------------------------------------------------\u001b[0m",
            "\u001b[0;31mNameError\u001b[0m                                 Traceback (most recent call last)",
            "\u001b[0;32m<ipython-input-47-03090db32dff>\u001b[0m in \u001b[0;36m<module>\u001b[0;34m()\u001b[0m\n\u001b[0;32m----> 1\u001b[0;31m \u001b[0mprint\u001b[0m\u001b[0;34m(\u001b[0m\u001b[0mnumber\u001b[0m\u001b[0;34m)\u001b[0m\u001b[0;34m\u001b[0m\u001b[0;34m\u001b[0m\u001b[0m\n\u001b[0m",
            "\u001b[0;31mNameError\u001b[0m: name 'number' is not defined"
          ]
        }
      ]
    },
    {
      "cell_type": "markdown",
      "metadata": {
        "id": "TgG4f5L171ew"
      },
      "source": [
        "* SyntaxError: 문법이 잘못되었음 (오타, 괄호 제대로 닫지 않았을 때, 콜론 잘못 사용 등)\n",
        "\n"
      ]
    },
    {
      "cell_type": "code",
      "metadata": {
        "colab": {
          "base_uri": "https://localhost:8080/",
          "height": 138
        },
        "id": "oDGsmZ4O68nh",
        "outputId": "d35d8c24-6814-4d59-c1bd-001f9f8ce4ab"
      },
      "source": [
        "#문법이 잘못되었음\n",
        "num = 1:\n",
        "print(num)"
      ],
      "execution_count": null,
      "outputs": [
        {
          "output_type": "error",
          "ename": "SyntaxError",
          "evalue": "ignored",
          "traceback": [
            "\u001b[0;36m  File \u001b[0;32m\"<ipython-input-52-17d95d7de58c>\"\u001b[0;36m, line \u001b[0;32m2\u001b[0m\n\u001b[0;31m    num = 1:\u001b[0m\n\u001b[0m           ^\u001b[0m\n\u001b[0;31mSyntaxError\u001b[0m\u001b[0;31m:\u001b[0m invalid syntax\n"
          ]
        }
      ]
    },
    {
      "cell_type": "markdown",
      "metadata": {
        "id": "MEEHp7ic8TND"
      },
      "source": [
        "* TypeError: 타입이 맞지 않음"
      ]
    },
    {
      "cell_type": "code",
      "metadata": {
        "colab": {
          "base_uri": "https://localhost:8080/",
          "height": 213
        },
        "id": "QxnhxM0O8zKX",
        "outputId": "11fe636e-e124-4a3e-ce89-db79835b7277"
      },
      "source": [
        "a, b = \"1\", \"1\"\n",
        "c = a - b\n",
        "print(c)"
      ],
      "execution_count": null,
      "outputs": [
        {
          "output_type": "error",
          "ename": "TypeError",
          "evalue": "ignored",
          "traceback": [
            "\u001b[0;31m---------------------------------------------------------------------------\u001b[0m",
            "\u001b[0;31mTypeError\u001b[0m                                 Traceback (most recent call last)",
            "\u001b[0;32m<ipython-input-55-c8ae4fef95a7>\u001b[0m in \u001b[0;36m<module>\u001b[0;34m()\u001b[0m\n\u001b[1;32m      1\u001b[0m \u001b[0ma\u001b[0m\u001b[0;34m,\u001b[0m \u001b[0mb\u001b[0m \u001b[0;34m=\u001b[0m \u001b[0;34m\"1\"\u001b[0m\u001b[0;34m,\u001b[0m \u001b[0;34m\"1\"\u001b[0m\u001b[0;34m\u001b[0m\u001b[0;34m\u001b[0m\u001b[0m\n\u001b[0;32m----> 2\u001b[0;31m \u001b[0mc\u001b[0m \u001b[0;34m=\u001b[0m \u001b[0ma\u001b[0m \u001b[0;34m-\u001b[0m \u001b[0mb\u001b[0m\u001b[0;34m\u001b[0m\u001b[0;34m\u001b[0m\u001b[0m\n\u001b[0m\u001b[1;32m      3\u001b[0m \u001b[0mprint\u001b[0m\u001b[0;34m(\u001b[0m\u001b[0mc\u001b[0m\u001b[0;34m)\u001b[0m\u001b[0;34m\u001b[0m\u001b[0;34m\u001b[0m\u001b[0m\n",
            "\u001b[0;31mTypeError\u001b[0m: unsupported operand type(s) for -: 'str' and 'str'"
          ]
        }
      ]
    },
    {
      "cell_type": "markdown",
      "metadata": {
        "id": "Zc5VIJ698_Ps"
      },
      "source": [
        "* ZeroDivisionError: 0으로나눌 수 없음"
      ]
    },
    {
      "cell_type": "code",
      "metadata": {
        "colab": {
          "base_uri": "https://localhost:8080/",
          "height": 213
        },
        "id": "SoDiTjwc9Fo8",
        "outputId": "f732487c-5f32-4472-bbb2-c93a894bdc8a"
      },
      "source": [
        "a, b = 1, 0\n",
        "c = a/b\n",
        "print(c)"
      ],
      "execution_count": null,
      "outputs": [
        {
          "output_type": "error",
          "ename": "ZeroDivisionError",
          "evalue": "ignored",
          "traceback": [
            "\u001b[0;31m---------------------------------------------------------------------------\u001b[0m",
            "\u001b[0;31mZeroDivisionError\u001b[0m                         Traceback (most recent call last)",
            "\u001b[0;32m<ipython-input-58-7a5251cbbd36>\u001b[0m in \u001b[0;36m<module>\u001b[0;34m()\u001b[0m\n\u001b[1;32m      1\u001b[0m \u001b[0ma\u001b[0m\u001b[0;34m,\u001b[0m \u001b[0mb\u001b[0m \u001b[0;34m=\u001b[0m \u001b[0;36m1\u001b[0m\u001b[0;34m,\u001b[0m \u001b[0;36m0\u001b[0m\u001b[0;34m\u001b[0m\u001b[0;34m\u001b[0m\u001b[0m\n\u001b[0;32m----> 2\u001b[0;31m \u001b[0mc\u001b[0m \u001b[0;34m=\u001b[0m \u001b[0ma\u001b[0m\u001b[0;34m/\u001b[0m\u001b[0mb\u001b[0m\u001b[0;34m\u001b[0m\u001b[0;34m\u001b[0m\u001b[0m\n\u001b[0m\u001b[1;32m      3\u001b[0m \u001b[0mprint\u001b[0m\u001b[0;34m(\u001b[0m\u001b[0mc\u001b[0m\u001b[0;34m)\u001b[0m\u001b[0;34m\u001b[0m\u001b[0;34m\u001b[0m\u001b[0m\n",
            "\u001b[0;31mZeroDivisionError\u001b[0m: division by zero"
          ]
        }
      ]
    },
    {
      "cell_type": "markdown",
      "metadata": {
        "id": "TovCdqLg8nfu"
      },
      "source": [
        "* IdentationError: 들여쓰기 오류"
      ]
    },
    {
      "cell_type": "code",
      "metadata": {
        "colab": {
          "base_uri": "https://localhost:8080/",
          "height": 138
        },
        "id": "ckyvTbYz8rW4",
        "outputId": "1b1d91e4-3a67-4163-f21f-73b4855b0b17"
      },
      "source": [
        "print(1)\n",
        " print(2)"
      ],
      "execution_count": null,
      "outputs": [
        {
          "output_type": "error",
          "ename": "IndentationError",
          "evalue": "ignored",
          "traceback": [
            "\u001b[0;36m  File \u001b[0;32m\"<ipython-input-53-d78587176f97>\"\u001b[0;36m, line \u001b[0;32m2\u001b[0m\n\u001b[0;31m    print(2)\u001b[0m\n\u001b[0m    ^\u001b[0m\n\u001b[0;31mIndentationError\u001b[0m\u001b[0;31m:\u001b[0m unexpected indent\n"
          ]
        }
      ]
    },
    {
      "cell_type": "markdown",
      "metadata": {
        "id": "kugxqLh49sCq"
      },
      "source": [
        "#조건문\n",
        "\n",
        "* if\n",
        "* if-else\n",
        "* if-elif\n",
        "* if-elif-else\n",
        "* 중첩 if"
      ]
    },
    {
      "cell_type": "markdown",
      "metadata": {
        "id": "F8VQnKT_Cn9Y"
      },
      "source": [
        "##코드블록\n",
        "\n",
        "* 콜론 (:) 아래쪽부터"
      ]
    },
    {
      "cell_type": "code",
      "metadata": {
        "colab": {
          "base_uri": "https://localhost:8080/"
        },
        "id": "hAE67gfr8ru_",
        "outputId": "67d81f86-0929-4669-9f9f-fb906befa05a"
      },
      "source": [
        "#코드블록 (들여쓰기에 집중)\n",
        "a = 1\n",
        "if a < 0:\n",
        "    print('a는 0보다 작다.')\n",
        "    print('a는 음수이다')\n",
        "print('끝')"
      ],
      "execution_count": null,
      "outputs": [
        {
          "output_type": "stream",
          "text": [
            "끝\n"
          ],
          "name": "stdout"
        }
      ]
    },
    {
      "cell_type": "code",
      "metadata": {
        "colab": {
          "base_uri": "https://localhost:8080/"
        },
        "id": "mvhy8MVUCWyT",
        "outputId": "64a51de1-a093-483d-a313-09e1a8fdcbd8"
      },
      "source": [
        "#코드블록\n",
        "a = 1\n",
        "if a < 0:\n",
        "    print('a는 0보다 작다.')\n",
        "print('a는 음수이다')\n",
        "print('끝')"
      ],
      "execution_count": null,
      "outputs": [
        {
          "output_type": "stream",
          "text": [
            "a는 음수이다\n",
            "끝\n"
          ],
          "name": "stdout"
        }
      ]
    },
    {
      "cell_type": "markdown",
      "metadata": {
        "id": "egihO12EC3aL"
      },
      "source": [
        "##예제\n",
        "\n",
        "**예제: 코로나 자가진단 프로그램 1단계**\n",
        "\n",
        "체온을 입력받아 체온이 37.5도 초과이면 '등교불가'를 출력"
      ]
    },
    {
      "cell_type": "code",
      "metadata": {
        "colab": {
          "base_uri": "https://localhost:8080/"
        },
        "id": "CFEudnnQCdLr",
        "outputId": "00f334b2-ef0a-4b1c-806c-284b8fb792b9"
      },
      "source": [
        "temp = float(input('체온:'))\n",
        "if temp > 37.5:\n",
        "    print('등교불가')"
      ],
      "execution_count": null,
      "outputs": [
        {
          "output_type": "stream",
          "text": [
            "체온:35\n"
          ],
          "name": "stdout"
        }
      ]
    },
    {
      "cell_type": "code",
      "metadata": {
        "colab": {
          "base_uri": "https://localhost:8080/"
        },
        "id": "MG6VGdIVDbRG",
        "outputId": "7bd17b23-a0e7-46bb-ecae-0379a596d16a"
      },
      "source": [
        "#if~else 구조\n",
        "a = 5\n",
        "b = 4\n",
        "if a%b == 0:\n",
        "    print(f'{a}는 {b}로 나누어 떨어진다')\n",
        "else:\n",
        "    print(f'{a}는 {b}로 나머지가 {a%b}이다')"
      ],
      "execution_count": null,
      "outputs": [
        {
          "output_type": "stream",
          "text": [
            "5는 4로 나머지가 1이다\n"
          ],
          "name": "stdout"
        }
      ]
    },
    {
      "cell_type": "markdown",
      "metadata": {
        "id": "ja3rwVKZEQ5Z"
      },
      "source": [
        "**예제: 코로나 자가진단 프로그램 3단계**\n",
        "\n"
      ]
    },
    {
      "cell_type": "code",
      "metadata": {
        "colab": {
          "base_uri": "https://localhost:8080/"
        },
        "id": "2t_lzQT5D43q",
        "outputId": "62f0de69-17e9-4c59-e07c-703a2ff4cde3"
      },
      "source": [
        "temp = float(input('체온:'))\n",
        "check1 = input('코로나 검사를 기다리시나요? (y/n)')\n",
        "check2 = input('자가격리 중이신가요?')\n",
        "if temp > 37.5:\n",
        "    print('발열기준 초과: 등교불가')\n",
        "elif check1 == 'y' or 'Y':\n",
        "    print('검사대기 중 등교불가')\n",
        "elif check2 == 'y' or 'Y':\n",
        "    print('자가격리 중 등교불가')\n",
        "else:\n",
        "    print('등교가능')"
      ],
      "execution_count": null,
      "outputs": [
        {
          "output_type": "stream",
          "text": [
            "체온:38\n",
            "코로나 검사를 기다리시나요? (y/n)y\n",
            "자가격리 중이신가요?y\n",
            "발열기준 초과: 등교불가\n"
          ],
          "name": "stdout"
        }
      ]
    },
    {
      "cell_type": "markdown",
      "metadata": {
        "id": "EbFojB_xGNE7"
      },
      "source": [
        "**예제: 점수에 따른 등급 출력하기**"
      ]
    },
    {
      "cell_type": "code",
      "metadata": {
        "colab": {
          "base_uri": "https://localhost:8080/"
        },
        "id": "h2N-toBbGI7B",
        "outputId": "ce7d4ba7-3fae-4a29-8470-1e0fbfad4b76"
      },
      "source": [
        "score = int(input('점수:'))\n",
        "if score >= 90:\n",
        "    grade = 'A'\n",
        "elif score >= 80:\n",
        "    grade = 'B'\n",
        "elif score >= 70:\n",
        "    grade = 'C'\n",
        "elif score >= 60:\n",
        "    grade = 'D'\n",
        "else:\n",
        "    grade = 'F'\n",
        "print(f'당신의 등급은 {grade}입니다.')"
      ],
      "execution_count": null,
      "outputs": [
        {
          "output_type": "stream",
          "text": [
            "점수:67\n",
            "당신의 등급은 D입니다.\n"
          ],
          "name": "stdout"
        }
      ]
    },
    {
      "cell_type": "markdown",
      "metadata": {
        "id": "KPFq-ZCpHx5G"
      },
      "source": [
        "**예제: 금액에 따른 할인률 계산하기**\n",
        "\n",
        "물건 구매가를 입력 받고, 금액에 따른할인률을 계산하여 구매가, 할인율, 할인금액, 지불금액을 출력하는 프로그램 작성"
      ]
    },
    {
      "cell_type": "code",
      "metadata": {
        "colab": {
          "base_uri": "https://localhost:8080/"
        },
        "id": "ItBll1ekG8l9",
        "outputId": "13efa0da-a61e-49bb-ab23-26c249343b43"
      },
      "source": [
        "#My version\n",
        "price = int(input('물건 구매가를 입력하세요:'))\n",
        "if price >=10000:\n",
        "    discount = 5\n",
        "elif price < 50000:\n",
        "     discount = 5\n",
        "elif price >= 50000:\n",
        "    discount = 7.5\n",
        "elif price < 100000:\n",
        "    discount = 7.5\n",
        "elif price >= 100000:\n",
        "    discount = '10'\n",
        "else:\n",
        "    discount = 0\n",
        "print('구매가: ', price,'원')\n",
        "print('할인률: ', discount,'%')\n",
        "print('할인금액: ', int(price*(discount/100)),'원')\n",
        "print('지불금액: ', int(price-(price*(discount/100))),'원')"
      ],
      "execution_count": null,
      "outputs": [
        {
          "output_type": "stream",
          "text": [
            "물건 구매가를 입력하세요:60000\n",
            "구매가:  60000 원\n",
            "할인률:  5 %\n",
            "할인금액:  3000 원\n",
            "지불금액:  57000 원\n"
          ],
          "name": "stdout"
        }
      ]
    },
    {
      "cell_type": "code",
      "metadata": {
        "colab": {
          "base_uri": "https://localhost:8080/"
        },
        "id": "FCsN_W7xNyoU",
        "outputId": "fe31d4d8-6cf8-4908-c8a7-97e4e8b3d29f"
      },
      "source": [
        "#slack에 올라온 코드(simpler version)\n",
        "price = int(input('물건 구매가를 입력하세요:'))\n",
        "if price >= 100000:\n",
        "    sale = 10\n",
        "elif 50000 <= price < 100000:\n",
        "    sale = 7.5\n",
        "elif 10000 <= price < 50000:\n",
        "    sale = 5\n",
        "else:\n",
        "    sale = 0\n",
        "print('구매가: ', price,'원')\n",
        "print('할인률: ', discount,'%')\n",
        "print('할인금액: ', int(price*(discount/100)),'원')\n",
        "print('지불금액: ', int(price-(price*(discount/100))),'원')"
      ],
      "execution_count": null,
      "outputs": [
        {
          "output_type": "stream",
          "text": [
            "물건 구매가를 입력하세요:60000\n",
            "구매가:  60000 원\n",
            "할인률:  5 %\n",
            "할인금액:  3000 원\n",
            "지불금액:  57000 원\n"
          ],
          "name": "stdout"
        }
      ]
    },
    {
      "cell_type": "markdown",
      "metadata": {
        "id": "3nfJMsupNp-u"
      },
      "source": [
        "**예제: 최소값 구하기**\n",
        "\n",
        "3개의 수를 입력받아 가장 작은 수를 출력하세요.\n"
      ]
    },
    {
      "cell_type": "code",
      "metadata": {
        "colab": {
          "base_uri": "https://localhost:8080/"
        },
        "id": "Y3UR1iCkKEcr",
        "outputId": "9a826591-5e1c-46cb-b593-1901fba3dea9"
      },
      "source": [
        "#min함수 사용하기 (simple)\n",
        "no1 = int(input('넘버 1:'))\n",
        "no2 = int(input('넘버 2:'))\n",
        "no3 = int(input('넘버 3:'))\n",
        "min_no = min(no1,no2,no3)\n",
        "print('가장 작은 수:', min_no)"
      ],
      "execution_count": null,
      "outputs": [
        {
          "output_type": "stream",
          "text": [
            "넘버 1:4\n",
            "넘버 2:5\n",
            "넘버 3:1\n",
            "가장 작은 수: 1\n"
          ],
          "name": "stdout"
        }
      ]
    },
    {
      "cell_type": "code",
      "metadata": {
        "colab": {
          "base_uri": "https://localhost:8080/"
        },
        "id": "SgGOYOnYScPc",
        "outputId": "03e7ea9d-13cc-4deb-b5f0-be68a9f34b00"
      },
      "source": [
        "#slack에 올라온 코드\n",
        "#최솟값 구하기\n",
        "num1 = int(input('숫자1: '))\n",
        "num2 = int(input('숫자2: '))\n",
        "num3 = int(input('숫자3: '))\n",
        "\n",
        "if num1 < num2 and num1 < num3:\n",
        "    print(f'최솟값은: {num1}')\n",
        "elif  num2 < num1 and num2 < num3:\n",
        "    print(f'최솟값은: {num2}')\n",
        "else: \n",
        "    print(f'최솟값은: {num3}')"
      ],
      "execution_count": null,
      "outputs": [
        {
          "output_type": "stream",
          "text": [
            "숫자1: 3\n",
            "숫자2: 2\n",
            "숫자3: 5\n",
            "최솟값은: 2\n"
          ],
          "name": "stdout"
        }
      ]
    },
    {
      "cell_type": "markdown",
      "metadata": {
        "id": "FTH2MEdeR0AC"
      },
      "source": [
        "##논리연산자\n",
        "\n",
        "* 논리연산자를 사용하여 여러 개의 조건을 조합한 조건식을 만들 수 있다."
      ]
    },
    {
      "cell_type": "code",
      "metadata": {
        "colab": {
          "base_uri": "https://localhost:8080/"
        },
        "id": "FzQH-vCpRDBc",
        "outputId": "4dfde45f-ddb7-4d32-f65f-edda1b153980"
      },
      "source": [
        "# 논리 연산자(Logical operator)\n",
        "# and, or, not\n",
        "print(True and True)\n",
        "print(True and False)\n",
        "print(False and True)\n",
        "print(False and False)\n",
        "print()\n",
        "print(True or True)\n",
        "print(True or False)\n",
        "print(False or True)\n",
        "print(False or False)\n",
        "print()\n",
        "print(not True)\n",
        "print(not False)"
      ],
      "execution_count": null,
      "outputs": [
        {
          "output_type": "stream",
          "text": [
            "True\n",
            "False\n",
            "False\n",
            "False\n",
            "\n",
            "True\n",
            "True\n",
            "True\n",
            "False\n",
            "\n",
            "False\n",
            "True\n"
          ],
          "name": "stdout"
        }
      ]
    },
    {
      "cell_type": "code",
      "metadata": {
        "colab": {
          "base_uri": "https://localhost:8080/"
        },
        "id": "RkyZErrlTN1N",
        "outputId": "467711cf-153b-43c2-fc56-5305ce741b4f"
      },
      "source": [
        "#x in s\n",
        "1 in [1,2,3]"
      ],
      "execution_count": null,
      "outputs": [
        {
          "output_type": "execute_result",
          "data": {
            "text/plain": [
              "True"
            ]
          },
          "metadata": {
            "tags": []
          },
          "execution_count": 109
        }
      ]
    },
    {
      "cell_type": "code",
      "metadata": {
        "colab": {
          "base_uri": "https://localhost:8080/"
        },
        "id": "O4WOzp5pTQXS",
        "outputId": "dc96a99f-13b3-4dfc-cb76-cc5ad44e6d45"
      },
      "source": [
        "#x in s\n",
        "'a' in ('a','b','c')"
      ],
      "execution_count": null,
      "outputs": [
        {
          "output_type": "execute_result",
          "data": {
            "text/plain": [
              "True"
            ]
          },
          "metadata": {
            "tags": []
          },
          "execution_count": 110
        }
      ]
    },
    {
      "cell_type": "code",
      "metadata": {
        "colab": {
          "base_uri": "https://localhost:8080/"
        },
        "id": "8FOMwrrBTVlz",
        "outputId": "bc034924-f60b-4509-d608-c3e527fb68ee"
      },
      "source": [
        "#x not in s\n",
        "'j' not in 'python'"
      ],
      "execution_count": null,
      "outputs": [
        {
          "output_type": "execute_result",
          "data": {
            "text/plain": [
              "True"
            ]
          },
          "metadata": {
            "tags": []
          },
          "execution_count": 111
        }
      ]
    },
    {
      "cell_type": "markdown",
      "metadata": {
        "id": "1jFYPNOETmaX"
      },
      "source": [
        "**예제: 국립공원 계산기**\n",
        "\n",
        "나이를 입력받아 국립공원 입장권을 발급하는 프로그램 작성.\n",
        "\n",
        "* 입장료: 3000원\n",
        "\n",
        "* 나이 65세 이상 & 7세 이하 = 무료\n",
        "\n",
        "* 나이 8세~18세 = 청소년 요금 = 1000원"
      ]
    },
    {
      "cell_type": "code",
      "metadata": {
        "colab": {
          "base_uri": "https://localhost:8080/"
        },
        "id": "ZgeqoX_BTYtB",
        "outputId": "710a2647-ff57-458a-fcc6-3a0ae60c60b6"
      },
      "source": [
        "#입장료 계산: if & elif만 사용 (논리 연산자 사용 X)\n",
        "age = int(input('나이를 입력하세요:'))\n",
        "price = 3000\n",
        "if age <= 7:\n",
        "    price = 0\n",
        "elif age > 65:\n",
        "    price = 0\n",
        "elif 8 <= age <= 18:\n",
        "    price = 1000\n",
        "print(price, '원입니다')"
      ],
      "execution_count": null,
      "outputs": [
        {
          "output_type": "stream",
          "text": [
            "나이를 입력하세요:68\n",
            "0 원입니다\n"
          ],
          "name": "stdout"
        }
      ]
    },
    {
      "cell_type": "code",
      "metadata": {
        "colab": {
          "base_uri": "https://localhost:8080/"
        },
        "id": "-ilpWeuKU_sc",
        "outputId": "e0daa691-6058-4a9e-ef9e-258fa38b4058"
      },
      "source": [
        "#입장료 계산: or & and 사용\n",
        "age = int(input('나이를 입력하세요:'))\n",
        "price = 3000\n",
        "if age <= 7 or age > 65:\n",
        "    price = 0\n",
        "elif age >=8  and age<= 18:\n",
        "    price = 1000\n",
        "print(price, '원입니다')"
      ],
      "execution_count": null,
      "outputs": [
        {
          "output_type": "stream",
          "text": [
            "나이를 입력하세요:79\n",
            "0 원입니다\n"
          ],
          "name": "stdout"
        }
      ]
    },
    {
      "cell_type": "markdown",
      "metadata": {
        "id": "tXKkMD3xWNeL"
      },
      "source": [
        "**예제: 로그인 프로그램**\n",
        "\n",
        "사용자로부터 아이디/패스워드 받아서 프로그램에 저장된 아이디/패스워드와 일치하는지 여부 검사하여 로그인/로그인 실패를 출력하는 프로그램 작성"
      ]
    },
    {
      "cell_type": "code",
      "metadata": {
        "colab": {
          "base_uri": "https://localhost:8080/"
        },
        "id": "qbtsuDafVuGx",
        "outputId": "85fe4ff3-c3a4-471a-a0b8-f9622eaa5a85"
      },
      "source": [
        "#My version\n",
        "user_id = input('아이디:')\n",
        "user_password = input('패스워드:')\n",
        "if id =='ID1234' and password == 'PWD1234':\n",
        "    print('로그인 성공')\n",
        "else:\n",
        "    print('로그인 실패')"
      ],
      "execution_count": null,
      "outputs": [
        {
          "output_type": "stream",
          "text": [
            "아이디:ID1234\n",
            "패스워드:PWD1234\n",
            "로그인 성공\n"
          ],
          "name": "stdout"
        }
      ]
    },
    {
      "cell_type": "code",
      "metadata": {
        "colab": {
          "base_uri": "https://localhost:8080/"
        },
        "id": "PjT0x-S0atKB",
        "outputId": "586e74da-383d-4af9-b37f-d235fd55f3d3"
      },
      "source": [
        "#강의에서 주어진 코드\n",
        "id = 'ID1234'\n",
        "password = 'PWD1234'\n",
        "user_id = input('아이디:')\n",
        "user_password = input('패스워드:')\n",
        "if id == user_id and password == user_password:\n",
        "    print('로그인 성공')\n",
        "else:\n",
        "    print('로그인 실패')"
      ],
      "execution_count": null,
      "outputs": [
        {
          "output_type": "stream",
          "text": [
            "아이디:ID1234\n",
            "패스워드:PWD0000\n",
            "로그인 실패\n"
          ],
          "name": "stdout"
        }
      ]
    },
    {
      "cell_type": "markdown",
      "metadata": {
        "id": "SY579K2XYlVb"
      },
      "source": [
        "**예제: 사칙연산 프로그램**\n",
        "\n",
        "두 수와 사칙연산 기호를 입력받아 연산 기호에 따라 연산 결과를 출력하는 프로그램 작성"
      ]
    },
    {
      "cell_type": "code",
      "metadata": {
        "colab": {
          "base_uri": "https://localhost:8080/"
        },
        "id": "AwmQv_OWXT5d",
        "outputId": "3e3ea06c-c4dd-4eea-9325-03e32f069674"
      },
      "source": [
        "#My version\n",
        "numb1 = int(input('숫자1:'))\n",
        "numb2 = int(input('숫자2:'))\n",
        "sym = input('연산기호(+,-,*,/):')\n",
        "if sym == '+':\n",
        "    outcome = numb1+numb2\n",
        "elif sym == '-':\n",
        "    outcome = numb1-numb2\n",
        "elif sym == '*':\n",
        "    outcome = numb1*numb2\n",
        "elif sym == \"/\":\n",
        "    outcome = numb1/numb2\n",
        "print('-'*50)\n",
        "print(numb1,sym,numb2,'=',outcome)"
      ],
      "execution_count": null,
      "outputs": [
        {
          "output_type": "stream",
          "text": [
            "숫자1:6\n",
            "숫자2:4\n",
            "연산기호(+,-,*,/):+\n",
            "--------------------------------------------------\n",
            "6 + 4 = 10\n"
          ],
          "name": "stdout"
        }
      ]
    },
    {
      "cell_type": "code",
      "metadata": {
        "colab": {
          "base_uri": "https://localhost:8080/"
        },
        "id": "hEpgdJEOZfcU",
        "outputId": "b1658b74-2b1f-4912-9219-e7d402f56ca1"
      },
      "source": [
        "#강의에서 주어진 코드 (similar)\n",
        "numb1 = int(input('숫자1:'))\n",
        "numb2 = int(input('숫자2:'))\n",
        "sym = input('연산기호(+,-,*,/):')\n",
        "outcome = 0\n",
        "if sym == '+':\n",
        "    outcome = numb1+numb2\n",
        "elif sym == '-':\n",
        "    outcome = numb1-numb2\n",
        "elif sym == '*':\n",
        "    outcome = numb1*numb2\n",
        "elif sym == \"/\":\n",
        "    outcome = numb1/numb2\n",
        "print('-'*50)\n",
        "print(f'{numb1} {sym} {numb2} = {outcome}')"
      ],
      "execution_count": null,
      "outputs": [
        {
          "output_type": "stream",
          "text": [
            "숫자1:6\n",
            "숫자2:2\n",
            "연산기호(+,-,*,/):/\n",
            "--------------------------------------------------\n",
            "6 / 2 = 3.0\n"
          ],
          "name": "stdout"
        }
      ]
    },
    {
      "cell_type": "markdown",
      "metadata": {
        "id": "0JMrlJi3fazb"
      },
      "source": [
        "**예제: 주사위 던지기 게임**\n",
        "\n",
        "두 개의 주사위를 던져 더 큰 수가 나오는 사람이 이기는 게임"
      ]
    },
    {
      "cell_type": "code",
      "metadata": {
        "colab": {
          "base_uri": "https://localhost:8080/"
        },
        "id": "cNn3_NOCdctM",
        "outputId": "bf2a8b21-cd14-407e-c90e-ac175a1ae330"
      },
      "source": [
        "#My version\n",
        "dice1 = int(input('주사위1:'))\n",
        "dice2 = int(input('주사위2:'))\n",
        "\n",
        "import random\n",
        "dice1 = random.randint(1,6)\n",
        "dice2 = random.randint(1,6)\n",
        "if dice1 > dice2:\n",
        "    print('주사위1이 이겼습니다')\n",
        "elif dice1 < dice2:\n",
        "    print('주사위2가 이겼습니다')\n",
        "else:\n",
        "    print('동점입니다')"
      ],
      "execution_count": null,
      "outputs": [
        {
          "output_type": "stream",
          "text": [
            "주사위1:3\n",
            "주사위2:4\n",
            "주사위1이 이겼습니다\n"
          ],
          "name": "stdout"
        }
      ]
    },
    {
      "cell_type": "code",
      "metadata": {
        "id": "rxx703Pan7Uw"
      },
      "source": [
        "#slack에 올라온 예제 (출처: 신동열 님) => 참고\n",
        "#10번 주사위를 던졌을때 승패 비율 까지 나올 수 있게 만들어진 코드\n",
        "win_1={0]\n",
        "win_2=[0]\n",
        "lose_1=[0]\n",
        "lose_2=[0]\n",
        "import random\n",
        "for i in range(10):\n",
        "    no1=random.randint(1,6)\n",
        "    no2=random.randint(1,6)\n",
        "    if no1>no2:\n",
        "        print(f'주사위1:{no1},주사위2:{no2} 주사위 1이 이겼습니다')\n",
        "        win_1[0]+=1\n",
        "        lose_2[0]+=1\n",
        "    elif no1<no2:\n",
        "        print(f'주사위1:{no1},주사위2:{no2} 주사위 2가 이겼습니다')\n",
        "        win_2[0]+=1\n",
        "        lose_1[0]+=1\n",
        "    else :\n",
        "        print(f'주사위1:{no1},주사위2:{no2} 주사위 수가 같습니다.')\n",
        "print(f'''주사위1 {win_1}승{lose_1}패\n",
        "주사위2 {win_2}승 {lose_2}패''')"
      ],
      "execution_count": null,
      "outputs": []
    }
  ]
}