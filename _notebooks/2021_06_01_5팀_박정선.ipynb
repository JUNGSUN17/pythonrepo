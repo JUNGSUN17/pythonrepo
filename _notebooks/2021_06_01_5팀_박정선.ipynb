{
  "nbformat": 4,
  "nbformat_minor": 0,
  "metadata": {
    "colab": {
      "name": "2021-06-01-5팀-박정선.ipynb",
      "private_outputs": true,
      "provenance": [],
      "collapsed_sections": [],
      "include_colab_link": true
    },
    "kernelspec": {
      "name": "python3",
      "display_name": "Python 3"
    },
    "language_info": {
      "name": "python"
    }
  },
  "cells": [
    {
      "cell_type": "markdown",
      "metadata": {
        "id": "view-in-github",
        "colab_type": "text"
      },
      "source": [
        "<a href=\"https://colab.research.google.com/github/JUNGSUN17/pythonrepo/blob/master/_notebooks/2021_06_01_5%ED%8C%80_%EB%B0%95%EC%A0%95%EC%84%A0.ipynb\" target=\"_parent\"><img src=\"https://colab.research.google.com/assets/colab-badge.svg\" alt=\"Open In Colab\"/></a>"
      ]
    },
    {
      "cell_type": "markdown",
      "metadata": {
        "id": "zRMexMAKURQR"
      },
      "source": [
        "# 반복문"
      ]
    },
    {
      "cell_type": "markdown",
      "metadata": {
        "id": "maEF36roZyw6"
      },
      "source": [
        "## for 구조: 횟수 제어 반복"
      ]
    },
    {
      "cell_type": "code",
      "metadata": {
        "id": "IxQaZ72nUPIw"
      },
      "source": [
        "#제어 변수: 관용적으로 i, j가 사용된다.\n",
        "#시퀀스에 있는 값이 제어변수에 하나씩 할당되며 값이 할당될 때마다 명령블록이 실행된다.\n",
        "for i in [1,2,3,4,5,6,9,9]:\n",
        "    print(i)"
      ],
      "execution_count": null,
      "outputs": []
    },
    {
      "cell_type": "code",
      "metadata": {
        "id": "tTNybxekaAqL"
      },
      "source": [
        "for i in 'computer':\n",
        "    print(i)"
      ],
      "execution_count": null,
      "outputs": []
    },
    {
      "cell_type": "code",
      "metadata": {
        "id": "Q5FGJem5vfIb"
      },
      "source": [
        "for i in 'computer':\n",
        "    print(i, end = '')"
      ],
      "execution_count": null,
      "outputs": []
    },
    {
      "cell_type": "code",
      "metadata": {
        "id": "R0MPxj_NaJnN"
      },
      "source": [
        "for i in range(5):\n",
        "    print(i)\n"
      ],
      "execution_count": null,
      "outputs": []
    },
    {
      "cell_type": "markdown",
      "metadata": {
        "id": "GC2jKwBt0wLO"
      },
      "source": [
        "###range() 함수\n",
        "* 일정한 범위의 정수들을 생성한다.\n",
        "\n",
        "**range([initial_value, ] final value [, **step**])**\n",
        "=> 증가값 생략 가능"
      ]
    },
    {
      "cell_type": "code",
      "metadata": {
        "id": "LZmrOMAmahdq"
      },
      "source": [
        "#range함수\n",
        "for i in range(5):\n",
        "    print(i,end= \" \")"
      ],
      "execution_count": null,
      "outputs": []
    },
    {
      "cell_type": "code",
      "metadata": {
        "id": "pszt-RyzatRX"
      },
      "source": [
        "#range함수\n",
        "for i in range(1,6):\n",
        "    print(i,end= \" \") "
      ],
      "execution_count": null,
      "outputs": []
    },
    {
      "cell_type": "code",
      "metadata": {
        "id": "Gq8ERDZsayuF"
      },
      "source": [
        "#range함수\n",
        "for i in range(1,10,2):\n",
        "    print(i,end= \" \")"
      ],
      "execution_count": null,
      "outputs": []
    },
    {
      "cell_type": "code",
      "metadata": {
        "id": "oz4Uxx3B1YbW"
      },
      "source": [
        "#range함수\n",
        "for i in range(1,100,20):\n",
        "    print(i,end= \" \")"
      ],
      "execution_count": null,
      "outputs": []
    },
    {
      "cell_type": "code",
      "metadata": {
        "id": "tJlXfTpu2TpG"
      },
      "source": [
        "#range함수 (띄어쓰기 X)\n",
        "for i in range(1,100,20):\n",
        "    print(i,end= \"\")"
      ],
      "execution_count": null,
      "outputs": []
    },
    {
      "cell_type": "code",
      "metadata": {
        "id": "uyrCeTvd2Xtr"
      },
      "source": [
        "#range함수\n",
        "for i in range(1,100,20):\n",
        "    print(i)"
      ],
      "execution_count": null,
      "outputs": []
    },
    {
      "cell_type": "code",
      "metadata": {
        "id": "BMeoGYaJa72X"
      },
      "source": [
        "#range함수-역순 : 오류 => 시작값은 끝값보다 앞에 위치하여야 한다\n",
        "for i in range(1,10,-1):\n",
        "    print(i,end= \" \")"
      ],
      "execution_count": null,
      "outputs": []
    },
    {
      "cell_type": "code",
      "metadata": {
        "id": "9r5YMNsebH0M"
      },
      "source": [
        "#range함수-역순\n",
        "for i in range(10,0,-1):\n",
        "    print(i,end= \" \")"
      ],
      "execution_count": null,
      "outputs": []
    },
    {
      "cell_type": "code",
      "metadata": {
        "id": "MUpGr-DGcf3q"
      },
      "source": [
        "for i in range(100):\n",
        "    print('Hello World!!')"
      ],
      "execution_count": null,
      "outputs": []
    },
    {
      "cell_type": "markdown",
      "metadata": {
        "id": "FpHK-Xnfcvwb"
      },
      "source": [
        "## while 구조: 조건 제어 반복\n"
      ]
    },
    {
      "cell_type": "code",
      "metadata": {
        "id": "Wp48W6NAc05N"
      },
      "source": [
        "#예제: 1부터 5까지 숫자 출력하기\n",
        "i = 1\n",
        "#while문 옆에는 무조건 조건식이 들어가야 한다 (리스트 no)\n",
        "while i <= 5:               #루프의 조건식에 사용되는 변수는 루프에 들어가기 전, 초기화되어야 한다.\n",
        "    print(i,end= ' ')\n",
        "    i = i + 1               #루프의 조건식에 사용되는 변수 값은 루프 내에서 변경되어야 한다."
      ],
      "execution_count": null,
      "outputs": []
    },
    {
      "cell_type": "code",
      "metadata": {
        "id": "nQ0Ye4XW4PF1"
      },
      "source": [
        "#예제: 1부터 5까지 숫자 출력하기\n",
        "i = 0\n",
        "while i <= 5:\n",
        "    i = i + 1\n",
        "    print(i,end= ' ')"
      ],
      "execution_count": null,
      "outputs": []
    },
    {
      "cell_type": "code",
      "metadata": {
        "id": "AdoQ4JQg4hg9"
      },
      "source": [
        "#예제: 1부터 5까지 숫자 출력하기\n",
        "i = 1\n",
        "while i <= 5:\n",
        "    \n",
        "    print(i,end= ' ')\n",
        "    i = i + 1"
      ],
      "execution_count": null,
      "outputs": []
    },
    {
      "cell_type": "code",
      "metadata": {
        "id": "USkvFli4dK07"
      },
      "source": [
        "for i in range(1,6):\n",
        "    print(i,end=' ')\n"
      ],
      "execution_count": null,
      "outputs": []
    },
    {
      "cell_type": "markdown",
      "metadata": {
        "id": "5kU128CEZB99"
      },
      "source": [
        "무한루프일때 `ctrl+ m i` => 실행중단"
      ]
    },
    {
      "cell_type": "code",
      "metadata": {
        "id": "7zuheP1Tdkry"
      },
      "source": [
        "#무한루프 \n",
        "#변수i를 증가시키는 것을 까먹어서 무한루프에 빠졌다. 변수 i는 영원히 1이다. 따라서 i<=는 영원히 True이다. \n",
        "i = 1         \n",
        "while i <= 5: # i값이 계속 1이므로 무한루프\n",
        "    print(i)\n",
        "print('end')"
      ],
      "execution_count": null,
      "outputs": []
    },
    {
      "cell_type": "markdown",
      "metadata": {
        "id": "m3YaE5ZsZsQ7"
      },
      "source": [
        "### 예제"
      ]
    },
    {
      "cell_type": "code",
      "metadata": {
        "id": "wTts-HBaZxIB"
      },
      "source": [
        "# q를 입력할 때까지 반복하여 이름을 입력받는 프로그램 작성\n",
        "name = ' '\n",
        "while name != 'q':\n",
        "    name = input('이름을 입력하세요:')\n",
        "    print(name) #Tap 사용"
      ],
      "execution_count": null,
      "outputs": []
    },
    {
      "cell_type": "code",
      "metadata": {
        "id": "qLWtTlXpGg8f"
      },
      "source": [
        "# q를 입력할 때까지 반복하여 이름을 입력받는 프로그램 작성\n",
        "name = ' '\n",
        "while name != 'q':\n",
        "    name = input('이름을 입력하세요:')\n",
        "print(name) #Tap 미사용"
      ],
      "execution_count": null,
      "outputs": []
    },
    {
      "cell_type": "code",
      "metadata": {
        "id": "woM3yP69-DMF"
      },
      "source": [
        "# 매운오돌뼈를 입력할 때까지 반복입력\n",
        "food = ' '\n",
        "while food != '매운오돌뼈':\n",
        "    food = input('음식명 입력:')\n",
        "    print(food) "
      ],
      "execution_count": null,
      "outputs": []
    },
    {
      "cell_type": "code",
      "metadata": {
        "id": "CRaduLAnmvWE"
      },
      "source": [
        "# 매운오돌뼈를 입력할 때까지 반복입력\n",
        "food = ' '\n",
        "while food != '매운오돌뼈':\n",
        "    food = input('음식명 입력:')\n",
        "print(food) #들여쓰기 안 함"
      ],
      "execution_count": null,
      "outputs": []
    },
    {
      "cell_type": "code",
      "metadata": {
        "id": "kN9o1lW3aWiw"
      },
      "source": [
        "# q를 입력할 때까지 반복입력\n",
        "name = ' '\n",
        "while name != 'q':\n",
        "    name = input('이름을 입력하세요:')\n",
        "    if name != 'q':\n",
        "        print(name)\n"
      ],
      "execution_count": null,
      "outputs": []
    },
    {
      "cell_type": "code",
      "metadata": {
        "id": "eyOYvls3-qb4"
      },
      "source": [
        "# elephant를 입력할 때까지 반복입력\n",
        "animal = ' '\n",
        "while animal != 'elephant':\n",
        "    animal = input('동물:')\n",
        "    if animal != 'elephant':\n",
        "        print('No')\n",
        "print(animal) "
      ],
      "execution_count": null,
      "outputs": []
    },
    {
      "cell_type": "markdown",
      "metadata": {
        "id": "wcRYAMIUbjm2"
      },
      "source": [
        "##반복문 예제"
      ]
    },
    {
      "cell_type": "markdown",
      "metadata": {
        "id": "a9m6cfZlb7iM"
      },
      "source": [
        "### 예제 1"
      ]
    },
    {
      "cell_type": "code",
      "metadata": {
        "id": "kEyBqS0GbzTW"
      },
      "source": [
        "# 5개의 정수를 입력 받아 합계를 구하여 출력\n",
        "sum1 = 0                                #합계 초기화\n",
        "for i in range(5):                      #5번 반복\n",
        "    sum1 += int(input('정수입력:'))     #입력 & 입력한 결과를 합계에 누적하여 더하기 (한번에 해결)\n",
        "print('합계출력:',sum1)                 #합계 출력"
      ],
      "execution_count": null,
      "outputs": []
    },
    {
      "cell_type": "code",
      "metadata": {
        "id": "uO2VBaSjA1b-"
      },
      "source": [
        "# 5개의 정수를 입력 받아 합계를 구하여 출력\n",
        "sum = 0                                 #합계 초기화\n",
        "for i in range(5):                      #5번 반복\n",
        "    num = int(input('정수입력:'))       #입력 \n",
        "    sum += num                          #입력한 결과를 합계에 누적하여 더하기 (나누어서 해결)\n",
        "print('합계출력:',sum)                  #합계 출력"
      ],
      "execution_count": null,
      "outputs": []
    },
    {
      "cell_type": "code",
      "metadata": {
        "id": "CR9Vc1EsBTLl"
      },
      "source": [
        "# 3개의 실수를 입력 받아 합계 출력\n",
        "sum1 = 0                                 #합계 초기화\n",
        "for i in range(3):                       #3번 반복\n",
        "    num = float(input('실수:'))          #입력 \n",
        "    sum1 += num                          #입력한 결과를 합계에 누적하여 더하기\n",
        "print('합계출력:',sum1)"
      ],
      "execution_count": null,
      "outputs": []
    },
    {
      "cell_type": "markdown",
      "metadata": {
        "id": "t9jO2kXredER"
      },
      "source": [
        "### 예제 2"
      ]
    },
    {
      "cell_type": "code",
      "metadata": {
        "id": "MNW4dp--dfWX"
      },
      "source": [
        "# 사용자로부터 n을 입력받고, n개의 정수를 입력 받아 합계 출력\n",
        "sum1 = 0\n",
        "n = int(input('몇개의 숫자를 더할까요? :'))\n",
        "for i in range(n):\n",
        "    sum1 += int(input('정수입력:'))\n",
        "print('합계출력:',sum1)"
      ],
      "execution_count": null,
      "outputs": []
    },
    {
      "cell_type": "code",
      "metadata": {
        "id": "sKyleeVXDRpZ"
      },
      "source": [
        "# 사용자로부터 n을 입력받고, n개의 정수를 입력 받아 합계 출력\n",
        "sum1 = 0\n",
        "n = int(input('몇개의 숫자를 더할까요? :'))\n",
        "for i in range(n):\n",
        "    num = int(input('정수입력:'))\n",
        "    sum1 += num\n",
        "print('합계출력:',sum1)"
      ],
      "execution_count": null,
      "outputs": []
    },
    {
      "cell_type": "code",
      "metadata": {
        "id": "qIdeAGuhEQJy"
      },
      "source": [
        "#곱하기\n",
        "mult = 3\n",
        "n = int(input('몇개의 숫자를 곱할까요? :'))\n",
        "for i in range(n):\n",
        "    num = int(input('정수:'))\n",
        "    mult *= num\n",
        "print('합계출력:',mult)"
      ],
      "execution_count": null,
      "outputs": []
    },
    {
      "cell_type": "markdown",
      "metadata": {
        "id": "FW9wNNXdekgd"
      },
      "source": [
        "### 예제 3"
      ]
    },
    {
      "cell_type": "code",
      "metadata": {
        "id": "Nk9bWwkyejty"
      },
      "source": [
        "# 사용자로부터 n을 입력받고, n개의 정수를 입력 받아 짝수의 합계 구하기\n",
        "sum1 = 0\n",
        "n = int(input('몇개의 숫자를 더할까요? :'))\n",
        "for i in range(n):\n",
        "    num = int(input('정수입력:'))\n",
        "    if num % 2 == 0:\n",
        "        sum1 += num\n",
        "print('합계출력:',sum1)"
      ],
      "execution_count": null,
      "outputs": []
    },
    {
      "cell_type": "code",
      "metadata": {
        "id": "_vLH7PxbFNkK"
      },
      "source": [
        "#3의 배수 합계 구하기\n",
        "sum1 = 0\n",
        "n = int(input('몇개의 숫자를 더할까요? :'))\n",
        "for i in range(n):\n",
        "    num = int(input('정수입력:'))\n",
        "    if num % 3 == 0:\n",
        "        sum1 += num\n",
        "print('합계출력:',sum1)"
      ],
      "execution_count": null,
      "outputs": []
    },
    {
      "cell_type": "markdown",
      "metadata": {
        "id": "6mMH-WpMgLX6"
      },
      "source": [
        "### 예제 4"
      ]
    },
    {
      "cell_type": "code",
      "metadata": {
        "id": "TB-ZwutogOIL"
      },
      "source": [
        "# 0이 입력될 때까지 숫자를 입력 받아 합계\n",
        "total_sum = 0\n",
        "num = int(input('숫자:'))\n",
        "while num != 0:\n",
        "    total_sum += num\n",
        "    num = int(input('숫자:'))\n",
        "\n",
        "print('합계출력:',total_sum) "
      ],
      "execution_count": null,
      "outputs": []
    },
    {
      "cell_type": "code",
      "metadata": {
        "id": "DRluFaxjG7g8"
      },
      "source": [
        "# 100이 입력될 때까지 숫자를 입력 받아 합계\n",
        "total_sum = 20\n",
        "num = int(input('숫자:'))\n",
        "while num != 100:\n",
        "    total_sum += num\n",
        "    num = int(input('숫자:'))\n",
        "print('합계출력:',total_sum)"
      ],
      "execution_count": null,
      "outputs": []
    },
    {
      "cell_type": "code",
      "metadata": {
        "id": "oWdErUgMHJrp"
      },
      "source": [
        "total_sum = 0\n",
        "check = 1\n",
        "num = ' '      #초기값\n",
        "while num != 0 and check == 1:\n",
        "    num = int(input('숫자:'))\n",
        "    total_sum += num\n",
        "print('합계출력:',total_sum)"
      ],
      "execution_count": null,
      "outputs": []
    },
    {
      "cell_type": "code",
      "metadata": {
        "id": "07kfoS9hIJFW"
      },
      "source": [
        "#초기값 0\n",
        "total_sum = 0\n",
        "check = 1\n",
        "num = 0     #초기값\n",
        "while num != 0 and check ==1:\n",
        "    num = int(input('숫자:'))\n",
        "    total_sum += num\n",
        "print('합계출력:',total_sum)"
      ],
      "execution_count": null,
      "outputs": []
    },
    {
      "cell_type": "code",
      "metadata": {
        "id": "BnDDLpTkKwFC"
      },
      "source": [
        "#Zoom에 올라온 문제\n",
        "sum1 = 0\n",
        "chk = 1\n",
        "\n",
        "while num!=0 or chk == 1:\n",
        "    sum1+=num\n",
        "    num = int(input(\"숫자: \"))\n",
        "    if chk == 1:\n",
        "        chk = 1 + chk\n",
        "print('합계:', sum1)"
      ],
      "execution_count": null,
      "outputs": []
    },
    {
      "cell_type": "markdown",
      "metadata": {
        "id": "8QQ7Bn1TMBQB"
      },
      "source": [
        "###예제 5"
      ]
    },
    {
      "cell_type": "code",
      "metadata": {
        "id": "bM3JYZVVMDYg"
      },
      "source": [
        "#숫자n을 입력받아 1~N까지의 합을 구하여 출력\n",
        "tot_sum = 0\n",
        "no = int(input('1부터 몇까지 더할까요?:'))\n",
        "for i in range(1, no+1):\n",
        "    tot_sum += i\n",
        "    print(i)\n",
        "print(f'1부터 {no}까지 더한 합계는 {tot_sum}입니다')"
      ],
      "execution_count": null,
      "outputs": []
    },
    {
      "cell_type": "code",
      "metadata": {
        "id": "vJ5kpgC0OTf7"
      },
      "source": [
        "tot_sum = 0\n",
        "n = int(input('1부터 몇까지 더할까요?:'))\n",
        "for x in range(1, n+1):\n",
        "    tot_sum += x\n",
        "print(f'1부터 {n}까지 더한 합계는?:',tot_sum)"
      ],
      "execution_count": null,
      "outputs": []
    },
    {
      "cell_type": "code",
      "metadata": {
        "id": "zJLnn7FLOywO"
      },
      "source": [
        "#slack에 올라온 답\n",
        "sum_1 = 0\n",
        "n = int(input('1부터 몇까지 더할까요? :'))\n",
        "for i in range(1,n+1):\n",
        "    sum_1 += i\n",
        "print(f'총 합계는 {sum_1}입니다')"
      ],
      "execution_count": null,
      "outputs": []
    },
    {
      "cell_type": "markdown",
      "metadata": {
        "id": "AAJOo6lHaU0m"
      },
      "source": [
        "###예제 6 "
      ]
    },
    {
      "cell_type": "code",
      "metadata": {
        "id": "JkngKxHuaST-"
      },
      "source": [
        "# 숫자 n1, n2를 입력받아 n1~n2까지의 합을 구하여 출력\n",
        "sum1 =0\n",
        "no1 = int(input('몇부터 더할까요? :'))\n",
        "no2 = int(input('몇까지 더할까요? :'))\n",
        "for i in range(no1,no2+1):\n",
        "    sum1 += i\n",
        "print(f'{no1}부터 {no2}까지 더한 합계는: {sum1}이다')"
      ],
      "execution_count": null,
      "outputs": []
    },
    {
      "cell_type": "code",
      "metadata": {
        "id": "Dmqq_PjOefgZ"
      },
      "source": [
        "# n1, n2를 받아 n1~n2까지 출력하기 예제 (코드메이트 님 설명 version)\n",
        "# 숫자 n1,n2를 받아 n1~n2까지의 합계 출력\n",
        "sum1 = 0 # 앞으로 사용할 sum1 = 0값을 대입, 후에 문제가 발생하지 않게 미리 선언해줌 \n",
        "n1 = int(input('몇부터 더할까요? :')) # n1 받기 \n",
        "n2 = int(input('몇까지 더할까요? :')) # n2 받기 \n",
        "for i in range(n1,n2+1): # n1~n2까지 반복, range(시작값, 끝값+1) 주의 \n",
        "    sum1 += i # sum1 = sum1 + i 와 동일합니다. sum1에 0이 있으므로 n1부터 n2까지 더해집니다 \n",
        "print(f'{n1}부터 {n2}까지 더한 합계는:',sum1) # 더한 값 출력하기#"
      ],
      "execution_count": null,
      "outputs": []
    },
    {
      "cell_type": "markdown",
      "metadata": {
        "id": "_wT90bNibxmZ"
      },
      "source": [
        "###예제 7"
      ]
    },
    {
      "cell_type": "code",
      "metadata": {
        "id": "eCybREulbaTw"
      },
      "source": [
        "# n개의 숫자를 입력받아 (for문: 반복), 그 숫자들의 평균을 계산해서 출력.\n",
        "#프로그램 실행 초반에 사용자가 입력할 숫자의 개수를 입력 받는다.\n",
        "\n",
        "#임의의 개수 숫자 평균\n",
        "n = int(input('입력받을 정수의 개수:'))\n",
        "tot_sum = 0\n",
        "for i in range(n):\n",
        "    num = int(input('정수:'))\n",
        "    tot_sum += num\n",
        "if n == 0:\n",
        "    print('0개의 정수가 입력되었다')\n",
        "else:\n",
        "    print('평균:', tot_sum/n)"
      ],
      "execution_count": null,
      "outputs": []
    },
    {
      "cell_type": "code",
      "metadata": {
        "id": "E2fCLXCKd5Vm"
      },
      "source": [
        "#임의의 개수 숫자 평균 (정수 평균)\n",
        "n = int(input('입력받을 정수의 개수:'))\n",
        "tot_sum = 0                 #초기값 설정 필요\n",
        "for i in range(n):\n",
        "    num = int(input('정수:'))\n",
        "    tot_sum += num\n",
        "if n == 0:\n",
        "    print('0개의 정수가 입력되었다')\n",
        "else:\n",
        "    print('평균:', int(tot_sum/n))"
      ],
      "execution_count": null,
      "outputs": []
    },
    {
      "cell_type": "code",
      "metadata": {
        "id": "2FNRv6jibZ0q"
      },
      "source": [
        "# 임의의 개수 숫자의 평균 예제 (코드메이트 님 설명 version)\n",
        "n = int(input('입력받을 정수의 개수:')) # 몇 개의 정수를 입력받을 지 설정 \n",
        "sum1=0 # 앞으로 사용할 sum1 = 0대입해서 후에 문제가 발생하지 않게 조정해줍니다 \n",
        "for i in range(n): # n번 반복, 주의) range(n) = 0,1,2...,n-1이 들어가서 n번 반복됩니다 \n",
        "    num = int(input('정수:')) # 정수입력받기 \n",
        "    sum1 += num # sum1 = sum1 + num \n",
        "# 해석\n",
        "\"\"\"\n",
        "예를 들어 n = 2라고 하면 처음에 i = 0이 들어가 1번 for문을 실행해줍니다\n",
        "그리고 num 에 원하는 정수를 받아주고 \n",
        "받은 정수 num을 sum1에 넣어줍니다.(이 상태에서 sum1 = num입니다)\n",
        "for문 안에 내용을 한 번 다 실행시켜주었으니 다시 위로 올라갑니다\n",
        "i = 1이 들어가고 2번째 반복문을 실행시켜줍니다\n",
        "num에 원하는 정수를 받아줍니다.\n",
        "받은 정수 num을 sum1에 넣어줍니다.(이 상태에서 sum1 = 첫 번째 받은 정수 + 두 번째 받은 정수)\n",
        "이후 for문을 총 2번 반복해주었기에 for문에서 나갑니다. \n",
        "\"\"\" \n",
        "if n == 0:\n",
        "    print('0개의 정수를 입력하셨습니다') # 만약 i = 0이면 정수를 받을 수 없습니다. \n",
        "else:\n",
        "    print('평균:', sum1/n) # sum1 = 받은 정수의 합, n = 정수의 갯수, sum1/n : 평균값"
      ],
      "execution_count": null,
      "outputs": []
    },
    {
      "cell_type": "markdown",
      "metadata": {
        "id": "9kFPsudSfTkl"
      },
      "source": [
        "###예제 8"
      ]
    },
    {
      "cell_type": "code",
      "metadata": {
        "id": "lyLi79JndXtE"
      },
      "source": [
        "#정수 n을 입력받아 n!을 계산\n",
        "# n! = n * (n-1) * ... * 2 * 1\n",
        "n = int(input('몇 factorial? :'))\n",
        "factorial = 1\n",
        "for i in range (n, 0, -1):\n",
        "    factorial *= i\n",
        "    print(i,factorial)\n",
        "print(f'{n}! = {factorial}')"
      ],
      "execution_count": null,
      "outputs": []
    },
    {
      "cell_type": "code",
      "metadata": {
        "id": "SgV3KRkZavMq"
      },
      "source": [
        "# 팩토리얼 계산하기 예제 (코드메이트 님 설명 version)\n",
        "# 정수 n을 입력받아 n!을 계산하는 프로그램 작성\n",
        "# n! = n * (n - 1) * (n - 2) * ...*1 # n팩토리얼에 대한 수학적 설명\n",
        "n = int(input('몇 팩토리얼? :')) # n을 받기 \n",
        "sum1=1 # n! = n * (n-1) * (n-2) * ... * 1에서 마지막이 1로 끝남. 따라서 1을 미리 설정해줌 \n",
        "for i in range(n,0,-1): # n 부터 1까지 -1씩 줄어들어가면서 반복을 시킴 \n",
        "    # print(i)\n",
        "    sum1 *= i # sum1 = sum1 * i와 동일함, n! 계산부분 \n",
        "print(f'{n}! = {sum1}') # n!의 결과값을 출력함"
      ],
      "execution_count": null,
      "outputs": []
    },
    {
      "cell_type": "markdown",
      "metadata": {
        "id": "6uw7SXDWh_gW"
      },
      "source": [
        "###예제 9"
      ]
    },
    {
      "cell_type": "code",
      "metadata": {
        "id": "BN1-CoUIgnOK"
      },
      "source": [
        "# 정수 n을 입력받아 해당 구구단을 계산\n",
        "\n",
        "n = int(input('구구단 몇단을 출력하시겠습니까?'))\n",
        "for i in range (1,10):\n",
        "    print(f' {n} * {i} = {n * i}')"
      ],
      "execution_count": null,
      "outputs": []
    },
    {
      "cell_type": "code",
      "metadata": {
        "id": "73UG0xb-i0Hf"
      },
      "source": [
        "# 정수 n을 입력받아 해당 구구단을 계산\n",
        "\n",
        "n = int(input('구구단 몇단을 출력하시겠습니까?'))\n",
        "for i in range (1,16):\n",
        "    print(f' {n} * {i} = {n * i}')"
      ],
      "execution_count": null,
      "outputs": []
    },
    {
      "cell_type": "code",
      "metadata": {
        "id": "mCgT_5JzZc2M"
      },
      "source": [
        " #구구단 예제 (코드메이트 님 설명 version)\n",
        "n = int(input('구구단 몇단을 출력할까요? :')) # 몇 단 출력할지 받는 부분 \n",
        "for i in range(1,10): # 1부터 9까지 1씩 증가하면서 반복 ex) 9 * 1에서 1에 해당하는 부분 \n",
        "    print(f'  {n} * {i} = {n*i}',end=' ') # for문 안에 print를 통해 ex) 9 * 1 = 9, 9 * 2 = 18 처럼 계속 출력, end는 옆으로 출력하는 것을 말합니다"
      ],
      "execution_count": null,
      "outputs": []
    },
    {
      "cell_type": "markdown",
      "metadata": {
        "id": "6H6EkLQlmRHO"
      },
      "source": [
        "##중첩반복구조"
      ]
    },
    {
      "cell_type": "code",
      "metadata": {
        "id": "P6607REPjTDr"
      },
      "source": [
        "#중첩반복구조\n",
        "for i in range (5):  #내부루프와 외부루프는 동일한 제어변수 (i VS j) 사용금지\n",
        "    for j in range(3):  #내부 for문을 외부 for문의 시퀀스만큼 반복한다.\n",
        "        print(i,j,)"
      ],
      "execution_count": null,
      "outputs": []
    },
    {
      "cell_type": "code",
      "metadata": {
        "id": "mgz8M81_m5Do"
      },
      "source": [
        "#중첩반복구조\n",
        "for i in range (1,5):  #내부루프와 외부루프는 동일한 제어변수 (i VS j) 사용금지\n",
        "    for j in range(1,3):  #내부 for문을 외부 for문의 시퀀스만큼 반복한다.\n",
        "        print(i,j,)"
      ],
      "execution_count": null,
      "outputs": []
    },
    {
      "cell_type": "code",
      "metadata": {
        "id": "SdSkLtpcm7VJ"
      },
      "source": [
        "#중첩반복구조\n",
        "for i in range (1,7,1):  #내부루프와 외부루프는 동일한 제어변수 (i VS j) 사용금지\n",
        "    for j in range(1,5,2):  #내부 for문을 외부 for문의 시퀀스만큼 반복한다.\n",
        "        print(i,j)"
      ],
      "execution_count": null,
      "outputs": []
    },
    {
      "cell_type": "markdown",
      "metadata": {
        "id": "cR_6t4c7nfHi"
      },
      "source": [
        "###예제 10"
      ]
    },
    {
      "cell_type": "code",
      "metadata": {
        "id": "ewQDX-LenG5X"
      },
      "source": [
        "#중첩반복구조: 구구단 가로 출력하기\n",
        "for i in range(2,10):\n",
        "    for j in range(1,10):\n",
        "        print(f' {i} * {j} = {i * j}', end = '\\t')\n",
        "    print()"
      ],
      "execution_count": null,
      "outputs": []
    },
    {
      "cell_type": "code",
      "metadata": {
        "id": "iredZ1p-X-Jr"
      },
      "source": [
        "# 구구단 가로 출력 (코드메이트 님 설명 version)\n",
        "for i in range(2,10): # i : 몇 단인지, \n",
        "    for j in range(1,10): # j : 단 뒤에 곱하는 값\n",
        "        print(f' {i} * {j} = {i*j}',end='\\t') # end : 옆으로 써줌, \\t : tab만큼 띄고 써줌 \n",
        "    print()\n",
        "# ex) i = 2일 때 j = 1~9까지 들어가고 print문을 9번 반복합니다."
      ],
      "execution_count": null,
      "outputs": []
    },
    {
      "cell_type": "code",
      "metadata": {
        "id": "GKIFT8_knb-J"
      },
      "source": [
        "#중첩반복구조: 구구단 세로 출력하기\n",
        "for i in range(1,10):                               #시작값 위치 바꾸기\n",
        "    for j in range(2,10):\n",
        "        print(f' {j} * {i} = {i * j}', end = '\\t')  #i & j 위치 바꾸기\n",
        "    print()"
      ],
      "execution_count": null,
      "outputs": []
    },
    {
      "cell_type": "code",
      "metadata": {
        "id": "lwCQLhsBXYMX"
      },
      "source": [
        "# 구구단 세로 출력 (코드메이트 님 설명 version)\n",
        "for i in range(1,10): # i : 단 뒤에 곱하는 값 \n",
        "    for j in range(2,10): # j : 몇 단인지 \n",
        "        print(f' {j} * {i} = {i*j}',end='\\t') # 단 * 단 뒤에 곱하는 값을 옆으로 tab만큼 띄고 출력 \n",
        "    print()\n",
        "\n",
        "# 구구단 가로와 다른점 \n",
        "\"\"\"\n",
        " ex) i = 1일 때 2단부터 9단까지 옆으로 tab만큼 띄고 출력을 합니다. \n",
        " 이런 형식을 i = 1 ~ 10까지 10번 반복합니다. \n",
        "\"\"\""
      ],
      "execution_count": null,
      "outputs": []
    },
    {
      "cell_type": "markdown",
      "metadata": {
        "id": "eLDkdy9epqYi"
      },
      "source": [
        "##break\n",
        "\n",
        "* 반복에서 벗어나기"
      ]
    },
    {
      "cell_type": "code",
      "metadata": {
        "id": "-y2CE1IQpvu7"
      },
      "source": [
        "#문장에서 해당 문자를 찾으면 반복을 종료 한다\n",
        "t = 'I have a dream'\n",
        "letter =input('찾을 문자:')\n",
        "for i in t:\n",
        "    print(i,end=\" \")\n",
        "    if i == letter:\n",
        "        break"
      ],
      "execution_count": null,
      "outputs": []
    },
    {
      "cell_type": "code",
      "metadata": {
        "id": "d-xX-XsBqsdI"
      },
      "source": [
        "#문장에서 해당 문자를 찾으면 반복을 종료 한다\n",
        "text = '개미는 뚠뚠 오늘도 뚠뚠 열심히 일을 하네'\n",
        "let = input('찾을 문자:')\n",
        "for i in text:\n",
        "    print(i,end=\" \")\n",
        "    if i == let:\n",
        "        break"
      ],
      "execution_count": null,
      "outputs": []
    },
    {
      "cell_type": "markdown",
      "metadata": {
        "id": "BykqxKN8s3Vh"
      },
      "source": [
        "##Up & Down 게임"
      ]
    },
    {
      "cell_type": "code",
      "metadata": {
        "id": "5MxSHCOXrpwu"
      },
      "source": [
        "# 1~100 사이의 정답숫자를 랜덤으로 하나 정하고 정답숫자를 맞출 때 까지 숫자를 입력.\n",
        "# 입력한 숫자가 정답보다 작으면 'DOWN', 정답보다 크면 'UP' 출력 후 숫자를 다시 입력받는다.\n",
        "# 정답을 맞추면 '정답!'이라고 출력하고 게임을 끝낸다.\n",
        "\n",
        "# My version\n",
        "\n",
        "print('Up & Down game')\n",
        "\n",
        "num = 78\n",
        "\n",
        "import random \n",
        "no = random.randint(1,100)\n",
        "\n",
        "while no != num:\n",
        "    num = int(input('1부터 100 사이의 숫자를 입력하세요:'))\n",
        "    if num == 78:\n",
        "        print('정답!')\n",
        "        break\n",
        "    elif num > 78:\n",
        "        print('Down')\n",
        "    elif num < 78:\n",
        "        print('Up')"
      ],
      "execution_count": null,
      "outputs": []
    },
    {
      "cell_type": "code",
      "metadata": {
        "id": "Mu96WqS5xmbE"
      },
      "source": [
        "#slack (코드메이트 님 설명 version)\n",
        "\n",
        "import random # random 호출 \n",
        "r_answer = random.randint(1,100) # 1~100사이에 숫자하나를 임의로 설정 \n",
        "m_answer = int(input('예상숫자:')) # 내가 예상하는 숫자 넣어보기 \n",
        "while r_answer != m_answer: # 예상답과 정답이 다르면 실행됩니다. \n",
        "    if r_answer < m_answer: #  Down 입력 \n",
        "        print('Down')\n",
        "    else: # UP 출력 \n",
        "        print('Up')\n",
        "    m_answer = int(input('예상숫자:')) # if/else문이 한 번 실행된 뒤 다시 예상답을 받습니다.\n",
        "print('정답')"
      ],
      "execution_count": null,
      "outputs": []
    },
    {
      "cell_type": "markdown",
      "metadata": {
        "id": "kyUqOmQvL3m6"
      },
      "source": [
        "**코드메이트 님이 주신 반복문 예제 모음** "
      ]
    },
    {
      "cell_type": "code",
      "metadata": {
        "id": "h_JqF6vBL271"
      },
      "source": [
        "#파이썬이 좋아요 5번 출력\n",
        "for i in range(5):\n",
        "    print('파이썬이 좋아요')"
      ],
      "execution_count": null,
      "outputs": []
    },
    {
      "cell_type": "code",
      "metadata": {
        "id": "BmeUmtowMHag"
      },
      "source": [
        "#bts 멤버 리스트를 만들고 리스트를 활용해 방탄소년단의 멤버를 출력해보기 \n",
        "bts_mem = ['Jin','RM','J-hope','Suga','Jungkook','V','Jimin']\n",
        "for i in bts_mem:\n",
        "    print(i)"
      ],
      "execution_count": null,
      "outputs": []
    },
    {
      "cell_type": "code",
      "metadata": {
        "id": "oYlad1JxW7TQ"
      },
      "source": [
        "#신호등 예제: '초록불'이 입력되면 '출발하세요'라고 출력할 수 있게 해보세요.\n",
        "#My version\n",
        "while True:\n",
        "    light_col = input('신호등 무슨 색상?: ')\n",
        "    if light_col == '초록불':\n",
        "        print('출발하세요')\n",
        "        break"
      ],
      "execution_count": null,
      "outputs": []
    },
    {
      "cell_type": "code",
      "metadata": {
        "id": "hdDqUWEVXiPp"
      },
      "source": [
        "#신호등 예제: '초록불'이 입력되면 '출발하세요'라고 출력할 수 있게 해보세요.\n",
        "#코드메이트 님 답 (위 코드와 차이점?? print() 위치 & 들여쓰기)\n",
        "while True: \n",
        "    light = input('신호등 색상을 입력하세요:')\n",
        "    if light == '초록불':\n",
        "        break\n",
        "print('출발하세요')"
      ],
      "execution_count": null,
      "outputs": []
    }
  ]
}