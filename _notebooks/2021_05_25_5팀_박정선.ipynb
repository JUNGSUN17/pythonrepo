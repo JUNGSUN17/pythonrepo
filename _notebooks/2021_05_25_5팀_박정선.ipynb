{
  "nbformat": 4,
  "nbformat_minor": 0,
  "metadata": {
    "colab": {
      "name": "2021-05-25-5팀-박정선.ipynb",
      "provenance": [],
      "collapsed_sections": [],
      "toc_visible": true,
      "include_colab_link": true
    },
    "kernelspec": {
      "name": "python3",
      "display_name": "Python 3"
    },
    "language_info": {
      "name": "python"
    }
  },
  "cells": [
    {
      "cell_type": "markdown",
      "metadata": {
        "id": "view-in-github",
        "colab_type": "text"
      },
      "source": [
        "<a href=\"https://colab.research.google.com/github/JUNGSUN17/pythonrepo/blob/master/_notebooks/2021_05_25_5%ED%8C%80_%EB%B0%95%EC%A0%95%EC%84%A0.ipynb\" target=\"_parent\"><img src=\"https://colab.research.google.com/assets/colab-badge.svg\" alt=\"Open In Colab\"/></a>"
      ]
    },
    {
      "cell_type": "markdown",
      "metadata": {
        "id": "6m7NSEpMkcUD"
      },
      "source": [
        "#문자열과 데이터 형식\n",
        "\n"
      ]
    },
    {
      "cell_type": "markdown",
      "metadata": {
        "id": "OlnvLwhkH_86"
      },
      "source": [
        "#데이터형\n",
        "**단일 데이터**\n",
        "* 정수형 (Integer) \n",
        "* 실수형 (Float)  \n",
        "* 문자열형 (String)\n",
        "* 부울형 (Boolean)\n",
        "\n",
        "**다수의 데이터**\n",
        "* 리스트 (List)\n",
        "* 튜플 (Tuple)\n",
        "* 딕셔너리 (Dictionary)\n",
        "* 집합 (Set)"
      ]
    },
    {
      "cell_type": "markdown",
      "metadata": {
        "id": "UrtHtVb5KdQa"
      },
      "source": [
        "## 변수와 데이터형\n",
        "\n",
        "* 파이썬에서는 변수의 타입을 미리 지정하지 않는다.\n",
        "\n",
        "* 변수에 값이 할당딜 때, 할당된 값의 데이터형에 따라 변수 타입이 결정된다."
      ]
    },
    {
      "cell_type": "code",
      "metadata": {
        "colab": {
          "base_uri": "https://localhost:8080/"
        },
        "id": "_PkjB4T8jWa8",
        "outputId": "f2f763a5-9a7c-4ee6-8ca2-19c4669656e8"
      },
      "source": [
        "n=1\n",
        "print(n)\n",
        "print(type(n))\n",
        "print(id(n))"
      ],
      "execution_count": null,
      "outputs": [
        {
          "output_type": "stream",
          "text": [
            "1\n",
            "<class 'int'>\n",
            "94912381245952\n"
          ],
          "name": "stdout"
        }
      ]
    },
    {
      "cell_type": "code",
      "metadata": {
        "colab": {
          "base_uri": "https://localhost:8080/"
        },
        "id": "CBvoXT0tjb-a",
        "outputId": "070aeb84-0194-4060-f4ab-28ebbd8f10ed"
      },
      "source": [
        "n = \"hi\"\n",
        "print(n)\n",
        "print(type(n))\n",
        "print(id(n))"
      ],
      "execution_count": null,
      "outputs": [
        {
          "output_type": "stream",
          "text": [
            "hi\n",
            "<class 'str'>\n",
            "140719771046960\n"
          ],
          "name": "stdout"
        }
      ]
    },
    {
      "cell_type": "code",
      "metadata": {
        "colab": {
          "base_uri": "https://localhost:8080/"
        },
        "id": "ga8SNhrEjeyt",
        "outputId": "e57e2e9c-19dc-4e02-c22c-5c01b6721bf2"
      },
      "source": [
        "n = True\n",
        "print(n)\n",
        "print(type(n))\n",
        "print(id(n))"
      ],
      "execution_count": null,
      "outputs": [
        {
          "output_type": "stream",
          "text": [
            "True\n",
            "<class 'bool'>\n",
            "94912380571904\n"
          ],
          "name": "stdout"
        }
      ]
    },
    {
      "cell_type": "code",
      "metadata": {
        "colab": {
          "base_uri": "https://localhost:8080/"
        },
        "id": "HEb8_YCejjRU",
        "outputId": "f09c5dd6-e6bd-4981-f72f-e30971d09e30"
      },
      "source": [
        "n = {1,2,3}\n",
        "print(n)\n",
        "print(type(n))\n",
        "print(id(n))"
      ],
      "execution_count": null,
      "outputs": [
        {
          "output_type": "stream",
          "text": [
            "{1, 2, 3}\n",
            "<class 'set'>\n",
            "140719209347024\n"
          ],
          "name": "stdout"
        }
      ]
    },
    {
      "cell_type": "code",
      "metadata": {
        "colab": {
          "base_uri": "https://localhost:8080/"
        },
        "id": "IvLMJqEpjlqq",
        "outputId": "a3c95b90-0f8b-43b0-c3b8-724aeef22a5f"
      },
      "source": [
        "test1 = 1\n",
        "print(test1)\n",
        "print(type(test1))   # 데이터 형\n",
        "print(id(test1))     # 데이터 주소"
      ],
      "execution_count": null,
      "outputs": [
        {
          "output_type": "stream",
          "text": [
            "1\n",
            "<class 'int'>\n",
            "94912381245952\n"
          ],
          "name": "stdout"
        }
      ]
    },
    {
      "cell_type": "code",
      "metadata": {
        "colab": {
          "base_uri": "https://localhost:8080/"
        },
        "id": "w5QTU3qwjpJz",
        "outputId": "3344d29b-3bf2-4eb6-ef26-04d31ca0da72"
      },
      "source": [
        "test1 = {'name':'jane','age':15}\n",
        "print(test1)\n",
        "print(type(test1))   # 데이터 형\n",
        "print(id(test1))     # 데이터 주소"
      ],
      "execution_count": null,
      "outputs": [
        {
          "output_type": "stream",
          "text": [
            "{'name': 'jane', 'age': 15}\n",
            "<class 'dict'>\n",
            "140719207716736\n"
          ],
          "name": "stdout"
        }
      ]
    },
    {
      "cell_type": "code",
      "metadata": {
        "colab": {
          "base_uri": "https://localhost:8080/"
        },
        "id": "mzC4wfVgjuOP",
        "outputId": "08885e4c-0b64-4039-8545-bd1fd95b8a8d"
      },
      "source": [
        "# set(집합형)는 순서를 가지지 않고 중복을 허용하지 않는다\n",
        "test1 = {'apple','orange','orange', 'banana'}\n",
        "print(test1)\n",
        "print(type(test1))   # 데이터 형\n",
        "print(id(test1))     # 데이터 주소"
      ],
      "execution_count": null,
      "outputs": [
        {
          "output_type": "stream",
          "text": [
            "{'banana', 'orange', 'apple'}\n",
            "<class 'set'>\n",
            "140719209346304\n"
          ],
          "name": "stdout"
        }
      ]
    },
    {
      "cell_type": "markdown",
      "metadata": {
        "id": "GA-8uEn-Jlk7"
      },
      "source": [
        "##기본자료형\n",
        "\n",
        "**문자열형(Str)**\n",
        "\n"
      ]
    },
    {
      "cell_type": "code",
      "metadata": {
        "colab": {
          "base_uri": "https://localhost:8080/"
        },
        "id": "Jq2kDflajydQ",
        "outputId": "8353ad4f-0596-444a-d17f-41c0c2f36e1a"
      },
      "source": [
        "# 따옴표 주목\n",
        "a = '시간은 \"금\"이다'\n",
        "print(a)\n",
        "a = \"시간은 '금'이다\"\n",
        "print(a)"
      ],
      "execution_count": null,
      "outputs": [
        {
          "output_type": "stream",
          "text": [
            "시간은 \"금\"이다\n",
            "시간은 '금'이다\n"
          ],
          "name": "stdout"
        }
      ]
    },
    {
      "cell_type": "code",
      "metadata": {
        "colab": {
          "base_uri": "https://localhost:8080/"
        },
        "id": "X7plrcCkj2QY",
        "outputId": "ec41e772-a668-46c6-ccab-307adfa217df"
      },
      "source": [
        "a = '''Hello, world!\n",
        "안녕.\n",
        "Python입니다'''\n",
        "print(a)"
      ],
      "execution_count": null,
      "outputs": [
        {
          "output_type": "stream",
          "text": [
            "Hello, world!\n",
            "안녕.\n",
            "Python입니다\n"
          ],
          "name": "stdout"
        }
      ]
    },
    {
      "cell_type": "code",
      "metadata": {
        "colab": {
          "base_uri": "https://localhost:8080/"
        },
        "id": "fWoC6Uosj5ju",
        "outputId": "2d2852b3-1351-4afd-a183-def696a315a1"
      },
      "source": [
        "a = \"'낮말'은 새가 듣고 '밤말'은 쥐가 듣는다\"\n",
        "print(a)"
      ],
      "execution_count": null,
      "outputs": [
        {
          "output_type": "stream",
          "text": [
            "'낮말'은 새가 듣고 '밤말'은 쥐가 듣는다\n"
          ],
          "name": "stdout"
        }
      ]
    },
    {
      "cell_type": "code",
      "metadata": {
        "colab": {
          "base_uri": "https://localhost:8080/"
        },
        "id": "1NaM2AqqkB0O",
        "outputId": "081633a3-d243-4800-d00f-35d51635c7c7"
      },
      "source": [
        "a = '\"시간은 금\"이라는 말이 있다'\n",
        "print(a)"
      ],
      "execution_count": null,
      "outputs": [
        {
          "output_type": "stream",
          "text": [
            "\"시간은 금\"이라는 말이 있다\n"
          ],
          "name": "stdout"
        }
      ]
    },
    {
      "cell_type": "markdown",
      "metadata": {
        "id": "sRosDZ2MLAhh"
      },
      "source": [
        "**부울형(True & False)**"
      ]
    },
    {
      "cell_type": "code",
      "metadata": {
        "colab": {
          "base_uri": "https://localhost:8080/"
        },
        "id": "Wr5Eex4LkGCv",
        "outputId": "13bfecb3-53ec-47d9-bb9a-2af1388974fd"
      },
      "source": [
        "#부울형 (True & False)\n",
        "a = 1>2 \n",
        "print(a)\n",
        "a = 1<2\n",
        "print(a)"
      ],
      "execution_count": null,
      "outputs": [
        {
          "output_type": "stream",
          "text": [
            "False\n",
            "True\n"
          ],
          "name": "stdout"
        }
      ]
    },
    {
      "cell_type": "markdown",
      "metadata": {
        "id": "vMXEMTuqLSJ7"
      },
      "source": [
        "**숫자와 문자열**"
      ]
    },
    {
      "cell_type": "code",
      "metadata": {
        "colab": {
          "base_uri": "https://localhost:8080/"
        },
        "id": "hq91GinJkNla",
        "outputId": "c936d535-3c33-4cef-a54a-3b6a79c63c6b"
      },
      "source": [
        "# 기본 자료형=> 숫자와 문자열\n",
        "#''안의 숫자는 문자로 인식\n",
        "a,b = 10,20\n",
        "print(a+b)\n",
        "a,b = \"10\", \"20\"\n",
        "print(a+b)"
      ],
      "execution_count": null,
      "outputs": [
        {
          "output_type": "stream",
          "text": [
            "30\n",
            "1020\n"
          ],
          "name": "stdout"
        }
      ]
    },
    {
      "cell_type": "code",
      "metadata": {
        "colab": {
          "base_uri": "https://localhost:8080/",
          "height": 213
        },
        "id": "ymIPhuQxkJnY",
        "outputId": "45f80e0b-4b99-4695-a48f-f4bb506afcb2"
      },
      "source": [
        "# 숫자와 문자열 간에 연산할 수 없다 (오류!!)\n",
        "a,b = \"10\",20\n",
        "print(a+b)"
      ],
      "execution_count": null,
      "outputs": [
        {
          "output_type": "error",
          "ename": "TypeError",
          "evalue": "ignored",
          "traceback": [
            "\u001b[0;31m---------------------------------------------------------------------------\u001b[0m",
            "\u001b[0;31mTypeError\u001b[0m                                 Traceback (most recent call last)",
            "\u001b[0;32m<ipython-input-18-ebec1e836dc0>\u001b[0m in \u001b[0;36m<module>\u001b[0;34m()\u001b[0m\n\u001b[1;32m      1\u001b[0m \u001b[0;31m# 숫자와 문자열 간에 연산할 수 없다 (오류!!)\u001b[0m\u001b[0;34m\u001b[0m\u001b[0;34m\u001b[0m\u001b[0;34m\u001b[0m\u001b[0m\n\u001b[1;32m      2\u001b[0m \u001b[0ma\u001b[0m\u001b[0;34m,\u001b[0m\u001b[0mb\u001b[0m \u001b[0;34m=\u001b[0m \u001b[0;34m\"10\"\u001b[0m\u001b[0;34m,\u001b[0m\u001b[0;36m20\u001b[0m\u001b[0;34m\u001b[0m\u001b[0;34m\u001b[0m\u001b[0m\n\u001b[0;32m----> 3\u001b[0;31m \u001b[0mprint\u001b[0m\u001b[0;34m(\u001b[0m\u001b[0ma\u001b[0m\u001b[0;34m+\u001b[0m\u001b[0mb\u001b[0m\u001b[0;34m)\u001b[0m\u001b[0;34m\u001b[0m\u001b[0;34m\u001b[0m\u001b[0m\n\u001b[0m",
            "\u001b[0;31mTypeError\u001b[0m: can only concatenate str (not \"int\") to str"
          ]
        }
      ]
    },
    {
      "cell_type": "markdown",
      "metadata": {
        "id": "9nyUqLmLLu2K"
      },
      "source": [
        "**정수형과 실수형**"
      ]
    },
    {
      "cell_type": "code",
      "metadata": {
        "colab": {
          "base_uri": "https://localhost:8080/"
        },
        "id": "jt1sisK9kWEb",
        "outputId": "ededee99-0490-479b-848d-a6ae44cf0930"
      },
      "source": [
        "# 정수와 실수 연산\n",
        "a,b = 10.0,20\n",
        "print(a+b)"
      ],
      "execution_count": null,
      "outputs": [
        {
          "output_type": "stream",
          "text": [
            "30.0\n"
          ],
          "name": "stdout"
        }
      ]
    },
    {
      "cell_type": "markdown",
      "metadata": {
        "id": "fzmGgaUlMoVT"
      },
      "source": [
        "## 형 변환 함수\n",
        "\n",
        "**int(), float(), str()**"
      ]
    },
    {
      "cell_type": "code",
      "metadata": {
        "colab": {
          "base_uri": "https://localhost:8080/"
        },
        "id": "27ZceGJJkYyx",
        "outputId": "54668d3a-9d3e-4927-e491-531d72f52fe3"
      },
      "source": [
        "# 형 변환 함수\n",
        "a,b = 10,\"20\"\n",
        "print(a+int(b)) #integer: 정수형으로 변환\n",
        "a,b = 10,20\n",
        "print(str(a)+str(b)) #string: 숫자 & 실수를 문자열로 변환\n",
        "a,b = 10,20\n",
        "print(float(a)+float(b)) #float: 실수형으로 변환"
      ],
      "execution_count": null,
      "outputs": [
        {
          "output_type": "stream",
          "text": [
            "30\n",
            "1020\n",
            "30.0\n"
          ],
          "name": "stdout"
        }
      ]
    },
    {
      "cell_type": "markdown",
      "metadata": {
        "id": "DAwwMqZ8MCar"
      },
      "source": [
        "# 변수에 값 입력받기\n",
        "\n",
        "**input()**\n",
        "\n",
        "input()으로 입력받은 값은 문자열 타입이다."
      ]
    },
    {
      "cell_type": "code",
      "metadata": {
        "colab": {
          "base_uri": "https://localhost:8080/"
        },
        "id": "O81qY4x5lGBI",
        "outputId": "93c5413d-8e33-4fef-f187-7e845344e85c"
      },
      "source": [
        "#input으로 입력받은 값은 문자열 타입이다\n",
        "name = input('이름을 입력하세요: ')\n",
        "print(name, '님 안녕하세요?')"
      ],
      "execution_count": null,
      "outputs": [
        {
          "output_type": "stream",
          "text": [
            "이름을 입력하세요: 파이썬\n",
            "파이썬 님 안녕하세요?\n"
          ],
          "name": "stdout"
        }
      ]
    },
    {
      "cell_type": "markdown",
      "metadata": {
        "id": "-MiHd6WoNHh2"
      },
      "source": [
        "# 출력\n",
        "\n",
        "**print()**"
      ]
    },
    {
      "cell_type": "code",
      "metadata": {
        "colab": {
          "base_uri": "https://localhost:8080/"
        },
        "id": "MFTRE52l91_J",
        "outputId": "9869d8c6-e925-4b1d-9743-8e87edb22e18"
      },
      "source": [
        "#숫자, 문자 그대로 출력\n",
        "print(5)\n",
        "print(\"Hi\")"
      ],
      "execution_count": null,
      "outputs": [
        {
          "output_type": "stream",
          "text": [
            "5\n",
            "Hi\n"
          ],
          "name": "stdout"
        }
      ]
    },
    {
      "cell_type": "code",
      "metadata": {
        "colab": {
          "base_uri": "https://localhost:8080/"
        },
        "id": "1s3tkkuH9uMc",
        "outputId": "61410b39-2cf1-439b-d288-c0f1ba2bc1f2"
      },
      "source": [
        "#연산 결과 출력\n",
        "print(2<3)\n",
        "print(2>3)\n",
        "print(1+2)"
      ],
      "execution_count": null,
      "outputs": [
        {
          "output_type": "stream",
          "text": [
            "True\n",
            "False\n",
            "3\n"
          ],
          "name": "stdout"
        }
      ]
    },
    {
      "cell_type": "code",
      "metadata": {
        "colab": {
          "base_uri": "https://localhost:8080/"
        },
        "id": "NHEVNR9r9_EP",
        "outputId": "3ceaad68-9ec9-4daf-fc76-991e75331b51"
      },
      "source": [
        "#변수값 출력\n",
        "a = 1\n",
        "print(a)\n",
        "print(a+1)"
      ],
      "execution_count": null,
      "outputs": [
        {
          "output_type": "stream",
          "text": [
            "1\n",
            "2\n"
          ],
          "name": "stdout"
        }
      ]
    },
    {
      "cell_type": "markdown",
      "metadata": {
        "id": "kpIMcmdgNb1d"
      },
      "source": [
        "**f스트링**\n",
        "\n",
        "문장 사이에 변수값을 출력할 때 편리하다."
      ]
    },
    {
      "cell_type": "code",
      "metadata": {
        "colab": {
          "base_uri": "https://localhost:8080/"
        },
        "id": "WK4m5Iy0-bfH",
        "outputId": "edd936da-6a51-4fb0-d8c4-7ecd4c9edadf"
      },
      "source": [
        "#input으로 입력받은 값은 문자열 타입이다\n",
        "name = input('이름을 입력하세요: ')\n",
        "print(f'{name}님 안녕하세요?')"
      ],
      "execution_count": null,
      "outputs": [
        {
          "output_type": "stream",
          "text": [
            "이름을 입력하세요: 파이썬\n",
            "파이썬님 안녕하세요?\n"
          ],
          "name": "stdout"
        }
      ]
    },
    {
      "cell_type": "code",
      "metadata": {
        "colab": {
          "base_uri": "https://localhost:8080/"
        },
        "id": "TvT2vk3o-l3g",
        "outputId": "f2600d5e-fc80-4211-c143-09c9860446fb"
      },
      "source": [
        "#두 수를 입력받아 더하는 프로그램\n",
        "numb1 = input('첫번째 숫자를 입력하세요 : ')\n",
        "numb2 = input('두번째 숫자를 입력하세요 : ')\n",
        "print(f'{numb1} + {numb2} = {int(numb1)+int(numb2)} ')"
      ],
      "execution_count": null,
      "outputs": [
        {
          "output_type": "stream",
          "text": [
            "첫번째 숫자를 입력하세요 : 10\n",
            "두번째 숫자를 입력하세요 : 20\n",
            "10 + 20 = 30 \n"
          ],
          "name": "stdout"
        }
      ]
    },
    {
      "cell_type": "code",
      "metadata": {
        "colab": {
          "base_uri": "https://localhost:8080/"
        },
        "id": "jCZ27ayJAA3x",
        "outputId": "a2251e94-ab61-4ac7-8498-a3f26fe69753"
      },
      "source": [
        "numb1 = input('첫번째 숫자를 입력하세요 : ')\n",
        "numb2 = input('두번째 숫자를 입력하세요 : ')\n",
        "numb1 = int(numb1)\n",
        "numb2 = int(numb2)\n",
        "print(f'{numb1} + {numb2} = {numb1+numb2}')"
      ],
      "execution_count": null,
      "outputs": [
        {
          "output_type": "stream",
          "text": [
            "첫번째 숫자를 입력하세요 : 10\n",
            "두번째 숫자를 입력하세요 : 20\n",
            "10 + 20 = 30 \n"
          ],
          "name": "stdout"
        }
      ]
    },
    {
      "cell_type": "markdown",
      "metadata": {
        "id": "qW7AbxTvOv7E"
      },
      "source": [
        "# 산술 연산"
      ]
    },
    {
      "cell_type": "code",
      "metadata": {
        "colab": {
          "base_uri": "https://localhost:8080/"
        },
        "id": "n8FKNW7YAorj",
        "outputId": "01e9f00d-64dc-43ff-b866-c507d8537a96"
      },
      "source": [
        "x = 100\n",
        "y =3\n",
        "print(x+y)\n",
        "print(x-y)\n",
        "print(x*y)\n",
        "print(x/y)\n",
        "print(x//y)\n",
        "print(x%y) # x/y의 나머지\n",
        "print(-x)\n",
        "print(+x)\n",
        "print(x**y)"
      ],
      "execution_count": null,
      "outputs": [
        {
          "output_type": "stream",
          "text": [
            "103\n",
            "97\n",
            "300\n",
            "33.333333333333336\n",
            "33\n",
            "1\n",
            "-100\n",
            "100\n",
            "1000000\n"
          ],
          "name": "stdout"
        }
      ]
    },
    {
      "cell_type": "code",
      "metadata": {
        "colab": {
          "base_uri": "https://localhost:8080/",
          "height": 250
        },
        "id": "dYcFKLj3BPwO",
        "outputId": "37181fb6-e7ff-4958-e9ce-8c1290934914"
      },
      "source": [
        "a,b = 3,4\n",
        "print(a+b)\n",
        "print (a**b)\n",
        "a,b = 3,0\n",
        "print(a/b) # 계산 오류!!"
      ],
      "execution_count": null,
      "outputs": [
        {
          "output_type": "stream",
          "text": [
            "7\n",
            "81\n"
          ],
          "name": "stdout"
        },
        {
          "output_type": "error",
          "ename": "ZeroDivisionError",
          "evalue": "ignored",
          "traceback": [
            "\u001b[0;31m---------------------------------------------------------------------------\u001b[0m",
            "\u001b[0;31mZeroDivisionError\u001b[0m                         Traceback (most recent call last)",
            "\u001b[0;32m<ipython-input-25-4932b0262ae1>\u001b[0m in \u001b[0;36m<module>\u001b[0;34m()\u001b[0m\n\u001b[1;32m      3\u001b[0m \u001b[0mprint\u001b[0m \u001b[0;34m(\u001b[0m\u001b[0ma\u001b[0m\u001b[0;34m**\u001b[0m\u001b[0mb\u001b[0m\u001b[0;34m)\u001b[0m\u001b[0;34m\u001b[0m\u001b[0;34m\u001b[0m\u001b[0m\n\u001b[1;32m      4\u001b[0m \u001b[0ma\u001b[0m\u001b[0;34m,\u001b[0m\u001b[0mb\u001b[0m \u001b[0;34m=\u001b[0m \u001b[0;36m3\u001b[0m\u001b[0;34m,\u001b[0m\u001b[0;36m0\u001b[0m\u001b[0;34m\u001b[0m\u001b[0;34m\u001b[0m\u001b[0m\n\u001b[0;32m----> 5\u001b[0;31m \u001b[0mprint\u001b[0m\u001b[0;34m(\u001b[0m\u001b[0ma\u001b[0m\u001b[0;34m/\u001b[0m\u001b[0mb\u001b[0m\u001b[0;34m)\u001b[0m \u001b[0;31m# 계산 오류!!\u001b[0m\u001b[0;34m\u001b[0m\u001b[0;34m\u001b[0m\u001b[0m\n\u001b[0m",
            "\u001b[0;31mZeroDivisionError\u001b[0m: division by zero"
          ]
        }
      ]
    },
    {
      "cell_type": "markdown",
      "metadata": {
        "id": "AeDPUcskP8FA"
      },
      "source": [
        ""
      ]
    },
    {
      "cell_type": "markdown",
      "metadata": {
        "id": "rOrOKJoCP5tB"
      },
      "source": [
        "# 예제\n",
        "\n",
        "**화씨 => 섭씨 변환기**\n",
        "\n",
        "C = (F-32)*5/9\n",
        "\n",
        "F = 100"
      ]
    },
    {
      "cell_type": "code",
      "metadata": {
        "colab": {
          "base_uri": "https://localhost:8080/"
        },
        "id": "SU0LyARRDwhq",
        "outputId": "e64d5c18-c776-4054-a0ae-8143dd2173fb"
      },
      "source": [
        "#화씨 => 섭씨 변환기\n",
        "a = input('화씨온도:')\n",
        "a = int(a)\n",
        "print('섭씨온도:',(a-32)* 5/9)"
      ],
      "execution_count": null,
      "outputs": [
        {
          "output_type": "stream",
          "text": [
            "화씨온도:100\n",
            "섭씨온도: 37.77777777777778\n"
          ],
          "name": "stdout"
        }
      ]
    },
    {
      "cell_type": "code",
      "metadata": {
        "colab": {
          "base_uri": "https://localhost:8080/"
        },
        "id": "TNRK_NTvEjYZ",
        "outputId": "cd3bd5dd-0908-4ff0-fc01-94e5b9a48fd4"
      },
      "source": [
        "a = input('화씨온도:')\n",
        "a = int(a) #정수\n",
        "print('섭씨온도:',(a-32)* 5/9)\n"
      ],
      "execution_count": null,
      "outputs": [
        {
          "output_type": "stream",
          "text": [
            "화씨온도:100\n",
            "섭씨온도: 37.77777777777778\n"
          ],
          "name": "stdout"
        }
      ]
    },
    {
      "cell_type": "markdown",
      "metadata": {
        "id": "6AezM51gQD--"
      },
      "source": [
        "**삼각형의 넓이**\n",
        "\n",
        "사용자에게 삼각형의 밑변과 높이를 입력받아 삼각형의 넓이를 출력하는 프로그램 작성\n",
        "\n",
        "삼각형의 넓이 = (밑변 * 높이)/2"
      ]
    },
    {
      "cell_type": "code",
      "metadata": {
        "colab": {
          "base_uri": "https://localhost:8080/"
        },
        "id": "o905eXPyFCIm",
        "outputId": "177df89a-eec4-455c-a14e-2e495e40ba01"
      },
      "source": [
        "x = input('밑변:')\n",
        "y = input('높이:')\n",
        "x = int(x)\n",
        "y = int(y)\n",
        "print('삼각형의 넓이:',(x*y)/2)"
      ],
      "execution_count": null,
      "outputs": [
        {
          "output_type": "stream",
          "text": [
            "밑변:3\n",
            "높이:4\n",
            "삼각형의 넓이: 6.0\n"
          ],
          "name": "stdout"
        }
      ]
    },
    {
      "cell_type": "markdown",
      "metadata": {
        "id": "rYXXF3KKQoO9"
      },
      "source": [
        "**원의 넓이 구하기**\n",
        "\n",
        "반지름을 입력받아 원의 둘레와 넓이를 구하는 프로그램 작성\n",
        "\n",
        "원의 둘레 = 2 * pi * r\n",
        "\n",
        "원의 넓이 = pi * r^2\n",
        "\n",
        "pi = 3.14"
      ]
    },
    {
      "cell_type": "code",
      "metadata": {
        "colab": {
          "base_uri": "https://localhost:8080/"
        },
        "id": "DgSBF8vwJyNf",
        "outputId": "de9546ae-351f-4ccd-d955-c29465150523"
      },
      "source": [
        "#첫 번째 방식\n",
        "r = float(input('원의 반지름:'))\n",
        "pi = 3.14\n",
        "print ('원의 둘레:', 2*pi*r, '원의 넓이:', pi*r**2) #**는 제곱"
      ],
      "execution_count": null,
      "outputs": [
        {
          "output_type": "stream",
          "text": [
            "원의 반지름:3\n",
            "원의 둘레: 18.84 원의 넓이: 28.26\n"
          ],
          "name": "stdout"
        }
      ]
    },
    {
      "cell_type": "code",
      "metadata": {
        "colab": {
          "base_uri": "https://localhost:8080/"
        },
        "id": "NV_84vseLQqe",
        "outputId": "8fbc7add-7491-4b99-f257-f033f3d4de26"
      },
      "source": [
        "#두 번째 방식\n",
        "r = input('원의 반지름:')\n",
        "r = float(r) #실수형 (소수점)\n",
        "pi = 3.14\n",
        "print ('원의 둘레:', 2*pi*r, '원의 넓이:', pi*r**2)"
      ],
      "execution_count": null,
      "outputs": [
        {
          "output_type": "stream",
          "text": [
            "원의 반지름:3\n",
            "원의 둘레: 18.84 원의 넓이: 28.26\n"
          ],
          "name": "stdout"
        }
      ]
    },
    {
      "cell_type": "markdown",
      "metadata": {
        "id": "xoV0IyTFRxVW"
      },
      "source": [
        "#할당연산자"
      ]
    },
    {
      "cell_type": "code",
      "metadata": {
        "colab": {
          "base_uri": "https://localhost:8080/"
        },
        "id": "2NP7Z5ERL5n7",
        "outputId": "3b4defe8-fdde-47e7-cf5c-bece62835d99"
      },
      "source": [
        "#하나의 변수에 하나의 값 할당\n",
        "a = 1\n",
        "print(a)\n",
        "#여러개의 변수에 하나의 값 할당\n",
        "a = b = c = 1\n",
        "print(a,b,c)\n",
        "#여러개의 변수에 각각 다른 값 할당\n",
        "a,b,c = 1,2,3\n",
        "print(a,b,c)"
      ],
      "execution_count": null,
      "outputs": [
        {
          "output_type": "stream",
          "text": [
            "1\n",
            "1 1 1\n",
            "1 2 3\n"
          ],
          "name": "stdout"
        }
      ]
    },
    {
      "cell_type": "markdown",
      "metadata": {
        "id": "YbYcg-zsRp9D"
      },
      "source": [
        "**복합할당연산자**"
      ]
    },
    {
      "cell_type": "code",
      "metadata": {
        "colab": {
          "base_uri": "https://localhost:8080/"
        },
        "id": "tYNK0wftM4C-",
        "outputId": "ecfd1eb1-4416-4d41-841a-7990aa2a089f"
      },
      "source": [
        "#복합할당연산자\n",
        "x = 10   \n",
        "x += 20  ## x = x+20 \n",
        "print(x)"
      ],
      "execution_count": null,
      "outputs": [
        {
          "output_type": "stream",
          "text": [
            "30\n"
          ],
          "name": "stdout"
        }
      ]
    },
    {
      "cell_type": "code",
      "metadata": {
        "colab": {
          "base_uri": "https://localhost:8080/"
        },
        "id": "_o2n45QSNC57",
        "outputId": "1d4bce08-0d65-4de9-8164-e81c474cd739"
      },
      "source": [
        "x = 3\n",
        "y = 5\n",
        "x *= x+y  ## x = x*(x+y)\n",
        "print(x)"
      ],
      "execution_count": null,
      "outputs": [
        {
          "output_type": "stream",
          "text": [
            "24\n"
          ],
          "name": "stdout"
        }
      ]
    },
    {
      "cell_type": "code",
      "metadata": {
        "colab": {
          "base_uri": "https://localhost:8080/"
        },
        "id": "wN00X8-6OyJl",
        "outputId": "76d3ae63-172d-4f8b-ee18-5757037ea613"
      },
      "source": [
        "#복합 할당 연산자\n",
        "a = 1\n",
        "a += 11\n",
        "print(a)\n",
        "a = a + 11\n",
        "print(a)\n",
        "b = 7 \n",
        "a *= b + a # 아래와 동일\n",
        "a = a* (b + a)\n",
        "print(a)"
      ],
      "execution_count": null,
      "outputs": [
        {
          "output_type": "stream",
          "text": [
            "12\n",
            "23\n",
            "480930\n"
          ],
          "name": "stdout"
        }
      ]
    },
    {
      "cell_type": "code",
      "metadata": {
        "colab": {
          "base_uri": "https://localhost:8080/"
        },
        "id": "EpIf9tdhO9FN",
        "outputId": "937614ec-2a5e-4fb8-d2f4-f23c971a58c2"
      },
      "source": [
        "s = \"ha\"\n",
        "print(s*5)"
      ],
      "execution_count": null,
      "outputs": [
        {
          "output_type": "stream",
          "text": [
            "hahahahaha\n"
          ],
          "name": "stdout"
        }
      ]
    },
    {
      "cell_type": "markdown",
      "metadata": {
        "id": "eDPAN4aMR_sA"
      },
      "source": [
        "# 문자열 연결하기"
      ]
    },
    {
      "cell_type": "code",
      "metadata": {
        "colab": {
          "base_uri": "https://localhost:8080/"
        },
        "id": "MMyV8bE3PZNF",
        "outputId": "0da297ce-0303-467b-85d1-5d8e9eda8378"
      },
      "source": [
        "name = input(\"이름을 입력하세요:\")\n",
        "greet = name + \"님, 안녕하세요\"\n",
        "print(greet)"
      ],
      "execution_count": null,
      "outputs": [
        {
          "output_type": "stream",
          "text": [
            "이름을 입력하세요:정선\n",
            "정선님, 안녕하세요\n"
          ],
          "name": "stdout"
        }
      ]
    },
    {
      "cell_type": "code",
      "metadata": {
        "colab": {
          "base_uri": "https://localhost:8080/",
          "height": 206
        },
        "id": "poSg6Gy2QAwD",
        "outputId": "de6d2c63-aad1-49f5-f057-2f75adfb762a"
      },
      "source": [
        "# error 문자열 연결시 숫자 포함\n",
        "english = 80\n",
        "result = '영어점수:' + english + '점' # english는 숫자형 변수\n",
        "print(result)"
      ],
      "execution_count": null,
      "outputs": [
        {
          "output_type": "error",
          "ename": "TypeError",
          "evalue": "ignored",
          "traceback": [
            "\u001b[0;31m---------------------------------------------------------------------------\u001b[0m",
            "\u001b[0;31mTypeError\u001b[0m                                 Traceback (most recent call last)",
            "\u001b[0;32m<ipython-input-83-9809a418b175>\u001b[0m in \u001b[0;36m<module>\u001b[0;34m()\u001b[0m\n\u001b[1;32m      1\u001b[0m \u001b[0menglish\u001b[0m \u001b[0;34m=\u001b[0m \u001b[0;36m80\u001b[0m\u001b[0;34m\u001b[0m\u001b[0;34m\u001b[0m\u001b[0m\n\u001b[0;32m----> 2\u001b[0;31m \u001b[0mresult\u001b[0m \u001b[0;34m=\u001b[0m \u001b[0;34m'영어점수:'\u001b[0m \u001b[0;34m+\u001b[0m \u001b[0menglish\u001b[0m \u001b[0;34m+\u001b[0m \u001b[0;34m'점'\u001b[0m \u001b[0;31m#english는 숫자형 변수\u001b[0m\u001b[0;34m\u001b[0m\u001b[0;34m\u001b[0m\u001b[0m\n\u001b[0m\u001b[1;32m      3\u001b[0m \u001b[0mprint\u001b[0m\u001b[0;34m(\u001b[0m\u001b[0mresult\u001b[0m\u001b[0;34m)\u001b[0m\u001b[0;34m\u001b[0m\u001b[0;34m\u001b[0m\u001b[0m\n",
            "\u001b[0;31mTypeError\u001b[0m: can only concatenate str (not \"int\") to str"
          ]
        }
      ]
    },
    {
      "cell_type": "code",
      "metadata": {
        "colab": {
          "base_uri": "https://localhost:8080/"
        },
        "id": "K0o5NNZ6QVAU",
        "outputId": "a400825c-b0c7-476d-e7be-f8f62a84a262"
      },
      "source": [
        "# 문자열 연결시 숫자 포함\n",
        "english = 80\n",
        "result = '영어점수:' + str(english) + '점' # str()함수를 사용하여 데이터를 문자열로 변환한다\n",
        "print(result)"
      ],
      "execution_count": null,
      "outputs": [
        {
          "output_type": "stream",
          "text": [
            "영어점수:80점\n"
          ],
          "name": "stdout"
        }
      ]
    },
    {
      "cell_type": "code",
      "metadata": {
        "colab": {
          "base_uri": "https://localhost:8080/"
        },
        "id": "J4KYcEO_ZLUI",
        "outputId": "4cd569ea-0f12-4d41-b76c-9b0a7f0757df"
      },
      "source": [
        "#로봇기자 만들기\n",
        "sta=input('경기장: ')\n",
        "winner=input('이긴팀: ')\n",
        "loser=input('진팀: ')\n",
        "vip=input('vip: ')\n",
        "score=input('스코어: ')\n",
        "\n",
        "print(f'''오늘 {sta}에서 경기가 열렸습니다.\n",
        "{winner}와(과) {loser}은(는) 치열한 공방전을 펼쳤습니다.\n",
        "{vip}이(가) 맹활약을 펼쳤습니다.\n",
        "결국 {winner}이(가) {loser}을(를) {score}로 이겼습니다.''')\n"
      ],
      "execution_count": null,
      "outputs": [
        {
          "output_type": "stream",
          "text": [
            "경기장: 올림픽 경기장\n",
            "이긴팀: 대한민국\n",
            "진팀: 일본\n",
            "vip: 손흥민\n",
            "스코어: 10:0\n",
            "오늘 올림픽 경기장에서 경기가 열렸습니다.\n",
            "대한민국와(과) 일본은(는) 치열한 공방전을 펼쳤습니다.\n",
            "손흥민이(가) 맹활약을 펼쳤습니다.\n",
            "결국 대한민국이(가) 일본을(를) 10:0로 이겼습니다.\n"
          ],
          "name": "stdout"
        }
      ]
    },
    {
      "cell_type": "code",
      "metadata": {
        "colab": {
          "base_uri": "https://localhost:8080/"
        },
        "id": "FUIfVtavaCX-",
        "outputId": "af712a11-6b27-4c85-aec8-f7acdd6ce86d"
      },
      "source": [
        "#광고 만들기\n",
        "region=input('지역: ')\n",
        "type=input('매물종류: ')\n",
        "evalu=input('평: ')\n",
        "room_num=input('방개수: ')\n",
        "price=input('가격: ')\n",
        "\n",
        "print(f'''{region}에 위치한 아주 좋은 {type}이(가) 매물로 나왔습니다.\n",
        "이 {type}는 {evalu}평으로 {room_num}개의 방을 가지고 있습니다.\n",
        "가격은 {price}만원 입니다.''')"
      ],
      "execution_count": null,
      "outputs": [
        {
          "output_type": "stream",
          "text": [
            "지역: 서울\n",
            "매물종류: 아파트\n",
            "평: 30\n",
            "방개수: 3\n",
            "가격: 5\n",
            "서울에 위치한 아주 좋은 아파트이(가) 매물로 나왔습니다.\n",
            "이 아파트는 30평으로 3개의 방을 가지고 있습니다.\n",
            "가격은 5만원 입니다.\n"
          ],
          "name": "stdout"
        }
      ]
    },
    {
      "cell_type": "code",
      "metadata": {
        "colab": {
          "base_uri": "https://localhost:8080/"
        },
        "id": "-TC9iHLEteS6",
        "outputId": "a81a6418-b758-4960-be78-fe11d1ef8965"
      },
      "source": [
        "# 내가 만들어본 예제 (비슷한 포맷)\n",
        "leader = input('이끔이:')\n",
        "praiser = input('칭찬이:')\n",
        "timekeeper = input('지킴이:')\n",
        "recorder = input('기록이:')\n",
        "print(f'''오월의 오팀 이끔이는 {leader}님입니다.\n",
        "칭찬이는 {praiser}이고, 지킴이는 {timekeeper}님입니다. \n",
        "마지막으로 기록이는 {recorder}님입니다.''')"
      ],
      "execution_count": null,
      "outputs": [
        {
          "output_type": "stream",
          "text": [
            "이끔이:신동열\n",
            "칭찬이:노현정, 박제희, 김은수\n",
            "지킴이:이영이, 박정선\n",
            "기록이:한슬기\n",
            "오월의 오팀 이끔이는 신동열님입니다.\n",
            "칭찬이는 노현정, 박제희, 김은수이고, 지킴이는 이영이, 박정선님입니다. \n",
            "마지막으로 기록이는 한슬기님입니다.\n"
          ],
          "name": "stdout"
        }
      ]
    },
    {
      "cell_type": "code",
      "metadata": {
        "colab": {
          "base_uri": "https://localhost:8080/"
        },
        "id": "srQIyqKvdzdx",
        "outputId": "c403de7a-8a32-436b-bde4-b7421e5d8426"
      },
      "source": [
        "#성적계산 프로그램\n",
        "name = input('이름을 입력하세요:')\n",
        "kor = int(input('국어 성적을 입력하세요:'))\n",
        "eng = int(input('영어성적을 입력하세요:'))\n",
        "math = int(input('수학성적을 입력하세요:'))\n",
        "print('-'*50)\n",
        "print('평균성적은', (kor+eng+math)/3, '점입니다')"
      ],
      "execution_count": null,
      "outputs": [
        {
          "output_type": "stream",
          "text": [
            "이름을 입력하세요:파이썬\n",
            "국어 성적을 입력하세요:90\n",
            "영어성적을 입력하세요:90\n",
            "수학성적을 입력하세요:97\n",
            "--------------------------------------------------\n",
            "평균성적은 92.33333333333333 점입니다\n"
          ],
          "name": "stdout"
        }
      ]
    },
    {
      "cell_type": "code",
      "metadata": {
        "colab": {
          "base_uri": "https://localhost:8080/"
        },
        "id": "qF9x0LeZlK48",
        "outputId": "9aa9a7be-f8c0-409d-b284-25c32a6aa1be"
      },
      "source": [
        "# 커피가게 매출 계산하기 (My version)\n",
        "ame = int(input('아메리카노 판매 갯수:'))\n",
        "latte = int(input('카페라떼 판매 갯수:'))\n",
        "cappu = int(input('카푸치노 판매 갯수:'))\n",
        "a = 2000\n",
        "l = 3000\n",
        "c= 3500\n",
        "print('총 매출은', (ame*a+latte*l+cappu*c),'원입니다.')"
      ],
      "execution_count": null,
      "outputs": [
        {
          "output_type": "stream",
          "text": [
            "아메리카노 판매 갯수:10\n",
            "카페라떼 판매 갯수:20\n",
            "카푸치노 판매 갯수:30\n",
            "총 매출은 185000 원입니다.\n"
          ],
          "name": "stdout"
        }
      ]
    },
    {
      "cell_type": "markdown",
      "metadata": {
        "id": "sjsBo_64SmYO"
      },
      "source": [
        "# 문자열 특수키 & 부가적인 함수"
      ]
    },
    {
      "cell_type": "code",
      "metadata": {
        "colab": {
          "base_uri": "https://localhost:8080/"
        },
        "id": "qQFuG3WGn1-z",
        "outputId": "2acccea0-c13b-4e4e-c47c-6922db6fce34"
      },
      "source": [
        "print( '셀 병합 \\n \\t \\'shift key\\'를 누른후 \\n \\t \\t병합을 원하는 셀들을 다중선택 후 shift+M')"
      ],
      "execution_count": null,
      "outputs": [
        {
          "output_type": "stream",
          "text": [
            "셀 병합 \n",
            " \t 'shift key'를 누른후 \n",
            " \t \t병합을 원하는 셀들을 다중선택 후 shift+M\n"
          ],
          "name": "stdout"
        }
      ]
    },
    {
      "cell_type": "code",
      "metadata": {
        "colab": {
          "base_uri": "https://localhost:8080/"
        },
        "id": "PTUoWk1npVs5",
        "outputId": "bb42e745-3e27-4c78-ed8e-238e8ff8ed91"
      },
      "source": [
        "#join : 문자열을 원하는 글자로 더한다\n",
        "#split : 문자열을 원하는 글자로 나눈다\n",
        "print('-'.join('Hello World'))\n",
        "print('Welcome to python'.split(' ')) #Error 이유: 쉼표 말고 마침표!!!"
      ],
      "execution_count": null,
      "outputs": [
        {
          "output_type": "stream",
          "text": [
            "H-e-l-l-o- -W-o-r-l-d\n",
            "['Welcome', 'to', 'python']\n"
          ],
          "name": "stdout"
        }
      ]
    },
    {
      "cell_type": "code",
      "metadata": {
        "colab": {
          "base_uri": "https://localhost:8080/"
        },
        "id": "qz4-XQyOrV-y",
        "outputId": "e5d4165a-7294-442d-f1db-0ee1729594d6"
      },
      "source": [
        "print('-'.join('Hello World'))\n",
        "print('Welcome to python'.split('o'))"
      ],
      "execution_count": null,
      "outputs": [
        {
          "output_type": "stream",
          "text": [
            "H-e-l-l-o- -W-o-r-l-d\n",
            "['Welc', 'me t', ' pyth', 'n']\n"
          ],
          "name": "stdout"
        }
      ]
    }
  ]
}