{
  "nbformat": 4,
  "nbformat_minor": 0,
  "metadata": {
    "colab": {
      "name": "2021-06-09-5팀-박정선.ipynb",
      "private_outputs": true,
      "provenance": [],
      "collapsed_sections": [],
      "toc_visible": true,
      "include_colab_link": true
    },
    "kernelspec": {
      "name": "python3",
      "display_name": "Python 3"
    },
    "language_info": {
      "name": "python"
    }
  },
  "cells": [
    {
      "cell_type": "markdown",
      "metadata": {
        "id": "view-in-github",
        "colab_type": "text"
      },
      "source": [
        "<a href=\"https://colab.research.google.com/github/JUNGSUN17/pythonrepo/blob/master/_notebooks/2021_06_09_5%ED%8C%80_%EB%B0%95%EC%A0%95%EC%84%A0.ipynb\" target=\"_parent\"><img src=\"https://colab.research.google.com/assets/colab-badge.svg\" alt=\"Open In Colab\"/></a>"
      ]
    },
    {
      "cell_type": "markdown",
      "metadata": {
        "id": "wBdqHpCD_Igp"
      },
      "source": [
        "# Pandas & Matplotlib"
      ]
    },
    {
      "cell_type": "markdown",
      "metadata": {
        "id": "BQy_o9vRZix_"
      },
      "source": [
        "# pandas\n",
        "\n",
        "## 데이터 분석과 관련된 다양한 기능을 제공하는 파이썬 패키지  \n",
        "\n",
        "* 엑셀의 기능을 제공하는 파이썬 모듈이라고 생각하면 이해가 쉽습니다.\n",
        "* 표 형태의 데이터를 다루기 위한 시리즈(Series)와 데이터프레임(DataFrame) 클래스 제공  합니다.  \n",
        "\n",
        "    * `Series` : 1차원 자료구조를 표현(벡터)  \n",
        "    * `DataFrame` : 행렬의 표를 표현  "
      ]
    },
    {
      "cell_type": "code",
      "metadata": {
        "id": "6x4FnuGLLaZ_"
      },
      "source": [
        "from google.colab import files\n",
        "file_upload = files.upload()\n"
      ],
      "execution_count": null,
      "outputs": []
    },
    {
      "cell_type": "code",
      "metadata": {
        "id": "xk1Tps-x_dmn"
      },
      "source": [
        "from google.colab import drive\n",
        "drive.mount('/content/drive')"
      ],
      "execution_count": null,
      "outputs": []
    },
    {
      "cell_type": "code",
      "metadata": {
        "id": "BowrImEcAIzU"
      },
      "source": [
        "% cd /content/drive/MyDrive/Colab Notebooks"
      ],
      "execution_count": null,
      "outputs": []
    },
    {
      "cell_type": "markdown",
      "metadata": {
        "id": "HasLcnkOa0Lj"
      },
      "source": [
        "## 판다스 사용하기\n",
        "\n",
        "**판다스 라이브러리를 import**"
      ]
    },
    {
      "cell_type": "code",
      "metadata": {
        "id": "nFSz7_KfLs-1"
      },
      "source": [
        "import pandas as pd\n",
        "df = pd.read_csv('/content/drive/MyDrive/Colab Notebooks/friends1.csv')\n",
        "df"
      ],
      "execution_count": null,
      "outputs": []
    },
    {
      "cell_type": "code",
      "metadata": {
        "id": "pOD9oBYGWx9v"
      },
      "source": [
        "df.head()"
      ],
      "execution_count": null,
      "outputs": []
    },
    {
      "cell_type": "code",
      "metadata": {
        "id": "NFfKoj-QW3N3"
      },
      "source": [
        "df.head(3)"
      ],
      "execution_count": null,
      "outputs": []
    },
    {
      "cell_type": "code",
      "metadata": {
        "id": "244kJlEMW8Cp"
      },
      "source": [
        "df.tail()"
      ],
      "execution_count": null,
      "outputs": []
    },
    {
      "cell_type": "code",
      "metadata": {
        "id": "IrV35JDIW_Y6"
      },
      "source": [
        "df.tail(2)"
      ],
      "execution_count": null,
      "outputs": []
    },
    {
      "cell_type": "markdown",
      "metadata": {
        "id": "G_NKS6uzdvhW"
      },
      "source": [
        "### 데이터 가져오기\n",
        "\n",
        "**df[[시리즈명]]**"
      ]
    },
    {
      "cell_type": "code",
      "metadata": {
        "id": "CYaAxwjVXF57"
      },
      "source": [
        "df[['이름','나이']]"
      ],
      "execution_count": null,
      "outputs": []
    },
    {
      "cell_type": "code",
      "metadata": {
        "id": "xa2gczfacu1H"
      },
      "source": [
        "df['나이'] > 25"
      ],
      "execution_count": null,
      "outputs": []
    },
    {
      "cell_type": "code",
      "metadata": {
        "id": "AxOtjzzXc5k1"
      },
      "source": [
        "df[df['나이'] > 25]"
      ],
      "execution_count": null,
      "outputs": []
    },
    {
      "cell_type": "code",
      "metadata": {
        "id": "VpzW-i4NdIZf"
      },
      "source": [
        "df[(df['나이'] > 20) & (df['나이'] < 30)]"
      ],
      "execution_count": null,
      "outputs": []
    },
    {
      "cell_type": "code",
      "metadata": {
        "id": "zSgl3Wxyej8E"
      },
      "source": [
        "#True 개수\n",
        "sum(df['직업'] == '백수')"
      ],
      "execution_count": null,
      "outputs": []
    },
    {
      "cell_type": "code",
      "metadata": {
        "id": "-kjpCf6XgHMd"
      },
      "source": [
        "df['직업'] == '백수'"
      ],
      "execution_count": null,
      "outputs": []
    },
    {
      "cell_type": "code",
      "metadata": {
        "id": "Vh-YAwR7eztJ"
      },
      "source": [
        "df[(df['나이']>20) & (df['나이']<28)]"
      ],
      "execution_count": null,
      "outputs": []
    },
    {
      "cell_type": "code",
      "metadata": {
        "id": "ubURe6iOfWRP"
      },
      "source": [
        "df[(df['직업'] == '축구선수') & (df['나이']<20)]"
      ],
      "execution_count": null,
      "outputs": []
    },
    {
      "cell_type": "markdown",
      "metadata": {
        "id": "nv55roD7lOlo"
      },
      "source": [
        "### 데이터 확인하기: 요약 통계\n",
        "\n",
        "**describe() - 컬럼별 통계량을 출력한다**"
      ]
    },
    {
      "cell_type": "code",
      "metadata": {
        "id": "Gpd8uNAZdshw"
      },
      "source": [
        "df.describe()"
      ],
      "execution_count": null,
      "outputs": []
    },
    {
      "cell_type": "markdown",
      "metadata": {
        "id": "MW-ttplgeihC"
      },
      "source": [
        "### 데이터 정보\n",
        "\n",
        "**info() - 행 열의 크기, 컬럼명, 컬럼 구성값의 자료형 출력**"
      ]
    },
    {
      "cell_type": "code",
      "metadata": {
        "id": "s6-8sOCmd-Xb"
      },
      "source": [
        "df.info"
      ],
      "execution_count": null,
      "outputs": []
    },
    {
      "cell_type": "code",
      "metadata": {
        "id": "TnNiA7crmDdu"
      },
      "source": [
        "df.info()"
      ],
      "execution_count": null,
      "outputs": []
    },
    {
      "cell_type": "markdown",
      "metadata": {
        "id": "DqpzPnDBe12D"
      },
      "source": [
        "### 결측치\n",
        "\n",
        "**isnull() - 빈값에 True를 출력한다**"
      ]
    },
    {
      "cell_type": "code",
      "metadata": {
        "id": "y0Kfo7HDe9RI"
      },
      "source": [
        "df.isnull()"
      ],
      "execution_count": null,
      "outputs": []
    },
    {
      "cell_type": "code",
      "metadata": {
        "id": "csj5qrQmm3LC"
      },
      "source": [
        "df.isnull().sum()"
      ],
      "execution_count": null,
      "outputs": []
    },
    {
      "cell_type": "code",
      "metadata": {
        "id": "25Grsx5cfB3D"
      },
      "source": [
        "df.isnull().count()"
      ],
      "execution_count": null,
      "outputs": []
    },
    {
      "cell_type": "code",
      "metadata": {
        "id": "1MUhtHGGfJm0"
      },
      "source": [
        "df.columns = ['성명','연령','하는일']\n",
        "df"
      ],
      "execution_count": null,
      "outputs": []
    },
    {
      "cell_type": "code",
      "metadata": {
        "id": "UYnoaTQhfwe7"
      },
      "source": [
        "df.rename(columns = {'성명':'이름','연령':'나이'},inplace=True)\n",
        "df"
      ],
      "execution_count": null,
      "outputs": []
    },
    {
      "cell_type": "markdown",
      "metadata": {
        "id": "FB1NWFhJgh0F"
      },
      "source": [
        "# matplotlib"
      ]
    },
    {
      "cell_type": "markdown",
      "metadata": {
        "id": "aPuJDG-ng_H4"
      },
      "source": [
        "matplotlib은 다양한 데이터를 많은 방법으로 도식화 할 수 있도록 하는 파이썬 라이브러리\n",
        "\n"
      ]
    },
    {
      "cell_type": "markdown",
      "metadata": {
        "id": "qtHRocG4hHSR"
      },
      "source": [
        "matplotlib을 이용하면 우리가 이전에 알아본 numpy나 pandas에서 사용되는 자료구조를 쉽게 시각화 할 수 있습니다.\n"
      ]
    },
    {
      "cell_type": "code",
      "metadata": {
        "id": "QtLjg9oXIqso"
      },
      "source": [
        "import matplotlib as mpl\n",
        "import matplotlib.pyplot as plt\n",
        " \n",
        "%config InlineBackend.figure_format = 'retina'\n",
        " \n",
        "!apt -qq -y install fonts-nanum\n",
        " \n",
        "import matplotlib.font_manager as fm\n",
        "fontpath = '/usr/share/fonts/truetype/nanum/NanumBarunGothic.ttf'\n",
        "font = fm.FontProperties(fname=fontpath, size=9)\n",
        "plt.rc('font', family='NanumBarunGothic') \n",
        "mpl.font_manager._rebuild()\n"
      ],
      "execution_count": null,
      "outputs": []
    },
    {
      "cell_type": "code",
      "metadata": {
        "id": "nIud1_90E3fm"
      },
      "source": [
        "# 현재 설정되어 있는 폰트 사이즈와 글꼴을 알아보자\n",
        "!python --version\n",
        "def current_font():\n",
        "  print(f\"설정 폰트 글꼴: {plt.rcParams['font.family']}, 설정 폰트 사이즈: {plt.rcParams['font.size']}\")  # 파이썬 3.6 이상 사용가능하다\n",
        "        \n",
        "current_font()"
      ],
      "execution_count": null,
      "outputs": []
    },
    {
      "cell_type": "code",
      "metadata": {
        "id": "lsxv5f3DnOOa"
      },
      "source": [
        "# 한글폰트 사용 in colab\n",
        "%matplotlib inline  \n",
        "\n",
        "import matplotlib as mpl \n",
        "import matplotlib.pyplot as plt \n",
        "import matplotlib.font_manager as fm  \n",
        "\n",
        "!apt-get update -qq\n",
        "!apt-get install fonts-nanum* -qq\n",
        "\n",
        "path = '/usr/share/fonts/truetype/nanum/NanumBarunGothic.ttf' \n",
        "font_name = fm.FontProperties(fname=path, size=10).get_name()\n",
        "print(font_name)\n",
        "plt.rc('font', family=font_name)\n",
        "\n",
        "fm._rebuild()\n",
        "mpl.rcParams['axes.unicode_minus'] = False"
      ],
      "execution_count": null,
      "outputs": []
    },
    {
      "cell_type": "markdown",
      "metadata": {
        "id": "zrWJ0fwLp_wr"
      },
      "source": [
        "## 선그래프 그리기: plot()\n",
        "\n",
        "기본 그래프 그리기"
      ]
    },
    {
      "cell_type": "code",
      "metadata": {
        "id": "EYzyJ5kdI5Go"
      },
      "source": [
        "plt.figure(figsize=(5,5))\n",
        "plt.plot([0,1], [0,1], label='한글테스트용')\n",
        "plt.legend()\n",
        "plt.show()"
      ],
      "execution_count": null,
      "outputs": []
    },
    {
      "cell_type": "code",
      "metadata": {
        "id": "yedjscLahyUW"
      },
      "source": [
        "x= [1,2,3,4]\n",
        "y= [10,20,5,40]\n",
        "plt.plot(x,y)\n",
        "plt.show"
      ],
      "execution_count": null,
      "outputs": []
    },
    {
      "cell_type": "markdown",
      "metadata": {
        "id": "_RBF3Hd8ifU4"
      },
      "source": [
        "### 제목"
      ]
    },
    {
      "cell_type": "code",
      "metadata": {
        "id": "AaqulicxiiSu"
      },
      "source": [
        "x= [1,2,3,4]\n",
        "y= [10,20,30,40]\n",
        "plt.plot(x,y)\n",
        "plt.title('x, y 차트')\n",
        "plt.show"
      ],
      "execution_count": null,
      "outputs": []
    },
    {
      "cell_type": "markdown",
      "metadata": {
        "id": "_i1zxPo7jDyZ"
      },
      "source": [
        "### 그래프 추가"
      ]
    },
    {
      "cell_type": "code",
      "metadata": {
        "id": "XpyYUA0-jCbN"
      },
      "source": [
        "x= [1,2,3,4]\n",
        "y= [10,20,30,40]\n",
        "plt.plot(x,y)\n",
        "x1= [1,2,3,4]\n",
        "y1= [5,30,20,25]\n",
        "plt.plot(x1,y1)\n",
        "plt.title('x,y chart')\n",
        "plt.show"
      ],
      "execution_count": null,
      "outputs": []
    },
    {
      "cell_type": "code",
      "metadata": {
        "id": "QFOeoAi5rCRA"
      },
      "source": [
        "# y 숫자 추가 (Error)\n",
        "x= [1,2,3,4]\n",
        "y= [10,20,30,40,10]\n",
        "plt.plot(x,y)\n",
        "x1= [1,2,3,4]\n",
        "y1= [5,30,20,25,28]\n",
        "plt.plot(x1,y1)\n",
        "plt.title('x,y chart')"
      ],
      "execution_count": null,
      "outputs": []
    },
    {
      "cell_type": "code",
      "metadata": {
        "id": "RrH-17ztreCx"
      },
      "source": [
        "# y 숫자 추가 (Error)\n",
        "x= [1,2,3,4]\n",
        "y= [10,20,30,40]\n",
        "plt.plot(x,y)\n",
        "x1= [1,2,3,4,8]\n",
        "y1= [5,30,20,25,28]\n",
        "plt.plot(x1,y1)\n",
        "plt.title('x,y chart')"
      ],
      "execution_count": null,
      "outputs": []
    },
    {
      "cell_type": "markdown",
      "metadata": {
        "id": "9mNc9l8Wjbkh"
      },
      "source": [
        "### x축,y축 라벨 표시"
      ]
    },
    {
      "cell_type": "code",
      "metadata": {
        "id": "bVI1TZ89jarw"
      },
      "source": [
        "x= [1,2,3,4]\n",
        "y= [10,20,30,40]\n",
        "plt.plot(x,y)\n",
        "x1= [1,2,3,4]\n",
        "y1= [5,30,20,25]\n",
        "plt.plot(x1,y1)\n",
        "plt.title('x,y chart')\n",
        "plt.xlabel('x-axid')\n",
        "plt.ylabel('y-axid')\n",
        "plt.show"
      ],
      "execution_count": null,
      "outputs": []
    },
    {
      "cell_type": "markdown",
      "metadata": {
        "id": "Lx9HtVeVj0iI"
      },
      "source": [
        "### 범례 위치"
      ]
    },
    {
      "cell_type": "code",
      "metadata": {
        "id": "GMxu24jNj-BA"
      },
      "source": [
        "x= [1,2,3,4]        #x축\n",
        "y= [10,20,30,40]    #y축\n",
        "\n",
        "plt.plot(x,y,label='graph1')\n",
        "x1= [1,2,3,4]       #x축\n",
        "y1= [5,30,20,25]    #y축\n",
        "\n",
        "plt.plot(x1,y1,label='graph2')\n",
        "plt.title('x,y chart')\n",
        "plt.xlabel('x-axid')\n",
        "plt.ylabel('y-axid')\n",
        "plt.legend(loc=2)\n",
        "plt.show"
      ],
      "execution_count": null,
      "outputs": []
    },
    {
      "cell_type": "markdown",
      "metadata": {
        "id": "d6rP71DDkjWH"
      },
      "source": [
        "### 그래프 색상 바꾸기\n",
        "\n",
        "https://matplotlib.org/2.0.2/examples/color/named_colors.html\n"
      ]
    },
    {
      "cell_type": "code",
      "metadata": {
        "id": "Lu1sYztfkigy"
      },
      "source": [
        "x= [1,2,3,4]\n",
        "y= [10,20,30,40]\n",
        "plt.plot(x,y,label='graph1',color = 'darkblue')\n",
        "\n",
        "x1= [1,2,3,4]\n",
        "y1= [5,30,20,25]\n",
        "plt.plot(x1,y1,label='graph2', color = 'orangered')\n",
        "\n",
        "plt.title('x,y chart')\n",
        "plt.xlabel('x-axid')\n",
        "plt.ylabel('y-axid')\n",
        "plt.legend(loc=4)\n",
        "plt.show"
      ],
      "execution_count": null,
      "outputs": []
    },
    {
      "cell_type": "code",
      "metadata": {
        "id": "5PkvSv98tZve"
      },
      "source": [
        "x= [1,2,3,4]\n",
        "y= [10,20,30,40]\n",
        "plt.plot(x,y,label='graph1',color = 'darkblue')\n",
        "\n",
        "x1= [1,2,3,4]\n",
        "y1= [5,30,20,25]\n",
        "plt.plot(x1,y1,label='graph2', color = 'orangered')\n",
        "\n",
        "x2 = [1,2,3,4]\n",
        "x2 = [4,45,13,36]\n",
        "plt.plot(x1,y1,label='graph3', color = 'greenyellow')\n",
        "\n",
        "plt.title('x,y chart')\n",
        "plt.xlabel('x-axid')\n",
        "plt.ylabel('y-axid')\n",
        "plt.legend(loc=4)\n",
        "plt.show"
      ],
      "execution_count": null,
      "outputs": []
    },
    {
      "cell_type": "code",
      "metadata": {
        "id": "6rayMk0-k82I"
      },
      "source": [
        "x= [1,2,3,4]\n",
        "y= [10,20,30,40]\n",
        "\n",
        "plt.plot(x,y,label='graph1',color = 'r',linestyle= '--')\n",
        "x1= [1,2,3,4]\n",
        "y1= [5,30,20,25]\n",
        "\n",
        "plt.plot(x1,y1,label='graph2', color = 'g',linestyle= ':')\n",
        "plt.title('x,y chart')\n",
        "plt.xlabel('x-axid')\n",
        "plt.ylabel('y-axid')\n",
        "plt.legend(loc=4)\n",
        "plt.show"
      ],
      "execution_count": null,
      "outputs": []
    },
    {
      "cell_type": "markdown",
      "metadata": {
        "id": "otgBN4CMlq7N"
      },
      "source": [
        "### 마커추가"
      ]
    },
    {
      "cell_type": "code",
      "metadata": {
        "id": "EA9G9C8flurX"
      },
      "source": [
        "x= [1,2,3,4]\n",
        "y= [10,20,30,40]\n",
        "\n",
        "plt.plot(x,y,label='graph1',color = 'r',marker= '^')\n",
        "x1= [1,2,3,4]\n",
        "y1= [5,30,20,25]\n",
        "\n",
        "plt.plot(x1,y1,label='graph2', color = 'g',marker= '.')\n",
        "plt.title('x,y chart')\n",
        "plt.xlabel('x-axid')\n",
        "plt.ylabel('y-axid')\n",
        "plt.legend(loc=4)\n",
        "plt.show"
      ],
      "execution_count": null,
      "outputs": []
    },
    {
      "cell_type": "markdown",
      "metadata": {
        "id": "wGZrQQcPl888"
      },
      "source": [
        "### 산점도 그리기: scatter()"
      ]
    },
    {
      "cell_type": "code",
      "metadata": {
        "id": "5MkKW6PlmW5K"
      },
      "source": [
        "x= [1,2,3,4]\n",
        "y= [10,20,30,40]\n",
        "plt.scatter(x,y,label='graph1',color = 'r',marker= '8')\n",
        "\n",
        "x1= [1,2,3,4]\n",
        "y1= [5,30,20,25]\n",
        "plt.scatter(x1,y1,label='graph2', color = 'g',marker= 's')\n",
        "\n",
        "x2 = [0,3,10,34,41]\n",
        "y2 = [50,30,43,5,2]\n",
        "plt.scatter(x1,y1,label='graph3', color = 'b',marker= 'p')\n",
        "\n",
        "plt.title('직선 그래프')\n",
        "plt.xlabel('x축')\n",
        "plt.ylabel('y축')\n",
        "plt.legend(loc=4)\n",
        "plt.show"
      ],
      "execution_count": null,
      "outputs": []
    }
  ]
}