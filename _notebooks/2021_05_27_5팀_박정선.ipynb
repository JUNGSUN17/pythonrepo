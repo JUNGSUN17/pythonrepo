{
  "nbformat": 4,
  "nbformat_minor": 0,
  "metadata": {
    "colab": {
      "name": "2021-05-27-5팀-박정선.ipynb",
      "provenance": [],
      "collapsed_sections": [],
      "toc_visible": true,
      "authorship_tag": "ABX9TyN+Mgw1NTLmQJsU4mOqOPgU",
      "include_colab_link": true
    },
    "kernelspec": {
      "name": "python3",
      "display_name": "Python 3"
    },
    "language_info": {
      "name": "python"
    }
  },
  "cells": [
    {
      "cell_type": "markdown",
      "metadata": {
        "id": "view-in-github",
        "colab_type": "text"
      },
      "source": [
        "<a href=\"https://colab.research.google.com/github/JUNGSUN17/pythonrepo/blob/master/_notebooks/2021_05_27_5%ED%8C%80_%EB%B0%95%EC%A0%95%EC%84%A0.ipynb\" target=\"_parent\"><img src=\"https://colab.research.google.com/assets/colab-badge.svg\" alt=\"Open In Colab\"/></a>"
      ]
    },
    {
      "cell_type": "markdown",
      "metadata": {
        "id": "igOpXM74mMNy"
      },
      "source": [
        "#리스트, 튜플, 딕셔너리"
      ]
    },
    {
      "cell_type": "markdown",
      "metadata": {
        "id": "ip1ubEySmhS9"
      },
      "source": [
        "#리스트"
      ]
    },
    {
      "cell_type": "markdown",
      "metadata": {
        "id": "abKxgcP9pSwP"
      },
      "source": [
        "###리스트 복습"
      ]
    },
    {
      "cell_type": "code",
      "metadata": {
        "colab": {
          "base_uri": "https://localhost:8080/"
        },
        "id": "y4i4ltRWcOVR",
        "outputId": "45de1274-3b4e-44be-87c6-a7f271a1eff0"
      },
      "source": [
        "#예제: 리스트의 합계 구하기\n",
        "values = [56,12,33,8,3,2,98]\n",
        "total = 0\n",
        "for x in range(7):\n",
        "    total+= values[x]\n",
        "total"
      ],
      "execution_count": null,
      "outputs": [
        {
          "output_type": "execute_result",
          "data": {
            "text/plain": [
              "212"
            ]
          },
          "metadata": {
            "tags": []
          },
          "execution_count": 48
        }
      ]
    },
    {
      "cell_type": "code",
      "metadata": {
        "id": "nI_W0gcgc_Dw"
      },
      "source": [
        "#예제: 리스트의 합계 구하기\n",
        "values = [56,12,33,8,3,2,98]\n",
        "total = 0\n",
        "for x in values:\n",
        "    total+= x\n",
        "total"
      ],
      "execution_count": null,
      "outputs": []
    },
    {
      "cell_type": "code",
      "metadata": {
        "colab": {
          "base_uri": "https://localhost:8080/"
        },
        "id": "oXMQ8GZGdFZh",
        "outputId": "c7899267-1bf7-44c4-bd84-16309a603a9a"
      },
      "source": [
        "#예제: 리스트의 합계 구하기\n",
        "values = [56,12,33,8,3,2,98]\n",
        "total = sum(values)\n",
        "total"
      ],
      "execution_count": null,
      "outputs": [
        {
          "output_type": "execute_result",
          "data": {
            "text/plain": [
              "212"
            ]
          },
          "metadata": {
            "tags": []
          },
          "execution_count": 43
        }
      ]
    },
    {
      "cell_type": "markdown",
      "metadata": {
        "id": "QNeJmkk2o_3j"
      },
      "source": [
        "### 리스트 예제 작성"
      ]
    },
    {
      "cell_type": "code",
      "metadata": {
        "colab": {
          "base_uri": "https://localhost:8080/"
        },
        "id": "OrhpA0fI-Fkh",
        "outputId": "18b064f2-8f14-48af-e49d-16401c3080d8"
      },
      "source": [
        "#예제: 주사위 빈도 계산하기\n",
        "#주사위를 10000번 던져서 나오는 값들의 빈도를 계산하는 프로그램 작성. \n",
        "#즉, 1,2,3,4,5,6이 몇 번 나오는지 계산하자. \n",
        "#난수 발생 함수와 리스트를 사용한다.\n",
        "import random                       #random 무작위 수를 발생시키는 모듈\n",
        "dice = [0,0,0,0,0,0]                #리스트 초기화\n",
        "for i in range(10000):              #10000 반복\n",
        "     number = random.randint(1,6)   #1에서 6사이의 임의의 수 랜덤반복\n",
        "     if number == 1:                \n",
        "         dice[0]+=1\n",
        "     elif number == 2:\n",
        "        dice[1]+=1\n",
        "     elif number == 3:              #횟수 카운트\n",
        "        dice[2]+=1\n",
        "     elif number == 4:\n",
        "        dice[3]+=1\n",
        "     elif number == 5:\n",
        "        dice[4]+=1\n",
        "     elif number == 6:\n",
        "        dice[5]+=1\n",
        "print(dice)"
      ],
      "execution_count": null,
      "outputs": [
        {
          "output_type": "stream",
          "text": [
            "[1646, 1644, 1698, 1658, 1710, 1644]\n"
          ],
          "name": "stdout"
        }
      ]
    },
    {
      "cell_type": "code",
      "metadata": {
        "colab": {
          "base_uri": "https://localhost:8080/"
        },
        "id": "5CDTVOf2LSyD",
        "outputId": "0e97fc90-7b66-40eb-9c4a-2ba860ba764a"
      },
      "source": [
        "#slack에 올라온 다른 분 코드 (참고)\n",
        "dice = list(range(1, 7))\n",
        "dice_no = []\n",
        "for i in range(10000) :\n",
        "    dice_no.append(random.choice(dice))\n",
        "for i in range(1, len(dice)+1) :\n",
        "    print(f'{i}은(는) {dice_no.count(i)} 개')"
      ],
      "execution_count": null,
      "outputs": [
        {
          "output_type": "stream",
          "text": [
            "1은(는) 1706 개\n",
            "2은(는) 1687 개\n",
            "3은(는) 1660 개\n",
            "4은(는) 1654 개\n",
            "5은(는) 1632 개\n",
            "6은(는) 1661 개\n"
          ],
          "name": "stdout"
        }
      ]
    },
    {
      "cell_type": "code",
      "metadata": {
        "colab": {
          "base_uri": "https://localhost:8080/"
        },
        "id": "mRI6hGUANNJh",
        "outputId": "784b797f-b534-409b-b77d-8a2cb645b667"
      },
      "source": [
        "#slack에 올라온 다른 분 코드 (참고)\n",
        "import random\n",
        "num_1 = []\n",
        "num_2 = []\n",
        "num_3 = []\n",
        "num_4 = []\n",
        "num_5 = []\n",
        "num_6 = []\n",
        "for i in range(10000):\n",
        "    dice = random.randrange(1,7)\n",
        "    if dice == 1:\n",
        "        num_1.append(dice)\n",
        "    elif dice == 2:\n",
        "        num_2.append(dice)\n",
        "    elif dice == 3:\n",
        "        num_3.append(dice)\n",
        "    elif dice == 4:\n",
        "        num_4.append(dice)\n",
        "    elif dice == 5:\n",
        "        num_5.append(dice)\n",
        "    elif dice == 6:\n",
        "        num_6.append(dice)\n",
        "print(len(num_1), len(num_2), len(num_3), len(num_4), len(num_5), len(num_6))"
      ],
      "execution_count": null,
      "outputs": [
        {
          "output_type": "stream",
          "text": [
            "1636 1671 1681 1672 1612 1728\n"
          ],
          "name": "stdout"
        }
      ]
    },
    {
      "cell_type": "code",
      "metadata": {
        "colab": {
          "base_uri": "https://localhost:8080/"
        },
        "id": "SztyZev1PP8y",
        "outputId": "1d6cb3af-cf74-4fee-c414-4b8adcc27bd5"
      },
      "source": [
        "#예제 3: 과목별 점수의 평균 구하기\n",
        "#[국어,수학,영어]점수가 포함된 리스트이다.\n",
        "kor = []\n",
        "eng = []\n",
        "math = []\n",
        "scores = [[96,84,80],[96,86,76],[76,95,69],[90,76,91],[82,66,88],[83,86,79],[85,90,83]]\n",
        "\n",
        "for x in scores:\n",
        "    kor.append(x[0])\n",
        "    eng.append(x[1])\n",
        "    math.append(x[2])\n",
        "print('국어:',kor)\n",
        "print('영어:',eng)\n",
        "print('수학:',math)\n",
        "kor_ave = sum(kor)/len(kor)\n",
        "eng_ave = sum(eng)/len(eng)\n",
        "math_ave = sum(math)/len(math)\n",
        "print('국어평균:',round(kor_ave,1),'영어평균:',round(eng_ave),'수학평균:',round(math_ave,1))"
      ],
      "execution_count": null,
      "outputs": [
        {
          "output_type": "stream",
          "text": [
            "국어: [96, 96, 76, 90, 82, 83, 85]\n",
            "영어: [84, 86, 95, 76, 66, 86, 90]\n",
            "수학: [80, 76, 69, 91, 88, 79, 83]\n",
            "국어평균: 86.9 영어평균: 83 수학평균: 80.9\n"
          ],
          "name": "stdout"
        }
      ]
    },
    {
      "cell_type": "markdown",
      "metadata": {
        "id": "rvFw2n4AZ7u-"
      },
      "source": [
        "**튜플(Tuple)**\n",
        "\n",
        "프로그램이 실행되는 동안 값이 바뀌면 안되는 경우 사용\n",
        "\n",
        "tuple_name = (요소1, 요소2, ..., 요소N)"
      ]
    },
    {
      "cell_type": "markdown",
      "metadata": {
        "id": "e_qJGs8RpHRX"
      },
      "source": [
        "# 튜플(Tuple)\n",
        "\n",
        "프로그램이 실행되는 동안 값이 바뀌면 안되는 경우 사용\n",
        "\n",
        "tuple_name = (요소1, 요소2, ..., 요소N)"
      ]
    },
    {
      "cell_type": "code",
      "metadata": {
        "colab": {
          "base_uri": "https://localhost:8080/"
        },
        "id": "Nd7zW_OaZ9rT",
        "outputId": "26231b74-33a4-46b7-d4c1-71289ef4631e"
      },
      "source": [
        "#요소가 여러개인 튜플 생성\n",
        "t1 = (1,2,3)\n",
        "t1"
      ],
      "execution_count": null,
      "outputs": [
        {
          "output_type": "execute_result",
          "data": {
            "text/plain": [
              "(1, 2, 3)"
            ]
          },
          "metadata": {
            "tags": []
          },
          "execution_count": 36
        }
      ]
    },
    {
      "cell_type": "code",
      "metadata": {
        "colab": {
          "base_uri": "https://localhost:8080/"
        },
        "id": "vOrPufpsbjwf",
        "outputId": "6522c030-48ee-4f74-fca7-fb6fa2a7eb2c"
      },
      "source": [
        "#요소가 여러개인 튜플 생성\n",
        "t1 = 1,2,3\n",
        "t1"
      ],
      "execution_count": null,
      "outputs": [
        {
          "output_type": "execute_result",
          "data": {
            "text/plain": [
              "(1, 2, 3)"
            ]
          },
          "metadata": {
            "tags": []
          },
          "execution_count": 37
        }
      ]
    },
    {
      "cell_type": "code",
      "metadata": {
        "colab": {
          "base_uri": "https://localhost:8080/"
        },
        "id": "OgwcVlL7bT4T",
        "outputId": "4f53281b-7de6-40bf-a49b-07be729be8b4"
      },
      "source": [
        "#요소가 한 개인 튜플 생성\n",
        "t1 = (1,)\n",
        "t1"
      ],
      "execution_count": null,
      "outputs": [
        {
          "output_type": "execute_result",
          "data": {
            "text/plain": [
              "(1,)"
            ]
          },
          "metadata": {
            "tags": []
          },
          "execution_count": 34
        }
      ]
    },
    {
      "cell_type": "code",
      "metadata": {
        "colab": {
          "base_uri": "https://localhost:8080/"
        },
        "id": "phXAtiFcbnOc",
        "outputId": "302955a8-e248-4e19-f565-e844dfdf0ec3"
      },
      "source": [
        "#요소가 한 개인 튜플 생성\n",
        "t1 = 1,\n",
        "t1"
      ],
      "execution_count": null,
      "outputs": [
        {
          "output_type": "execute_result",
          "data": {
            "text/plain": [
              "(1,)"
            ]
          },
          "metadata": {
            "tags": []
          },
          "execution_count": 38
        }
      ]
    },
    {
      "cell_type": "code",
      "metadata": {
        "colab": {
          "base_uri": "https://localhost:8080/"
        },
        "id": "Noaz_NvJbcbj",
        "outputId": "145f1bfb-f42c-4a5f-e095-de55a31d49c3"
      },
      "source": [
        "#요소가 한 개인 튜플 생성\n",
        "t1 = (1)\n",
        "t1"
      ],
      "execution_count": null,
      "outputs": [
        {
          "output_type": "execute_result",
          "data": {
            "text/plain": [
              "1"
            ]
          },
          "metadata": {
            "tags": []
          },
          "execution_count": 35
        }
      ]
    },
    {
      "cell_type": "code",
      "metadata": {
        "colab": {
          "base_uri": "https://localhost:8080/"
        },
        "id": "UyMuNEydb3Ev",
        "outputId": "27995d5c-4bc6-4130-fe85-4395c876f34f"
      },
      "source": [
        "#튜플 다루기\n",
        "t1 = (1,5,3,4,2)\n",
        "t2 = (6,7,8,9,8)\n",
        "print(t1[1])            #인덱싱    \n",
        "print(t1[2:4])          #슬라이싱\n",
        "print(t1+t2)            #더하기\n",
        "print(t1*3)             #곱하기\n",
        "print(len(t1))          #길이 구하기\n",
        "print(t2.index(9))        #요소 위치 찾기\n",
        "print(t2.count(8))      #요소의 갯수\n",
        "sort_t1 = sorted(t1)\n",
        "print(sort_t1)          #리스트의 형태로 반환이 된다"
      ],
      "execution_count": null,
      "outputs": [
        {
          "output_type": "stream",
          "text": [
            "5\n",
            "(3, 4)\n",
            "(1, 5, 3, 4, 2, 6, 7, 8, 9, 8)\n",
            "(1, 5, 3, 4, 2, 1, 5, 3, 4, 2, 1, 5, 3, 4, 2)\n",
            "5\n",
            "3\n",
            "2\n",
            "[1, 2, 3, 4, 5]\n"
          ],
          "name": "stdout"
        }
      ]
    },
    {
      "cell_type": "markdown",
      "metadata": {
        "id": "YcuiHn-spmmj"
      },
      "source": [
        "# 딕셔너리 (Dictionary)\n",
        "\n"
      ]
    },
    {
      "cell_type": "code",
      "metadata": {
        "colab": {
          "base_uri": "https://localhost:8080/"
        },
        "id": "TJyCX20DqPqj",
        "outputId": "9642c3dd-a67b-46de-cf9d-6daffa563f39"
      },
      "source": [
        "dict_phone = {'홍길동':'01073940284','동구':'010734854','철수':'01073829594' }\n",
        "dict_phone"
      ],
      "execution_count": null,
      "outputs": [
        {
          "output_type": "execute_result",
          "data": {
            "text/plain": [
              "{'동구': '010734854', '철수': '01073829594', '홍길동': '01073940284'}"
            ]
          },
          "metadata": {
            "tags": []
          },
          "execution_count": 49
        }
      ]
    },
    {
      "cell_type": "markdown",
      "metadata": {
        "id": "AZkWIDlFtHJz"
      },
      "source": [
        "## 딕셔너리 요소 추가/삭제"
      ]
    },
    {
      "cell_type": "markdown",
      "metadata": {
        "id": "ulZWUaSW1Dku"
      },
      "source": [
        "딕셔너리명[key] = value (요소 추가하기)"
      ]
    },
    {
      "cell_type": "code",
      "metadata": {
        "colab": {
          "base_uri": "https://localhost:8080/"
        },
        "id": "0lFkYVXL1GoN",
        "outputId": "2b816e86-913c-4afd-bf8e-303ed4069b09"
      },
      "source": [
        "#요소 추가\n",
        "dict_scores['홍길동'] = 90\n",
        "dict_scores ['동구'] = 95\n",
        "dict_scores['철수'] =100\n",
        "dict_scores"
      ],
      "execution_count": null,
      "outputs": [
        {
          "output_type": "execute_result",
          "data": {
            "text/plain": [
              "{'동구': 95, '철수': 100, '홍길동': 90}"
            ]
          },
          "metadata": {
            "tags": []
          },
          "execution_count": 87
        }
      ]
    },
    {
      "cell_type": "markdown",
      "metadata": {
        "id": "2ZeBvgdz1U7T"
      },
      "source": [
        "del 딕셔너리명[key] (요소 삭제하기)"
      ]
    },
    {
      "cell_type": "code",
      "metadata": {
        "colab": {
          "base_uri": "https://localhost:8080/"
        },
        "id": "AFR5ZgbJ1cQK",
        "outputId": "e8dabe27-be4f-4d87-d2a5-ed724855ba64"
      },
      "source": [
        "#요소 삭제하기\n",
        "dict_scores['홍길동'] = 90\n",
        "dict_scores ['동구'] = 95\n",
        "dict_scores['철수'] =100\n",
        "del dict_scores['홍길동']\n",
        "dict_scores"
      ],
      "execution_count": null,
      "outputs": [
        {
          "output_type": "execute_result",
          "data": {
            "text/plain": [
              "{'동구': 95, '철수': 100}"
            ]
          },
          "metadata": {
            "tags": []
          },
          "execution_count": 88
        }
      ]
    },
    {
      "cell_type": "markdown",
      "metadata": {
        "id": "FIvBWucN0Ux5"
      },
      "source": [
        "딕셔너리명(key)"
      ]
    },
    {
      "cell_type": "code",
      "metadata": {
        "colab": {
          "base_uri": "https://localhost:8080/"
        },
        "id": "SkQsnMFQ0YGx",
        "outputId": "cf161ed1-d068-45da-9480-84952a1ba7cf"
      },
      "source": [
        "#key로 추출\n",
        "dict_scores = {'홍길동':90,'동구':90,'철수':100}\n",
        "dict_scores['철수']"
      ],
      "execution_count": null,
      "outputs": [
        {
          "output_type": "execute_result",
          "data": {
            "text/plain": [
              "100"
            ]
          },
          "metadata": {
            "tags": []
          },
          "execution_count": 85
        }
      ]
    },
    {
      "cell_type": "code",
      "metadata": {
        "colab": {
          "base_uri": "https://localhost:8080/",
          "height": 213
        },
        "id": "hSV20Eqn0pxS",
        "outputId": "bcb9c430-0687-4bdb-e947-4ed9cf56562e"
      },
      "source": [
        "#존재하지 않는 key로 추출하면 Error!!!\n",
        "dict_scores = {'홍길동':90,'동구':90,'철수':100}\n",
        "dict_scores['송중기']"
      ],
      "execution_count": null,
      "outputs": [
        {
          "output_type": "error",
          "ename": "KeyError",
          "evalue": "ignored",
          "traceback": [
            "\u001b[0;31m---------------------------------------------------------------------------\u001b[0m",
            "\u001b[0;31mKeyError\u001b[0m                                  Traceback (most recent call last)",
            "\u001b[0;32m<ipython-input-86-4e65205058b7>\u001b[0m in \u001b[0;36m<module>\u001b[0;34m()\u001b[0m\n\u001b[1;32m      1\u001b[0m \u001b[0;31m#존재하지 않는 key로 추출하면 Error!!!\u001b[0m\u001b[0;34m\u001b[0m\u001b[0;34m\u001b[0m\u001b[0;34m\u001b[0m\u001b[0m\n\u001b[1;32m      2\u001b[0m \u001b[0mdict_scores\u001b[0m \u001b[0;34m=\u001b[0m \u001b[0;34m{\u001b[0m\u001b[0;34m'홍길동'\u001b[0m\u001b[0;34m:\u001b[0m\u001b[0;36m90\u001b[0m\u001b[0;34m,\u001b[0m\u001b[0;34m'동구'\u001b[0m\u001b[0;34m:\u001b[0m\u001b[0;36m90\u001b[0m\u001b[0;34m,\u001b[0m\u001b[0;34m'철수'\u001b[0m\u001b[0;34m:\u001b[0m\u001b[0;36m100\u001b[0m\u001b[0;34m}\u001b[0m\u001b[0;34m\u001b[0m\u001b[0;34m\u001b[0m\u001b[0m\n\u001b[0;32m----> 3\u001b[0;31m \u001b[0mdict_scores\u001b[0m\u001b[0;34m[\u001b[0m\u001b[0;34m'송중기'\u001b[0m\u001b[0;34m]\u001b[0m\u001b[0;34m\u001b[0m\u001b[0;34m\u001b[0m\u001b[0m\n\u001b[0m",
            "\u001b[0;31mKeyError\u001b[0m: '송중기'"
          ]
        }
      ]
    },
    {
      "cell_type": "markdown",
      "metadata": {
        "id": "V1UioE2ksWfa"
      },
      "source": [
        "딕셔너리명.get(key)"
      ]
    },
    {
      "cell_type": "code",
      "metadata": {
        "colab": {
          "base_uri": "https://localhost:8080/"
        },
        "id": "QUNfNwQyrLDZ",
        "outputId": "bd043d56-cceb-4873-f5e5-1fe8c2ecf53a"
      },
      "source": [
        "#동구 점수 추출\n",
        "dict_scores = {'홍길동':90,'동구':90,'철수':100}\n",
        "dict_scores.get ('철수')"
      ],
      "execution_count": null,
      "outputs": [
        {
          "output_type": "execute_result",
          "data": {
            "text/plain": [
              "100"
            ]
          },
          "metadata": {
            "tags": []
          },
          "execution_count": 57
        }
      ]
    },
    {
      "cell_type": "code",
      "metadata": {
        "colab": {
          "base_uri": "https://localhost:8080/"
        },
        "id": "zsQofEHMsR2k",
        "outputId": "28e7b3c1-e016-4af9-d6f4-6b0c8401861c"
      },
      "source": [
        "#철수 & 송중기 점수 추출\n",
        "dict_scores = {'홍길동':90,'동구':90,'철수':100}\n",
        "print(dict_scores.get ('철수'))\n",
        "print(dict_scores.get('송중기','없음'))"
      ],
      "execution_count": null,
      "outputs": [
        {
          "output_type": "stream",
          "text": [
            "100\n",
            "없음\n"
          ],
          "name": "stdout"
        }
      ]
    },
    {
      "cell_type": "markdown",
      "metadata": {
        "id": "w3xjRXd4tSS9"
      },
      "source": [
        "딕셔너리명.pop(key)"
      ]
    },
    {
      "cell_type": "code",
      "metadata": {
        "colab": {
          "base_uri": "https://localhost:8080/"
        },
        "id": "CZtmo31Us3aH",
        "outputId": "eb9801fb-7678-4da4-8cde-bf4b4260bf4d"
      },
      "source": [
        "#요소 추출하고 삭제\n",
        "dict_scores = {'홍길동':90,'동구':90,'철수':100}\n",
        "score = dict_scores.pop('철수')\n",
        "print(score)\n",
        "print(dict_scores)"
      ],
      "execution_count": null,
      "outputs": [
        {
          "output_type": "stream",
          "text": [
            "100\n",
            "{'홍길동': 90, '동구': 90}\n"
          ],
          "name": "stdout"
        }
      ]
    },
    {
      "cell_type": "markdown",
      "metadata": {
        "id": "Ar_5Mp8Xtl4j"
      },
      "source": [
        "딕셔너리명.clear()"
      ]
    },
    {
      "cell_type": "code",
      "metadata": {
        "colab": {
          "base_uri": "https://localhost:8080/"
        },
        "id": "e8jmusk-tkJX",
        "outputId": "541bad8f-d46d-442f-8224-21c3be7e4f82"
      },
      "source": [
        "#모든 요소 삭제\n",
        "dict_scores['홍길동'] = 90\n",
        "dict_scores ['동구'] = 90\n",
        "dict_scores['철수'] =100\n",
        "dict_scores.clear()\n",
        "dict_scores"
      ],
      "execution_count": null,
      "outputs": [
        {
          "output_type": "execute_result",
          "data": {
            "text/plain": [
              "{}"
            ]
          },
          "metadata": {
            "tags": []
          },
          "execution_count": 81
        }
      ]
    },
    {
      "cell_type": "markdown",
      "metadata": {
        "id": "rkja-gDou0YD"
      },
      "source": [
        "딕셔너리명[key] = value"
      ]
    },
    {
      "cell_type": "code",
      "metadata": {
        "colab": {
          "base_uri": "https://localhost:8080/"
        },
        "id": "k0xJ4sDDtthZ",
        "outputId": "6aff4c84-7b2c-45ff-8c05-aec1c9accfff"
      },
      "source": [
        "#요소 수정\n",
        "dict_scores = {'홍길동':90,'동구':95,'철수':100}\n",
        "dict_scores['철수'] = 85\n",
        "dict_scores"
      ],
      "execution_count": null,
      "outputs": [
        {
          "output_type": "execute_result",
          "data": {
            "text/plain": [
              "{'동구': 95, '철수': 85, '홍길동': 90}"
            ]
          },
          "metadata": {
            "tags": []
          },
          "execution_count": 83
        }
      ]
    },
    {
      "cell_type": "markdown",
      "metadata": {
        "id": "RLl3oiFLvPQI"
      },
      "source": [
        "key in 딕셔너리명"
      ]
    },
    {
      "cell_type": "code",
      "metadata": {
        "colab": {
          "base_uri": "https://localhost:8080/"
        },
        "id": "hrl3UfPYvtAl",
        "outputId": "974dd3e9-a31a-480d-e6d1-cf2e0df3f1db"
      },
      "source": [
        "#key가 존재하는지 확인\n",
        "dict_scores = {'홍길동':90,'동구':90,'철수':100}\n",
        "'송중기' in dict_scores"
      ],
      "execution_count": null,
      "outputs": [
        {
          "output_type": "execute_result",
          "data": {
            "text/plain": [
              "False"
            ]
          },
          "metadata": {
            "tags": []
          },
          "execution_count": 66
        }
      ]
    },
    {
      "cell_type": "markdown",
      "metadata": {
        "id": "BZczLBT0vYqp"
      },
      "source": [
        "딕셔너리명.keys()"
      ]
    },
    {
      "cell_type": "code",
      "metadata": {
        "colab": {
          "base_uri": "https://localhost:8080/"
        },
        "id": "QLLCGvc_vb-w",
        "outputId": "e5a728e5-3e3b-407f-dcb5-d8e29b9c3229"
      },
      "source": [
        "#모든 key만 얻기\n",
        "dict_scores = {'홍길동':90,'동구':90,'철수':100}\n",
        "print(dict_scores.keys())\n",
        "print(list(dict_scores.keys()))"
      ],
      "execution_count": null,
      "outputs": [
        {
          "output_type": "stream",
          "text": [
            "dict_keys(['홍길동', '동구', '철수'])\n",
            "['홍길동', '동구', '철수']\n"
          ],
          "name": "stdout"
        }
      ]
    },
    {
      "cell_type": "markdown",
      "metadata": {
        "id": "QSIiAQIlv5Vq"
      },
      "source": [
        "딕셔너리명.values()"
      ]
    },
    {
      "cell_type": "code",
      "metadata": {
        "colab": {
          "base_uri": "https://localhost:8080/"
        },
        "id": "pkJyDZ7qv8qr",
        "outputId": "90fd429d-041d-4cc2-fd34-917e897b5a34"
      },
      "source": [
        "#모든 value만 얻기\n",
        "dict_scores = {'홍길동':90,'동구':90,'철수':100}\n",
        "print(dict_scores.values())\n",
        "print(list(dict_scores.values()))"
      ],
      "execution_count": null,
      "outputs": [
        {
          "output_type": "stream",
          "text": [
            "dict_values([90, 90, 100])\n",
            "[90, 90, 100]\n"
          ],
          "name": "stdout"
        }
      ]
    },
    {
      "cell_type": "markdown",
      "metadata": {
        "id": "Bitm9tj-wWGY"
      },
      "source": [
        "딕셔너리명.items()"
      ]
    },
    {
      "cell_type": "code",
      "metadata": {
        "colab": {
          "base_uri": "https://localhost:8080/"
        },
        "id": "HbseiAKKwGcS",
        "outputId": "9f60b1ea-5b0a-4ab3-80a4-30a6b8f47a13"
      },
      "source": [
        "#모든 key,value만 얻기\n",
        "dict_scores = {'홍길동':90,'동구':90,'철수':100}\n",
        "print(dict_scores.items())\n",
        "print(list(dict_scores.items()))"
      ],
      "execution_count": null,
      "outputs": [
        {
          "output_type": "stream",
          "text": [
            "dict_items([('홍길동', 90), ('동구', 90), ('철수', 100)])\n",
            "[('홍길동', 90), ('동구', 90), ('철수', 100)]\n"
          ],
          "name": "stdout"
        }
      ]
    },
    {
      "cell_type": "markdown",
      "metadata": {
        "id": "rH7PAXjtwtES"
      },
      "source": [
        "##데이터 모두 출력하기"
      ]
    },
    {
      "cell_type": "code",
      "metadata": {
        "colab": {
          "base_uri": "https://localhost:8080/"
        },
        "id": "fBLL57howfQ5",
        "outputId": "7f84142f-2141-4bdf-b2ef-2e8c95f1a3cb"
      },
      "source": [
        "#데이터 모두 출력하기\n",
        "dict_scores = {'홍길동':90,'동구':95,'철수':100}\n",
        "for key in dict_scores.keys():\n",
        "    print(key,dict_scores[key])"
      ],
      "execution_count": null,
      "outputs": [
        {
          "output_type": "stream",
          "text": [
            "홍길동 90\n",
            "동구 95\n",
            "철수 100\n"
          ],
          "name": "stdout"
        }
      ]
    },
    {
      "cell_type": "code",
      "metadata": {
        "colab": {
          "base_uri": "https://localhost:8080/"
        },
        "id": "ir_ugllWxDkd",
        "outputId": "3e6ce95b-2a20-40b0-c156-e8f723e493fd"
      },
      "source": [
        "#데이터 모두 출력하기\n",
        "dict_scores = {'홍길동':90,'동구':95,'철수':100}\n",
        "for key,value in dict_scores.items():\n",
        "    print(key,value)"
      ],
      "execution_count": null,
      "outputs": [
        {
          "output_type": "stream",
          "text": [
            "홍길동 90\n",
            "동구 95\n",
            "철수 100\n"
          ],
          "name": "stdout"
        }
      ]
    },
    {
      "cell_type": "markdown",
      "metadata": {
        "id": "Cbdtq9TBxhmE"
      },
      "source": [
        "##데이터 정렬하여 데이터 모두 출력하기\n",
        "\n",
        "key를 정렬하여 정렬된 key 순서대로 출력한다\n"
      ]
    },
    {
      "cell_type": "code",
      "metadata": {
        "colab": {
          "base_uri": "https://localhost:8080/"
        },
        "id": "ZGQdud2YxzXd",
        "outputId": "9719997f-06bb-4c3b-b045-8be24fce94b0"
      },
      "source": [
        "dict_scores = {'홍길동':90,'동구':95,'철수':100}\n",
        "\n",
        "#딕셔너리의 key를 정렬하여 리스트로 받음\n",
        "sorted_keys = sorted(dict_scores.keys())\n",
        "print(sorted_keys)\n",
        "\n",
        "#정렬된 키 리스트 순서로 반복\n",
        "for key in sorted_keys:\n",
        "    print(key,dict_scores[key])"
      ],
      "execution_count": null,
      "outputs": [
        {
          "output_type": "stream",
          "text": [
            "['동구', '철수', '홍길동']\n",
            "동구 95\n",
            "철수 100\n",
            "홍길동 90\n"
          ],
          "name": "stdout"
        }
      ]
    },
    {
      "cell_type": "code",
      "metadata": {
        "colab": {
          "base_uri": "https://localhost:8080/"
        },
        "id": "5fLQRc07yKFX",
        "outputId": "dd88c1ba-3eb4-4ab7-e68f-57aa5113fd5d"
      },
      "source": [
        "dict_scores = {\n",
        "    '홍길동':90,\n",
        "    '동구':95,\n",
        "    '철수':100\n",
        "    }\n",
        "\n",
        "#딕셔너리의 key를 정렬하여 튜플(키, 값)으로 받음\n",
        "sorted_items = sorted(dict_scores.items())\n",
        "print(sorted_items)\n",
        "\n",
        "#정렬된 키 리스트 순서로 반복\n",
        "for key,value in sorted_items:\n",
        "    print(key,value)"
      ],
      "execution_count": null,
      "outputs": [
        {
          "output_type": "stream",
          "text": [
            "[('동구', 95), ('철수', 100), ('홍길동', 90)]\n",
            "동구 95\n",
            "철수 100\n",
            "홍길동 90\n"
          ],
          "name": "stdout"
        }
      ]
    },
    {
      "cell_type": "markdown",
      "metadata": {
        "id": "t7mln5Jg2kVJ"
      },
      "source": [
        "len(딕셔너리명)"
      ]
    },
    {
      "cell_type": "code",
      "metadata": {
        "colab": {
          "base_uri": "https://localhost:8080/"
        },
        "id": "PZ5A1kJeyo0x",
        "outputId": "f1e5444f-833d-4dc1-8d02-dad26c3b2f77"
      },
      "source": [
        "#요소 개수 세기\n",
        "dict_scores = {'홍길동':90,'동구':90,'철수':100}\n",
        "len(dict_scores)"
      ],
      "execution_count": null,
      "outputs": [
        {
          "output_type": "execute_result",
          "data": {
            "text/plain": [
              "3"
            ]
          },
          "metadata": {
            "tags": []
          },
          "execution_count": 95
        }
      ]
    },
    {
      "cell_type": "markdown",
      "metadata": {
        "id": "oYDumm_T3owN"
      },
      "source": [
        "##예제"
      ]
    },
    {
      "cell_type": "code",
      "metadata": {
        "colab": {
          "base_uri": "https://localhost:8080/"
        },
        "id": "64Ug98ru4WLm",
        "outputId": "a2b72952-e453-4559-fdc8-83f6e6c6a605"
      },
      "source": [
        "#예제1:마일리지 관리\n",
        "#표에 나타난 아이디와 마일리지 포인트를 딕셔너리에 저장 후, 출력하시오.\n",
        "mile_dic = {'kim':12000, 'lee':11000, 'han':3000, 'hong':5000, 'hwang':18000}\n",
        "mile_dic ['han'] = 5000\n",
        "print(mile_dic)\n",
        "mile_dic['jang'] = 7000\n",
        "print(mile_dic)\n",
        "max_val = max(mile_dic.values())\n",
        "for key, value in dic.items():\n",
        "    if value == max_val:\n",
        "        print(key, value)"
      ],
      "execution_count": null,
      "outputs": [
        {
          "output_type": "stream",
          "text": [
            "{'kim': 12000, 'lee': 11000, 'han': 5000, 'hong': 5000, 'hwang': 18000, 'jang': 7000}\n",
            "hwang 18000\n"
          ],
          "name": "stdout"
        }
      ]
    },
    {
      "cell_type": "code",
      "metadata": {
        "colab": {
          "base_uri": "https://localhost:8080/"
        },
        "id": "5EiFu97L4Zxm",
        "outputId": "5ecc2f6c-7c49-41db-d573-5e222228eab4"
      },
      "source": [
        "#slack에 올라온 방식\n",
        "mile={'Kim':12000,'Lee':11000,'Han':3000,'Hong':5000,'Nam':18000}\n",
        "for key in mile.keys():\n",
        "    print(key,mile[key])\n",
        "\n",
        "mile['Han']=5000\n",
        "mile['Jang']=7000\n",
        "print(mile)\n",
        "\n",
        "print(max(list(mile.values())))"
      ],
      "execution_count": null,
      "outputs": [
        {
          "output_type": "stream",
          "text": [
            "Kim 12000\n",
            "Lee 11000\n",
            "Han 3000\n",
            "Hong 5000\n",
            "Nam 18000\n",
            "{'Kim': 12000, 'Lee': 11000, 'Han': 5000, 'Hong': 5000, 'Nam': 18000, 'Jang': 7000}\n",
            "18000\n"
          ],
          "name": "stdout"
        }
      ]
    },
    {
      "cell_type": "code",
      "metadata": {
        "colab": {
          "base_uri": "https://localhost:8080/"
        },
        "id": "T4FaIxZA4aQO",
        "outputId": "e7a4bff9-832d-4da9-d481-8423f8ff729d"
      },
      "source": [
        "#예제2: 단어장 만들기 \n",
        "#1단계\n",
        "#엔터를 입력할 때까지 영어단어-뜻을 입력받아 단어장을 만든다.\n",
        "dict_voca = {}\n",
        "while True:                 #while문을 사용하여 반복\n",
        "    eng = input('영어:')\n",
        "    if eng == '':\n",
        "        break\n",
        "    kor = input('한국어:')\n",
        "    dict_voca[eng]=kor\n",
        "print(dict_voca)\n",
        "\n",
        "#2단계\n",
        "#리스트에 입력된 순서대로 테스트를 실시하고, 맞은 개수를 계산한다.\n",
        "score = 0\n",
        "for english in dict_voca.keys():\n",
        "    korean = input(english+':')\n",
        "    if korean == dict_voca[english]:\n",
        "        score+=1\n",
        "print(f'맞은개수/전체단어수:{score}/{len(dict_voca)}')"
      ],
      "execution_count": null,
      "outputs": [
        {
          "output_type": "stream",
          "text": [
            "영어:durian\n",
            "한국어:두리안\n",
            "영어:mango\n",
            "한국어:망고\n",
            "영어:pineapple\n",
            "한국어:파인애플\n",
            "영어:\n",
            "{'durian': '두리안', 'mango': '망고', 'pineapple': '파인애플'}\n",
            "durian:두리안\n",
            "mango:몽고\n",
            "pineapple:애플\n",
            "맞은개수/전체단어수:1/3\n"
          ],
          "name": "stdout"
        }
      ]
    }
  ]
}