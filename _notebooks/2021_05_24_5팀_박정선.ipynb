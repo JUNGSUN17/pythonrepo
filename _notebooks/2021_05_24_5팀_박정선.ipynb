{
  "nbformat": 4,
  "nbformat_minor": 0,
  "metadata": {
    "colab": {
      "name": "2021-05-24-5팀-박정선.ipynb",
      "provenance": [],
      "collapsed_sections": [],
      "include_colab_link": true
    },
    "kernelspec": {
      "display_name": "Python 3",
      "name": "python3"
    },
    "language_info": {
      "name": "python"
    }
  },
  "cells": [
    {
      "cell_type": "markdown",
      "metadata": {
        "id": "view-in-github",
        "colab_type": "text"
      },
      "source": [
        "<a href=\"https://colab.research.google.com/github/JUNGSUN17/pythonrepo/blob/master/_notebooks/2021_05_24_5%ED%8C%80_%EB%B0%95%EC%A0%95%EC%84%A0.ipynb\" target=\"_parent\"><img src=\"https://colab.research.google.com/assets/colab-badge.svg\" alt=\"Open In Colab\"/></a>"
      ]
    },
    {
      "cell_type": "markdown",
      "metadata": {
        "id": "8yOtCgdajs-v"
      },
      "source": [
        "# 파이썬 기초"
      ]
    },
    {
      "cell_type": "code",
      "metadata": {
        "colab": {
          "base_uri": "https://localhost:8080/",
          "height": 175
        },
        "id": "7HslMn7Xb5u_",
        "outputId": "98efc6b5-5fab-4330-ee4e-4dcb77b0ca2b"
      },
      "source": [
        "#에러\n",
        "안녕하세요"
      ],
      "execution_count": null,
      "outputs": [
        {
          "output_type": "error",
          "ename": "NameError",
          "evalue": "ignored",
          "traceback": [
            "\u001b[0;31m---------------------------------------------------------------------------\u001b[0m",
            "\u001b[0;31mNameError\u001b[0m                                 Traceback (most recent call last)",
            "\u001b[0;32m<ipython-input-1-041a565a82b3>\u001b[0m in \u001b[0;36m<module>\u001b[0;34m()\u001b[0m\n\u001b[0;32m----> 1\u001b[0;31m \u001b[0m안녕하세요\u001b[0m\u001b[0;34m\u001b[0m\u001b[0;34m\u001b[0m\u001b[0m\n\u001b[0m",
            "\u001b[0;31mNameError\u001b[0m: name '안녕하세요' is not defined"
          ]
        }
      ]
    },
    {
      "cell_type": "code",
      "metadata": {
        "colab": {
          "base_uri": "https://localhost:8080/"
        },
        "id": "k5m8fMZKcJlo",
        "outputId": "5f1bf11b-c27e-4f84-f7ce-ef3dc9ae3e4a"
      },
      "source": [
        "print(\"안녕\")"
      ],
      "execution_count": null,
      "outputs": [
        {
          "output_type": "stream",
          "text": [
            "안녕\n"
          ],
          "name": "stdout"
        }
      ]
    },
    {
      "cell_type": "code",
      "metadata": {
        "colab": {
          "base_uri": "https://localhost:8080/"
        },
        "id": "g73Qu9tDByfa",
        "outputId": "6d32b156-dcb1-4053-a610-b0a694739b3c"
      },
      "source": [
        "#객체의 자료형 확인 type()\n",
        "a=5\n",
        "b= 3.14\n",
        "c='3.14'\n",
        "d=\"3.14\"\n",
        "e = -3.14\n",
        "f='abcd'+'가나다라'\n",
        "g='123'*3\n",
        "print(type(a),type(b),type(c),type(d),type(e),type(f),type(g))"
      ],
      "execution_count": null,
      "outputs": [
        {
          "output_type": "stream",
          "text": [
            "<class 'int'> <class 'float'> <class 'str'> <class 'str'> <class 'float'> <class 'str'> <class 'str'>\n"
          ],
          "name": "stdout"
        }
      ]
    },
    {
      "cell_type": "markdown",
      "metadata": {
        "id": "ihIKC2rKj4Sj"
      },
      "source": [
        "# 파이썬 변수명 작성법\n",
        "\n",
        "1) 첫 글자 = 영문 혹은 _ (언더바) \n",
        "\n",
        "2) 영문자, 숫자, _(언더바)만으로 구성\n",
        "\n",
        "3) 대소문자를 구별해서 사용\n",
        "\n",
        "4) 예약어는 변수명으로 사용 불가"
      ]
    },
    {
      "cell_type": "code",
      "metadata": {
        "colab": {
          "base_uri": "https://localhost:8080/",
          "height": 138
        },
        "id": "wHrZvoXLcdpJ",
        "outputId": "5a424acc-cbda-41cf-c7e5-26e1551a8ec1"
      },
      "source": [
        "# 변수명 에러 유형 (첫 글자는 영문 혹은 _ (언더바)여야 한다)\n",
        "1st = '첫번째'"
      ],
      "execution_count": null,
      "outputs": [
        {
          "output_type": "error",
          "ename": "SyntaxError",
          "evalue": "ignored",
          "traceback": [
            "\u001b[0;36m  File \u001b[0;32m\"<ipython-input-6-447ef88e7929>\"\u001b[0;36m, line \u001b[0;32m2\u001b[0m\n\u001b[0;31m    1st = '첫번째'\u001b[0m\n\u001b[0m      ^\u001b[0m\n\u001b[0;31mSyntaxError\u001b[0m\u001b[0;31m:\u001b[0m invalid syntax\n"
          ]
        }
      ]
    },
    {
      "cell_type": "code",
      "metadata": {
        "colab": {
          "base_uri": "https://localhost:8080/",
          "height": 138
        },
        "id": "hcNm6i2wcifG",
        "outputId": "e7c78a29-40e9-4001-f2a9-0d6f99015300"
      },
      "source": [
        "# 변수명 에러 유형 (변수명은 영문자, 숫자, _(언더바)만으로 구성된다)\n",
        "f**t = '첫번째'"
      ],
      "execution_count": null,
      "outputs": [
        {
          "output_type": "error",
          "ename": "SyntaxError",
          "evalue": "ignored",
          "traceback": [
            "\u001b[0;36m  File \u001b[0;32m\"<ipython-input-5-191f3b30443a>\"\u001b[0;36m, line \u001b[0;32m2\u001b[0m\n\u001b[0;31m    f**t = '첫번째'\u001b[0m\n\u001b[0m                ^\u001b[0m\n\u001b[0;31mSyntaxError\u001b[0m\u001b[0;31m:\u001b[0m can't assign to operator\n"
          ]
        }
      ]
    },
    {
      "cell_type": "code",
      "metadata": {
        "colab": {
          "base_uri": "https://localhost:8080/",
          "height": 138
        },
        "id": "Jq_9NrKAcq7e",
        "outputId": "1303901b-ed5e-4bc8-ddc7-0c222099431d"
      },
      "source": [
        "# 변수명 에러 유형 (언더바 외에 특수문자 사용 불가)\n",
        "f^st = '첫번째'"
      ],
      "execution_count": null,
      "outputs": [
        {
          "output_type": "error",
          "ename": "SyntaxError",
          "evalue": "ignored",
          "traceback": [
            "\u001b[0;36m  File \u001b[0;32m\"<ipython-input-7-432c288619dd>\"\u001b[0;36m, line \u001b[0;32m2\u001b[0m\n\u001b[0;31m    f^st = '첫번째'\u001b[0m\n\u001b[0m                ^\u001b[0m\n\u001b[0;31mSyntaxError\u001b[0m\u001b[0;31m:\u001b[0m can't assign to operator\n"
          ]
        }
      ]
    },
    {
      "cell_type": "code",
      "metadata": {
        "colab": {
          "base_uri": "https://localhost:8080/",
          "height": 213
        },
        "id": "Xs90SK8UcxGK",
        "outputId": "fb017da1-ad75-4949-d52d-6b97b1caacde"
      },
      "source": [
        "# 변수명 에러 유형 (대소문자 구분)\n",
        "Temp = 1000\n",
        "print(temp)"
      ],
      "execution_count": null,
      "outputs": [
        {
          "output_type": "error",
          "ename": "NameError",
          "evalue": "ignored",
          "traceback": [
            "\u001b[0;31m---------------------------------------------------------------------------\u001b[0m",
            "\u001b[0;31mNameError\u001b[0m                                 Traceback (most recent call last)",
            "\u001b[0;32m<ipython-input-8-443e264812be>\u001b[0m in \u001b[0;36m<module>\u001b[0;34m()\u001b[0m\n\u001b[1;32m      1\u001b[0m \u001b[0;31m# 변수명 에러 유형 (대소문자 구분)\u001b[0m\u001b[0;34m\u001b[0m\u001b[0;34m\u001b[0m\u001b[0;34m\u001b[0m\u001b[0m\n\u001b[1;32m      2\u001b[0m \u001b[0mTemp\u001b[0m \u001b[0;34m=\u001b[0m \u001b[0;36m1000\u001b[0m\u001b[0;34m\u001b[0m\u001b[0;34m\u001b[0m\u001b[0m\n\u001b[0;32m----> 3\u001b[0;31m \u001b[0mprint\u001b[0m\u001b[0;34m(\u001b[0m\u001b[0mtemp\u001b[0m\u001b[0;34m)\u001b[0m\u001b[0;34m\u001b[0m\u001b[0;34m\u001b[0m\u001b[0m\n\u001b[0m",
            "\u001b[0;31mNameError\u001b[0m: name 'temp' is not defined"
          ]
        }
      ]
    },
    {
      "cell_type": "code",
      "metadata": {
        "colab": {
          "base_uri": "https://localhost:8080/",
          "height": 213
        },
        "id": "bwwPtJ5uc00B",
        "outputId": "e809017e-16bb-4f22-c69c-b7e75b1c7213"
      },
      "source": [
        "# 변수명 에러 유형 (예약어 변수명으로 사용 금지)\n",
        "print = '출력합니다'\n",
        "print(print)"
      ],
      "execution_count": null,
      "outputs": [
        {
          "output_type": "error",
          "ename": "TypeError",
          "evalue": "ignored",
          "traceback": [
            "\u001b[0;31m---------------------------------------------------------------------------\u001b[0m",
            "\u001b[0;31mTypeError\u001b[0m                                 Traceback (most recent call last)",
            "\u001b[0;32m<ipython-input-9-25dae06f115c>\u001b[0m in \u001b[0;36m<module>\u001b[0;34m()\u001b[0m\n\u001b[1;32m      1\u001b[0m \u001b[0;31m# 변수명 에러 유형 (예약어 변수명으로 사용 금지)\u001b[0m\u001b[0;34m\u001b[0m\u001b[0;34m\u001b[0m\u001b[0;34m\u001b[0m\u001b[0m\n\u001b[1;32m      2\u001b[0m \u001b[0mprint\u001b[0m \u001b[0;34m=\u001b[0m \u001b[0;34m'출력합니다'\u001b[0m\u001b[0;34m\u001b[0m\u001b[0;34m\u001b[0m\u001b[0m\n\u001b[0;32m----> 3\u001b[0;31m \u001b[0mprint\u001b[0m\u001b[0;34m(\u001b[0m\u001b[0mprint\u001b[0m\u001b[0;34m)\u001b[0m\u001b[0;34m\u001b[0m\u001b[0;34m\u001b[0m\u001b[0m\n\u001b[0m",
            "\u001b[0;31mTypeError\u001b[0m: 'str' object is not callable"
          ]
        }
      ]
    },
    {
      "cell_type": "markdown",
      "metadata": {
        "id": "1XSpNNV0krZU"
      },
      "source": [
        "# 변수 사용\n",
        "\n",
        "\n",
        "*   변수는 변하는 수\n",
        "\n",
        "*   계산 결과, 입력값, 출력값에 사용\n",
        "\n"
      ]
    },
    {
      "cell_type": "code",
      "metadata": {
        "colab": {
          "base_uri": "https://localhost:8080/",
          "height": 91
        },
        "id": "o1LFfyHpPMFH",
        "outputId": "f8071627-c904-4b49-8d66-166ce634c4d8"
      },
      "source": [
        "# 파이썬으로 시작 연산 & 문자열 연산도 가능\n",
        "print(100+200)\n",
        "print(\"Hello World!\")\n",
        "print('안녕')\n",
        "'부에노스 디아스'"
      ],
      "execution_count": null,
      "outputs": [
        {
          "output_type": "stream",
          "text": [
            "300\n",
            "Hello World!\n",
            "안녕\n"
          ],
          "name": "stdout"
        },
        {
          "output_type": "execute_result",
          "data": {
            "application/vnd.google.colaboratory.intrinsic+json": {
              "type": "string"
            },
            "text/plain": [
              "'부에노스 디아스'"
            ]
          },
          "metadata": {
            "tags": []
          },
          "execution_count": 1
        }
      ]
    },
    {
      "cell_type": "code",
      "metadata": {
        "colab": {
          "base_uri": "https://localhost:8080/"
        },
        "id": "baseVxDUIhcd",
        "outputId": "bcee680c-f00e-4dbe-bea0-834a82c62bca"
      },
      "source": [
        "temp =100       #temp라는 변수를 만들고 temp공간에 100을 넣는다는 의미\n",
        "temp            #temp값을 확인하겠다는 의미. 코랩 외의 환경에서는 print(temp)"
      ],
      "execution_count": null,
      "outputs": [
        {
          "output_type": "execute_result",
          "data": {
            "text/plain": [
              "100"
            ]
          },
          "metadata": {
            "tags": []
          },
          "execution_count": 12
        }
      ]
    },
    {
      "cell_type": "code",
      "metadata": {
        "colab": {
          "base_uri": "https://localhost:8080/"
        },
        "id": "oTDHcRjgIkta",
        "outputId": "7980fee9-23e0-453d-d394-a724c981ae35"
      },
      "source": [
        "temp2 = 200\n",
        "print(temp2)"
      ],
      "execution_count": null,
      "outputs": [
        {
          "output_type": "stream",
          "text": [
            "200\n"
          ],
          "name": "stdout"
        }
      ]
    },
    {
      "cell_type": "code",
      "metadata": {
        "colab": {
          "base_uri": "https://localhost:8080/"
        },
        "id": "_XSKzV4aIobW",
        "outputId": "713d500d-1065-4902-fdb2-3e8e500dfb33"
      },
      "source": [
        "temp3 = temp+temp2  #temp3에 temp의 값과 temp2의 값을 더한 새로운 값\n",
        "temp3"
      ],
      "execution_count": null,
      "outputs": [
        {
          "output_type": "execute_result",
          "data": {
            "text/plain": [
              "300"
            ]
          },
          "metadata": {
            "tags": []
          },
          "execution_count": 26
        }
      ]
    },
    {
      "cell_type": "markdown",
      "metadata": {
        "id": "P-QyG93zmZHp"
      },
      "source": [
        "# 파이썬 타입 확인\n",
        "\n",
        "type() 함수를 사용해 변수의 타입을 확인할 수 있다.\n",
        "\n",
        "---\n",
        "\n",
        "**Types:**\n",
        "* 숫자형 (Number)\n",
        "* 문자열 (String)\n",
        "* 참, 거짓 (Boolean)\n",
        "* 리스트 (List)\n",
        "* 튜플 (Tuple)\n",
        "* 딕셔너리 (Dictionary)\n",
        "* 집합형 (Set)"
      ]
    },
    {
      "cell_type": "code",
      "metadata": {
        "colab": {
          "base_uri": "https://localhost:8080/"
        },
        "id": "qoIphoPwMbig",
        "outputId": "f933efd6-90f7-4422-91af-29cf52503dce"
      },
      "source": [
        "str4 = '100'\n",
        "type(str4)"
      ],
      "execution_count": null,
      "outputs": [
        {
          "output_type": "execute_result",
          "data": {
            "text/plain": [
              "str"
            ]
          },
          "metadata": {
            "tags": []
          },
          "execution_count": 18
        }
      ]
    },
    {
      "cell_type": "code",
      "metadata": {
        "colab": {
          "base_uri": "https://localhost:8080/"
        },
        "id": "rSVYrtz_MksG",
        "outputId": "36fbdb08-5735-4e9d-94c9-27be76dc3ccc"
      },
      "source": [
        "type(int)"
      ],
      "execution_count": null,
      "outputs": [
        {
          "output_type": "execute_result",
          "data": {
            "text/plain": [
              "type"
            ]
          },
          "metadata": {
            "tags": []
          },
          "execution_count": 19
        }
      ]
    },
    {
      "cell_type": "markdown",
      "metadata": {
        "id": "Gnll-0stl9t8"
      },
      "source": [
        "# 파이썬 리스트"
      ]
    },
    {
      "cell_type": "code",
      "metadata": {
        "colab": {
          "base_uri": "https://localhost:8080/"
        },
        "id": "L189rzxBOhWq",
        "outputId": "9dcff88f-a6a1-4591-fe3c-e68bc105cc71"
      },
      "source": [
        "name = 'BlockDMask' \n",
        "phone = '010 xxxx xxxx' #띄어쓰기 포함해서 13; 띄어쓰기 없으면 11\n",
        "address = 'korea'\n",
        "print(len(name))        #len() 함수는 매개변수로 들어온 문자열의 길이를 반환한다\n",
        "print(len(phone))\n",
        "print(len(address))"
      ],
      "execution_count": null,
      "outputs": [
        {
          "output_type": "stream",
          "text": [
            "10\n",
            "13\n",
            "5\n"
          ],
          "name": "stdout"
        }
      ]
    },
    {
      "cell_type": "code",
      "metadata": {
        "colab": {
          "base_uri": "https://localhost:8080/"
        },
        "id": "KBm5ht0GPVMj",
        "outputId": "7f720d8d-6632-4e42-9ab5-a44e245dcbd1"
      },
      "source": [
        "list1 = [1,2,3,4,5,6,7,8,9,10]\n",
        "print(list1)"
      ],
      "execution_count": null,
      "outputs": [
        {
          "output_type": "stream",
          "text": [
            "[1, 2, 3, 4, 5, 6, 7, 8, 9, 10]\n"
          ],
          "name": "stdout"
        }
      ]
    },
    {
      "cell_type": "code",
      "metadata": {
        "colab": {
          "base_uri": "https://localhost:8080/"
        },
        "id": "ETB9_h3mPfJY",
        "outputId": "a337c501-853a-4324-c564-e3dd2d4b0577"
      },
      "source": [
        "len(list1) #list1 배열 원소값을 요청\n",
        "#len은 문자열의 길이도 구할 수 있다"
      ],
      "execution_count": null,
      "outputs": [
        {
          "output_type": "execute_result",
          "data": {
            "text/plain": [
              "10"
            ]
          },
          "metadata": {
            "tags": []
          },
          "execution_count": 4
        }
      ]
    },
    {
      "cell_type": "code",
      "metadata": {
        "colab": {
          "background_save": true,
          "base_uri": "https://localhost:8080/"
        },
        "id": "_Hc_9-BfPk7e",
        "outputId": "6ebd0365-dc84-4d93-8b92-a61aa572fce0"
      },
      "source": [
        "list1 = [1,2,3,4,5,6,7,8,9,10]\n",
        "print(list1[0])  #list1배열의 첫번째 원소값을 출력\n",
        "print(list1[-1]) #list1배열의 마지막 원소값을 출력\n",
        "#list1배열의 마지막 원소값을 문자열과 함께 출력\n",
        "print('list1 배열의 마지막 원소값은' + str(list1[-1]) + '입니다')"
      ],
      "execution_count": null,
      "outputs": [
        {
          "output_type": "stream",
          "text": [
            "1\n",
            "10\n",
            "list1 배열의 마지막 원소값은10입니다\n"
          ],
          "name": "stdout"
        }
      ]
    },
    {
      "cell_type": "code",
      "metadata": {
        "colab": {
          "base_uri": "https://localhost:8080/"
        },
        "id": "111_NT3nvjZ-",
        "outputId": "d397b6ad-6400-4a14-97cc-e376f5267ad0"
      },
      "source": [
        "list1 = [1,2,3,4,5,6,7,8,9,10]\n",
        "print(list1[0])  \n",
        "print(list1[-1]) \n",
        "print('list1 배열의 마지막 원소값은',str(list1[-1]),'입니다')"
      ],
      "execution_count": null,
      "outputs": [
        {
          "output_type": "stream",
          "text": [
            "1\n",
            "10\n",
            "list1 배열의 마지막 원소값은 10 입니다\n"
          ],
          "name": "stdout"
        }
      ]
    },
    {
      "cell_type": "markdown",
      "metadata": {
        "id": "i4xtrO-WDPqy"
      },
      "source": [
        "#슬라이싱\n",
        "\n",
        "배열 원소의 일정 부분만 가져오기"
      ]
    },
    {
      "cell_type": "code",
      "metadata": {
        "colab": {
          "base_uri": "https://localhost:8080/"
        },
        "id": "n9HfmN9CQpjo",
        "outputId": "012ebd5f-57a0-4f85-8a77-c837c9d65374"
      },
      "source": [
        "print(list1[2:6])\n",
        "## list1배열의 인덱스 2번부터 6번 앞까지의 데이터 출력 요청"
      ],
      "execution_count": null,
      "outputs": [
        {
          "output_type": "stream",
          "text": [
            "[3, 4, 5, 6]\n"
          ],
          "name": "stdout"
        }
      ]
    },
    {
      "cell_type": "code",
      "metadata": {
        "colab": {
          "base_uri": "https://localhost:8080/"
        },
        "id": "TU3PmuloQx0O",
        "outputId": "ef5fc737-b393-4040-a23d-1f06ef598de2"
      },
      "source": [
        "print(list1[2:])\n",
        "#list1 배열의 인덱스 2번부터 마지막까지의 데이터 출력 요청"
      ],
      "execution_count": null,
      "outputs": [
        {
          "output_type": "stream",
          "text": [
            "[3, 4, 5, 6, 7, 8, 9, 10]\n"
          ],
          "name": "stdout"
        }
      ]
    },
    {
      "cell_type": "code",
      "metadata": {
        "colab": {
          "base_uri": "https://localhost:8080/"
        },
        "id": "xB8M5hmsRAK0",
        "outputId": "8789b46a-1b80-45c3-c276-a1467e6044d0"
      },
      "source": [
        "print(list1[:6])\n",
        "##list1배열의 인덱스 처음부터 인덱스 6번 앞까지의 데이터 출력 요청"
      ],
      "execution_count": null,
      "outputs": [
        {
          "output_type": "stream",
          "text": [
            "[1, 2, 3, 4, 5, 6]\n"
          ],
          "name": "stdout"
        }
      ]
    },
    {
      "cell_type": "code",
      "metadata": {
        "colab": {
          "base_uri": "https://localhost:8080/"
        },
        "id": "8iCqj88VREbV",
        "outputId": "2864a3b0-c7d1-491e-f186-77f8d93af96e"
      },
      "source": [
        "print(list1[:-1])\n",
        "#list1 배열의 인덱스 처음부터 마지막 앞까지의 데이터 출력 요청"
      ],
      "execution_count": null,
      "outputs": [
        {
          "output_type": "stream",
          "text": [
            "[1, 2, 3, 4, 5, 6, 7, 8, 9]\n"
          ],
          "name": "stdout"
        }
      ]
    },
    {
      "cell_type": "markdown",
      "metadata": {
        "id": "ebtsg6v9DedL"
      },
      "source": [
        "**range 사용해서 리스트 만들기**\n",
        "* 리스트 = list(range(횟수))\n",
        "* 리스트 = list(range(시작,끝))\n",
        "* 리스트 = list(range(시작,끝,증가폭))\n"
      ]
    },
    {
      "cell_type": "code",
      "metadata": {
        "colab": {
          "base_uri": "https://localhost:8080/"
        },
        "id": "HTCG-pmSRPlZ",
        "outputId": "da4c7bbe-c4cb-4874-e247-0e87e6555c63"
      },
      "source": [
        "list_rg1 = list(range(11))\n",
        "list_rg2 = list(range(5,12))\n",
        "list_rg3 = list(range(-4,5,2))\n",
        "list_rg4 = list(range(20,-1,-1))\n",
        "list_rg5 = list('hello world')\n",
        "print(\"list_rg1은\", list_rg1)\n",
        "print(\"list_rg2은\", list_rg2)\n",
        "print(\"list_rg3은\", list_rg3)\n",
        "print(\"list_rg4은\", list_rg4)\n",
        "print(\"list_rg5은\", list_rg5)"
      ],
      "execution_count": null,
      "outputs": [
        {
          "output_type": "stream",
          "text": [
            "list_rg1은 [0, 1, 2, 3, 4, 5, 6, 7, 8, 9, 10]\n",
            "list_rg2은 [5, 6, 7, 8, 9, 10, 11]\n",
            "list_rg3은 [-4, -2, 0, 2, 4]\n",
            "list_rg4은 [20, 19, 18, 17, 16, 15, 14, 13, 12, 11, 10, 9, 8, 7, 6, 5, 4, 3, 2, 1, 0]\n",
            "list_rg5은 ['h', 'e', 'l', 'l', 'o', ' ', 'w', 'o', 'r', 'l', 'd']\n"
          ],
          "name": "stdout"
        }
      ]
    },
    {
      "cell_type": "code",
      "metadata": {
        "colab": {
          "base_uri": "https://localhost:8080/"
        },
        "id": "FN9QGwhqfAmk",
        "outputId": "582fb044-c6e7-4209-86b5-3c16207971c5"
      },
      "source": [
        "print(list_rg1)"
      ],
      "execution_count": null,
      "outputs": [
        {
          "output_type": "stream",
          "text": [
            "[0, 1, 2, 3, 4, 5, 6, 7, 8, 9, 10]\n"
          ],
          "name": "stdout"
        }
      ]
    },
    {
      "cell_type": "code",
      "metadata": {
        "colab": {
          "base_uri": "https://localhost:8080/"
        },
        "id": "wlnAh_ysfTJl",
        "outputId": "8be44cc8-2c21-473c-e595-ce06c0c7e461"
      },
      "source": [
        "list_rg5 = list('hello world')\n",
        "list_rg5[0] = 'H' ##인덱스 0 (h) 대문자로 수정\n",
        "print(\"list_rg5은\", list_rg5)"
      ],
      "execution_count": null,
      "outputs": [
        {
          "output_type": "stream",
          "text": [
            "list_rg5은 ['H', 'e', 'l', 'l', 'o', ' ', 'w', 'o', 'r', 'l', 'd']\n"
          ],
          "name": "stdout"
        }
      ]
    },
    {
      "cell_type": "code",
      "metadata": {
        "colab": {
          "base_uri": "https://localhost:8080/"
        },
        "id": "SzrSYNwuSqEA",
        "outputId": "b493e04d-c63d-4ac3-f95e-a6ba43dc3280"
      },
      "source": [
        "list_rg5 = list('hello world')\n",
        "list_rg5[0] = 'H'\n",
        "del list_rg5[5]\n",
        "print(\"list_rg5의 8번째 요소 대문자로 수정\", list_rg5)\n",
        "print(\"list_rg5의 5번째 요소 삭제\", list_rg5)"
      ],
      "execution_count": null,
      "outputs": [
        {
          "output_type": "stream",
          "text": [
            "list_rg5의 8번째 요소 대문자로 수정 ['H', 'e', 'l', 'l', 'o', 'w', 'o', 'r', 'l', 'd']\n",
            "list_rg5의 5번째 요소 삭제 ['H', 'e', 'l', 'l', 'o', 'w', 'o', 'r', 'l', 'd']\n"
          ],
          "name": "stdout"
        }
      ]
    },
    {
      "cell_type": "code",
      "metadata": {
        "colab": {
          "base_uri": "https://localhost:8080/"
        },
        "id": "EsHIz93KTEZd",
        "outputId": "2c36d030-7e79-4e6a-a1f1-37bd721fd1b0"
      },
      "source": [
        "del list_rg5[5]\n",
        "print(\"list_rg5의 5번째 요소 삭제\", list_rg5)"
      ],
      "execution_count": null,
      "outputs": [
        {
          "output_type": "stream",
          "text": [
            "list_rg5의 5번째 요소 삭제 ['H', 'e', 'l', 'l', 'o', 'w', 'o', 'r', 'l', 'd']\n"
          ],
          "name": "stdout"
        }
      ]
    },
    {
      "cell_type": "markdown",
      "metadata": {
        "id": "gHzasNczDt8q"
      },
      "source": [
        "# 파이썬 반복문\n",
        "\n",
        "**for문 기본 형식**\n"
      ]
    },
    {
      "cell_type": "code",
      "metadata": {
        "colab": {
          "base_uri": "https://localhost:8080/"
        },
        "id": "_9mmTWLcUWAn",
        "outputId": "9431cad2-c256-4219-91a4-c76c91ce4f43"
      },
      "source": [
        "for x in range(0,3,1): ##(시작값,끝값+1,증가값)\n",
        "    print('안녕하세요 for문을 공부중 입니다')"
      ],
      "execution_count": null,
      "outputs": [
        {
          "output_type": "stream",
          "text": [
            "안녕하세요 for문을 공부중 입니다\n",
            "안녕하세요 for문을 공부중 입니다\n",
            "안녕하세요 for문을 공부중 입니다\n"
          ],
          "name": "stdout"
        }
      ]
    },
    {
      "cell_type": "code",
      "metadata": {
        "colab": {
          "base_uri": "https://localhost:8080/"
        },
        "id": "9Yanb80VUyXD",
        "outputId": "5b117dc9-18cc-40d1-e1a4-36a6253b3976"
      },
      "source": [
        "for x in range(5):\n",
        "    print(x) ## 실수했던 곳! tap 무조건 누르기"
      ],
      "execution_count": null,
      "outputs": [
        {
          "output_type": "stream",
          "text": [
            "0\n",
            "1\n",
            "2\n",
            "3\n",
            "4\n"
          ],
          "name": "stdout"
        }
      ]
    },
    {
      "cell_type": "code",
      "metadata": {
        "colab": {
          "base_uri": "https://localhost:8080/"
        },
        "id": "IU_9EeyLoA5P",
        "outputId": "e804891e-ad12-49b6-a7c1-148813110155"
      },
      "source": [
        "for x in range(2,4):\n",
        "    print(x)"
      ],
      "execution_count": null,
      "outputs": [
        {
          "output_type": "stream",
          "text": [
            "2\n",
            "3\n"
          ],
          "name": "stdout"
        }
      ]
    },
    {
      "cell_type": "code",
      "metadata": {
        "colab": {
          "base_uri": "https://localhost:8080/"
        },
        "id": "EBxKSkpvoKk6",
        "outputId": "da16a946-fd74-40f3-f314-01f0ee369814"
      },
      "source": [
        "for x in range(0,10):\n",
        "    print(x)"
      ],
      "execution_count": null,
      "outputs": [
        {
          "output_type": "stream",
          "text": [
            "0\n",
            "1\n",
            "2\n",
            "3\n",
            "4\n",
            "5\n",
            "6\n",
            "7\n",
            "8\n",
            "9\n"
          ],
          "name": "stdout"
        }
      ]
    },
    {
      "cell_type": "markdown",
      "metadata": {
        "id": "p1jLVEnWEJ01"
      },
      "source": [
        "# 예제"
      ]
    },
    {
      "cell_type": "markdown",
      "metadata": {
        "id": "x9qyGZcOEguL"
      },
      "source": [
        "**Example: 합계구하기**\n",
        "\n",
        "변수는 3개를 사용합니다 (합계 = 0, 범위 시작값 =1, 끝값 = 11).\n",
        "\n",
        "시작값에서 끝값-1까지 인덱스 값을 바꾸면서 반복합니다.\n",
        "\n",
        "합계값에 인덱스 값을 더합니다.\n",
        "\n",
        "반복이 끝나면 ‘-’ 값을 50번 출력합니다.\n",
        "\n",
        "합계와 인덱스 값을 출력합니다.\n"
      ]
    },
    {
      "cell_type": "code",
      "metadata": {
        "colab": {
          "base_uri": "https://localhost:8080/"
        },
        "id": "hE0gs7x7pBHh",
        "outputId": "11499c37-a2a8-420f-f4e4-74fe16b9b29a"
      },
      "source": [
        "sum = 0 ## 합계\n",
        "start = 1 ## 시작값\n",
        "final = 11 ## 끝값\n",
        "for x in range (start, final): ## 실수!!! 콜론 붙이기\n",
        "    sum+=x ##합계값에 인덱스값을 더합니다 (sum = sum + x)\n",
        "print (\"x:\",x,\"sum:\",sum) ## 합계와 인덱스 값을 출력합니다\n",
        "print('-'*50) ## 반복이 끝나면 '-'값을 50번 출력합니다\n",
        "print(start, '부터', final-1, '까지 더한 총합은', sum,'입니다') ##final-1인 이유는 '시작값에서 끝값-1까지 인덱스 값을 바꾸면서 반복합니다' 라고 명시되어 있기 떄문"
      ],
      "execution_count": null,
      "outputs": [
        {
          "output_type": "stream",
          "text": [
            "x: 10 sum: 55\n",
            "--------------------------------------------------\n",
            "1 부터 10 까지 더한 총합은 55 입니다\n"
          ],
          "name": "stdout"
        }
      ]
    },
    {
      "cell_type": "code",
      "metadata": {
        "colab": {
          "base_uri": "https://localhost:8080/"
        },
        "id": "oeZOOLAAV_QQ",
        "outputId": "9afabd64-a9bc-4d8f-8044-c47b025881a9"
      },
      "source": [
        "test_sum = 0\n",
        "a = 1\n",
        "b = 11\n",
        "for x in range (a,b):\n",
        "    test_sum += x\n",
        "print (\"x:\",x,\"sum:\",test_sum)\n",
        "print('-'* 50)\n",
        "print(a,'부터',b-1,'까지 더한 총합은',test_sum, '입니다')"
      ],
      "execution_count": null,
      "outputs": [
        {
          "output_type": "stream",
          "text": [
            "x: 10 sum: 55\n",
            "--------------------------------------------------\n",
            "1 부터 10 까지 더한 총합은 55 입니다\n"
          ],
          "name": "stdout"
        }
      ]
    },
    {
      "cell_type": "markdown",
      "metadata": {
        "id": "b425l7qHExdg"
      },
      "source": [
        "# 파이썬 조건문\n",
        "\n",
        "**if & else**"
      ]
    },
    {
      "cell_type": "code",
      "metadata": {
        "colab": {
          "base_uri": "https://localhost:8080/"
        },
        "id": "31s0E1Lv0KlR",
        "outputId": "a603b6cf-4e5e-4b50-e0a9-1db37d92dcc3"
      },
      "source": [
        "a = 200\n",
        "if a < 100:\n",
        "    print(\"100보다 작군요\")\n",
        "else:\n",
        "    print(\"100보다 크군요\")"
      ],
      "execution_count": null,
      "outputs": [
        {
          "output_type": "stream",
          "text": [
            "100보다 크군요\n"
          ],
          "name": "stdout"
        }
      ]
    },
    {
      "cell_type": "markdown",
      "metadata": {
        "id": "VMX_STPPE95a"
      },
      "source": [
        "**import random**\n",
        "\n",
        "무작위 수를 발생시키는 모듈"
      ]
    },
    {
      "cell_type": "code",
      "metadata": {
        "colab": {
          "base_uri": "https://localhost:8080/"
        },
        "id": "chOI-2DX18Cs",
        "outputId": "ef596980-2bca-41f5-aa4c-28a7528bbfe7"
      },
      "source": [
        "import random\n",
        "for x in range(3):\n",
        "    test_num1 = random.randint(1,15)\n",
        "    if test_num1 > 10:\n",
        "        print(test_num1 , '은 10보다 큽니다')\n",
        "    else:\n",
        "        print(test_num1 , '은 10보다 작거나 같습니다')"
      ],
      "execution_count": null,
      "outputs": [
        {
          "output_type": "stream",
          "text": [
            "14 은 10보다 큽니다\n",
            "11 은 10보다 큽니다\n",
            "10 은 10보다 작거나 같습니다\n"
          ],
          "name": "stdout"
        }
      ]
    },
    {
      "cell_type": "code",
      "metadata": {
        "colab": {
          "base_uri": "https://localhost:8080/"
        },
        "id": "VgCoSPjJco2t",
        "outputId": "b5d4e2e9-056c-4744-8121-381bf3019c99"
      },
      "source": [
        "# 오월의 오팀: 내가 만든 버전\n",
        "import random\n",
        "L = [\"열\", \"수\", \"이\", \"선\", \"기\", \"정\", \"희\"]\n",
        "x = random.randint(0,6)\n",
        "print(L[x],'는/은 발표를 합니다')\n"
      ],
      "execution_count": null,
      "outputs": [
        {
          "output_type": "stream",
          "text": [
            "희 는/은 발표를 합니다\n"
          ],
          "name": "stdout"
        }
      ]
    },
    {
      "cell_type": "code",
      "metadata": {
        "colab": {
          "base_uri": "https://localhost:8080/"
        },
        "id": "bF7X6FYn6wkb",
        "outputId": "198e2f47-aa69-4523-bbb0-48804eb4bbc9"
      },
      "source": [
        "#팀원 버전 (형식 같음)\n",
        "import random\n",
        "list = [\"선\", \"희\", \"열\", \"이\", \"수\", \"정\", \"기\"]\n",
        "random_num = random.randint(0,6)\n",
        "print(list[random_num],\"는 발표자입니다\")"
      ],
      "execution_count": null,
      "outputs": [
        {
          "output_type": "stream",
          "text": [
            "희 는 발표자입니다\n"
          ],
          "name": "stdout"
        }
      ]
    },
    {
      "cell_type": "code",
      "metadata": {
        "colab": {
          "base_uri": "https://localhost:8080/"
        },
        "id": "21J1UPDHj67t",
        "outputId": "7bdc971f-d083-4e3b-c1b6-01fc2a6f056e"
      },
      "source": [
        "#2팀 버전 (+ 사용)\n",
        "import random\n",
        "list_DT = [\"종엽\",\"지순\",\"승아\",\"윤희\",\"동빈\",\"유진\",\"찬민\"]\n",
        "rand_num = random.randint(0,6)\n",
        "print(\"발표자는 \"+list_DT[rand_num]+\"입니다\")"
      ],
      "execution_count": null,
      "outputs": [
        {
          "output_type": "stream",
          "text": [
            "발표자는 종엽입니다\n"
          ],
          "name": "stdout"
        }
      ]
    },
    {
      "cell_type": "code",
      "metadata": {
        "colab": {
          "base_uri": "https://localhost:8080/"
        },
        "id": "Y0JkPXr2kEWm",
        "outputId": "75dbab6d-3579-447a-fbca-3bffba9f9d25"
      },
      "source": [
        "#6팀 버전 (len 사용)\n",
        "import random \n",
        "list=['강다솔', '김보연', '남지인', '유승한', '윤혜선', '이예빈']\n",
        "x=random.randint(0, len(list)-1)\n",
        "print(list[x])"
      ],
      "execution_count": null,
      "outputs": [
        {
          "output_type": "stream",
          "text": [
            "유승한\n"
          ],
          "name": "stdout"
        }
      ]
    },
    {
      "cell_type": "code",
      "metadata": {
        "colab": {
          "base_uri": "https://localhost:8080/"
        },
        "id": "NuHD_oA2kvz-",
        "outputId": "58b35149-b600-4331-d622-8af3a9a186d2"
      },
      "source": [
        "#1팀 버전 (sample 사용)\n",
        "from random import sample\n",
        "list_member=['Alex','Sophie','Annie','Zoey','Sunny','Paul']\n",
        "print('발표자는', sample(list_member,2),'입니다')"
      ],
      "execution_count": null,
      "outputs": [
        {
          "output_type": "stream",
          "text": [
            "발표자는 ['Annie', 'Alex'] 입니다\n"
          ],
          "name": "stdout"
        }
      ]
    }
  ]
}