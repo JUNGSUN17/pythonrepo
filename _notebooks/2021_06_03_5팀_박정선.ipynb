{
  "nbformat": 4,
  "nbformat_minor": 0,
  "metadata": {
    "colab": {
      "name": "2021-06-03-5팀-박정선.ipynb",
      "provenance": [],
      "collapsed_sections": [],
      "toc_visible": true,
      "authorship_tag": "ABX9TyP1aZK7mz6qx20RnzrL1Vd9",
      "include_colab_link": true
    },
    "kernelspec": {
      "name": "python3",
      "display_name": "Python 3"
    },
    "language_info": {
      "name": "python"
    }
  },
  "cells": [
    {
      "cell_type": "markdown",
      "metadata": {
        "id": "view-in-github",
        "colab_type": "text"
      },
      "source": [
        "<a href=\"https://colab.research.google.com/github/JUNGSUN17/pythonrepo/blob/master/_notebooks/2021_06_03_5%ED%8C%80_%EB%B0%95%EC%A0%95%EC%84%A0.ipynb\" target=\"_parent\"><img src=\"https://colab.research.google.com/assets/colab-badge.svg\" alt=\"Open In Colab\"/></a>"
      ]
    },
    {
      "cell_type": "markdown",
      "metadata": {
        "id": "un4yGToJt7ac"
      },
      "source": [
        "#딕셔너리 & 팀 실습"
      ]
    },
    {
      "cell_type": "markdown",
      "metadata": {
        "id": "Ol-V0sdLJ142"
      },
      "source": [
        "##딕셔너리 값 가져오기\n"
      ]
    },
    {
      "cell_type": "code",
      "metadata": {
        "colab": {
          "base_uri": "https://localhost:8080/"
        },
        "id": "OooxnEOKJ0Mv",
        "outputId": "a49bff77-f2e8-4c75-ebe3-f3c3acf198ff"
      },
      "source": [
        "alist = {\n",
        "    '키1':['값1', '값2'], \n",
        "    '키2':['값3', '값4'], \n",
        "    '키3':['값5', '값6'],\n",
        "    '키4':{'키':100}}\n",
        "print(list(alist['키1']))\n",
        "print(alist['키4']['키'])"
      ],
      "execution_count": null,
      "outputs": [
        {
          "output_type": "stream",
          "text": [
            "['값1', '값2']\n",
            "100\n"
          ],
          "name": "stdout"
        }
      ]
    },
    {
      "cell_type": "markdown",
      "metadata": {
        "id": "aW9R3KUcGW6p"
      },
      "source": [
        "### 예제1: 팀 연령 구하기"
      ]
    },
    {
      "cell_type": "code",
      "metadata": {
        "colab": {
          "base_uri": "https://localhost:8080/"
        },
        "id": "QEvsUvJuGPmq",
        "outputId": "01e4cffa-78f6-4a4c-be2e-c0bb254e6bb9"
      },
      "source": [
        "#팀 Max & Min 연령 구하기\n",
        "alist = {\n",
        "    '1팀':[25,39,29,27,22], \n",
        "    '2팀':[27,24,25,29,25], \n",
        "    '3팀':[25,26,25,23,23,28,27],\n",
        "    '4팀':[21,23,30],\n",
        "    '5팀':[26,41,24,31,21,34,27],\n",
        "    '6팀':[21,29,27,25,25]}\n",
        "age_li = []\n",
        "for i,v in alist.items():\n",
        "    print(f'{i}의 최저연령은{min(v)} 최고연령은 {max(v)}')\n",
        "    age_li.extend(v)\n",
        "    # print(age_li)\n",
        "print(f'DT스쿨 최저연령은{min(age_li)} 최고연령은 {max(age_li)}')"
      ],
      "execution_count": null,
      "outputs": [
        {
          "output_type": "stream",
          "text": [
            "1팀의 최저연령은22 최고연령은 39\n",
            "2팀의 최저연령은24 최고연령은 29\n",
            "3팀의 최저연령은23 최고연령은 28\n",
            "4팀의 최저연령은21 최고연령은 30\n",
            "5팀의 최저연령은21 최고연령은 41\n",
            "6팀의 최저연령은21 최고연령은 29\n",
            "DT스쿨 최저연령은21 최고연령은 41\n"
          ],
          "name": "stdout"
        }
      ]
    },
    {
      "cell_type": "code",
      "metadata": {
        "colab": {
          "base_uri": "https://localhost:8080/"
        },
        "id": "M174PeGjJcPV",
        "outputId": "8f0e70d9-0f86-480f-9220-c7a3a61a8270"
      },
      "source": [
        "alist = {\n",
        "    '1팀':[25,39,29,27,22], \n",
        "    '2팀':[27,24,25,29,25], \n",
        "    '3팀':[25,26,25,23,23,28,27],\n",
        "    '4팀':[21,23,30],\n",
        "    '5팀':[26,41,24,31,21,34,27],\n",
        "    '6팀':[21,29,27,25,25]}\n",
        "age_li = []\n",
        "for i,v in alist.items():\n",
        "    print(f'{i}의 최저연령은{min(v)} 최고연령은 {max(v)}')\n",
        "    age_li.extend(v)\n",
        "print(f'DT스쿨 평균연령은 {sum(age_li)/len(age_li)}입니다.')"
      ],
      "execution_count": null,
      "outputs": [
        {
          "output_type": "stream",
          "text": [
            "1팀의 최저연령은22 최고연령은 39\n",
            "2팀의 최저연령은24 최고연령은 29\n",
            "3팀의 최저연령은23 최고연령은 28\n",
            "4팀의 최저연령은21 최고연령은 30\n",
            "5팀의 최저연령은21 최고연령은 41\n",
            "6팀의 최저연령은21 최고연령은 29\n",
            "DT스쿨 평균연령은 26.6875입니다.\n"
          ],
          "name": "stdout"
        }
      ]
    },
    {
      "cell_type": "markdown",
      "metadata": {
        "id": "aDV70efiLEPF"
      },
      "source": [
        "###예제 2: 캐릭터 사전 만들기"
      ]
    },
    {
      "cell_type": "code",
      "metadata": {
        "colab": {
          "base_uri": "https://localhost:8080/"
        },
        "id": "xkvyfyhbIW12",
        "outputId": "91612aa6-bf79-4362-d980-7e7de16db31f"
      },
      "source": [
        "team_dic = {'갓디':['신동열','자전거','돈까스','아이슬란드'],\n",
        "            '너구리':['이영이','잠','양파,감자','뉴욕'],\n",
        "            '매운오돌뼈':['박정선','책 읽기','쫄면','크로아티아'],\n",
        "            '수루키':['한슬기','댄스','곱창','발리'],\n",
        "            '뚜뚜':['김은수','노래듣기','떡볶이','유럽'],\n",
        "            '데이지':['노현정','유튜브보기','매번달라짐','이스탄불'],\n",
        "            '희':['박제희','취미','좋아하는 음식','여행가고 싶은 곳'],\n",
        "            }\n",
        "\n",
        "# 별명이 뭐가 들어있는지 먼저 보여주면 좋지 않을까 편의점 리스트 처럼\n",
        "\n",
        "nick_name = input('누가 궁금한가요? : ')\n",
        "#if nick_name != team_dic :\n",
        "    #print('우리 팀원이 아니에요')\n",
        "\n",
        "b_list = team_dic[nick_name]\n",
        "\n",
        "print(f'오월의 오팀 {nick_name}님을 소개합니다.')\n",
        "print(f'{nick_name}님의 이름은 {b_list[0]}.')\n",
        "print(f'취미는 {b_list[1]}!')\n",
        "print(f'{nick_name}님이 좋아하는 음식은 {b_list[2]}이고,')\n",
        "print(f'여행가고 싶은 곳은 {b_list[3]}라고 합니다.')"
      ],
      "execution_count": null,
      "outputs": [
        {
          "output_type": "stream",
          "text": [
            "누가 궁금한가요? : 매운오돌뼈\n",
            "오월의 오팀 매운오돌뼈님을 소개합니다.\n",
            "매운오돌뼈님의 이름은 박정선.\n",
            "취미는 책 읽기!\n",
            "매운오돌뼈님이 좋아하는 음식은 쫄면이고,\n",
            "여행가고 싶은 곳은 크로아티아라고 합니다.\n"
          ],
          "name": "stdout"
        }
      ]
    },
    {
      "cell_type": "markdown",
      "metadata": {
        "id": "wOmljOW8Vemd"
      },
      "source": [
        "##팀과제] 우리 팀의 평균 나이는?\n",
        "\n",
        "네이버 오픈 API - https://developers.naver.com/docs/common/openapiguide/\n",
        "\n",
        "이미지캡쳐 예시 코드 - https://developers.naver.com/docs/utils/captcha/examples/#python"
      ]
    },
    {
      "cell_type": "code",
      "metadata": {
        "id": "rt9RsWrsXp3E",
        "colab": {
          "base_uri": "https://localhost:8080/"
        },
        "outputId": "956ad997-b96b-4447-cb0c-2d16dd5d616b"
      },
      "source": [
        "from google.colab import drive\n",
        "drive.mount('/content/drive')"
      ],
      "execution_count": null,
      "outputs": [
        {
          "output_type": "stream",
          "text": [
            "Mounted at /content/drive\n"
          ],
          "name": "stdout"
        }
      ]
    },
    {
      "cell_type": "code",
      "metadata": {
        "colab": {
          "base_uri": "https://localhost:8080/"
        },
        "id": "c724DrCWVv5i",
        "outputId": "64c8657a-729a-4c4a-e8a4-ca60090405cb"
      },
      "source": [
        "import os\n",
        "import sys\n",
        "import requests\n",
        "\n",
        "\n",
        "# 등록된 client_id, client_secret 정보를 입력합니다.\n",
        "client_id = \"yBwPM0bgoQTE7MzqhxmM\"\n",
        "client_secret = \"2HiUBFvSq_\"\n",
        "\n",
        "# 얼굴 사진을 통한 나이 추정을 위해서는 아래 url을 사용합니다. (face: 얼굴 분석, celebrity: 닮은 유명인 찾기)\n",
        "#url = \"https://openapi.naver.com/v1/vision/face\" \n",
        "url = \"https://openapi.naver.com/v1/vision/celebrity\" \n",
        "\n",
        "# 분석할 이미지의 파일명을 입력합니다./\n",
        "files = {'image': open('/content/drive/MyDrive/5x7.jpg', 'rb')}\n",
        "\n",
        "# API 입력 설정\n",
        "headers = {'X-Naver-Client-Id': client_id, 'X-Naver-Client-Secret': client_secret }\n",
        "\n",
        "# API 사용\n",
        "response = requests.post(url,  files=files, headers=headers)\n",
        "rescode = response.status_code\n",
        "\n",
        "if (rescode==200):\n",
        "    # 결과물 출력\n",
        "    print (response.text)\n",
        "else:\n",
        "    print(\"Error Code:\" + str(rescode))"
      ],
      "execution_count": null,
      "outputs": [
        {
          "output_type": "stream",
          "text": [
            "{\"info\":{\"size\":{\"width\":591,\"height\":827},\"faceCount\":1},\"faces\":[{\"celebrity\":{\"value\":\"신소율\",\"confidence\":0.456029}}]}\n"
          ],
          "name": "stdout"
        }
      ]
    },
    {
      "cell_type": "code",
      "metadata": {
        "id": "jso8p_UXZWXS",
        "colab": {
          "base_uri": "https://localhost:8080/"
        },
        "outputId": "786d2f33-2bbd-4834-e0fe-58c29cf49306"
      },
      "source": [
        "# json 형식을 사용하기 위하여 import 합니다.\n",
        "import json\n",
        "\n",
        "# loads 함수를 사용하여 json으로 변환합니다.\n",
        "result = json.loads(response.text)\n",
        "result"
      ],
      "execution_count": null,
      "outputs": [
        {
          "output_type": "execute_result",
          "data": {
            "text/plain": [
              "{'faces': [{'age': {'confidence': 0.704142, 'value': '23~27'},\n",
              "   'emotion': {'confidence': 0.844172, 'value': 'neutral'},\n",
              "   'gender': {'confidence': 0.999726, 'value': 'female'},\n",
              "   'landmark': {'leftEye': {'x': 239, 'y': 284},\n",
              "    'leftMouth': {'x': 242, 'y': 402},\n",
              "    'nose': {'x': 292, 'y': 360},\n",
              "    'rightEye': {'x': 351, 'y': 283},\n",
              "    'rightMouth': {'x': 348, 'y': 403}},\n",
              "   'pose': {'confidence': 0.998617, 'value': 'frontal_face'},\n",
              "   'roi': {'height': 261, 'width': 261, 'x': 171, 'y': 224}}],\n",
              " 'info': {'faceCount': 1, 'size': {'height': 827, 'width': 591}}}"
            ]
          },
          "metadata": {
            "tags": []
          },
          "execution_count": 35
        }
      ]
    },
    {
      "cell_type": "markdown",
      "metadata": {
        "id": "jyBg921ypTaf"
      },
      "source": [
        "##우리 팀의 평균 나이 결과"
      ]
    },
    {
      "cell_type": "code",
      "metadata": {
        "colab": {
          "base_uri": "https://localhost:8080/"
        },
        "id": "tQx922z4jknA",
        "outputId": "e14a0b93-5c46-4763-a902-afac15a44d21"
      },
      "source": [
        "team_may = {'한슬기':['20~24','1.0','에리카'],\n",
        "            '신동열':['16~20','0.469707','윤시윤'],\n",
        "            '이영이':['27~31',' 0.788085','예인'],\n",
        "            '박정선':['18~22','0.0871416','윤혜경'],\n",
        "            '김은수':['17~21','1.0','김소현'],\n",
        "            '노현정':['28~32','1.0', '문지인'],\n",
        "            '박제희':['17~21','0.472284','강승현']}\n",
        "nick_name = input('누가 궁금한가요? : ')\n",
        "b_list = team_may[nick_name]\n",
        "print(f'오월의 오팀 {nick_name}님의 평균나이는 {b_list[0]}이며, 정확도는 {b_list[1]}')\n",
        "print(f'{nick_name}님의 닮은꼴 연예인은? : {b_list[2]} ')"
      ],
      "execution_count": null,
      "outputs": [
        {
          "output_type": "stream",
          "text": [
            "누가 궁금한가요? : 박정선\n",
            "오월의 오팀 박정선님의 평균나이는 18~22이며, 정확도는 0.0871416\n",
            "박정선님의 닮은꼴 연예인은? : 윤혜경 \n"
          ],
          "name": "stdout"
        }
      ]
    },
    {
      "cell_type": "code",
      "metadata": {
        "colab": {
          "base_uri": "https://localhost:8080/"
        },
        "id": "qPSrrA1Vq7tA",
        "outputId": "ad295416-53f1-438e-c575-096fca1bc57e"
      },
      "source": [
        "# 정선 평균 나이\n",
        "confidence = [0.0871416, 0.828125, 0.704142]\n",
        "age = [20, 23, 25]\n",
        "\n",
        "ave_age = sum(age)/len(age)\n",
        "tot_conf = sum(confidence)/len(confidence)\n",
        "\n",
        "print(ave_age, tot_conf)"
      ],
      "execution_count": null,
      "outputs": [
        {
          "output_type": "stream",
          "text": [
            "22.666666666666668 0.5398028666666667\n"
          ],
          "name": "stdout"
        }
      ]
    },
    {
      "cell_type": "code",
      "metadata": {
        "colab": {
          "base_uri": "https://localhost:8080/"
        },
        "id": "zf73GpVyxJ5_",
        "outputId": "46de8a34-108e-4abf-eafe-bf77f9537e57"
      },
      "source": [
        "alist = [23.2,26.25,21.6,22.7,19.6]\n",
        "blist = [0.85,0.64,0.83,0.84,0.54,0.69,0.91]    \n",
        "print(f'5팀의 평균 연령은 {round(sum(alist)/len(alist),1)}입니다')\n",
        "print(f'5팀의 평균 정확도는 {sum(blist)/len(blist)} 입니다') "
      ],
      "execution_count": null,
      "outputs": [
        {
          "output_type": "stream",
          "text": [
            "5팀의 평균 연령은 22.7입니다\n",
            "5팀의 평균 정확도는 0.7571428571428571 입니다\n"
          ],
          "name": "stdout"
        }
      ]
    }
  ]
}