{
  "nbformat": 4,
  "nbformat_minor": 0,
  "metadata": {
    "colab": {
      "name": "2021-06-02-5팀-박정선.ipynb",
      "private_outputs": true,
      "provenance": [],
      "collapsed_sections": [],
      "toc_visible": true,
      "include_colab_link": true
    },
    "kernelspec": {
      "name": "python3",
      "display_name": "Python 3"
    },
    "language_info": {
      "name": "python"
    }
  },
  "cells": [
    {
      "cell_type": "markdown",
      "metadata": {
        "id": "view-in-github",
        "colab_type": "text"
      },
      "source": [
        "<a href=\"https://colab.research.google.com/github/JUNGSUN17/pythonrepo/blob/master/_notebooks/2021_06_02_5%ED%8C%80_%EB%B0%95%EC%A0%95%EC%84%A0.ipynb\" target=\"_parent\"><img src=\"https://colab.research.google.com/assets/colab-badge.svg\" alt=\"Open In Colab\"/></a>"
      ]
    },
    {
      "cell_type": "markdown",
      "metadata": {
        "id": "RrDGbS6PW8jO"
      },
      "source": [
        "#함수"
      ]
    },
    {
      "cell_type": "markdown",
      "metadata": {
        "id": "vsBL_fEo8iUm"
      },
      "source": [
        "## 내장함수\n",
        "\n",
        "내장함수들은 모듈을 import할 필요없이 사용"
      ]
    },
    {
      "cell_type": "code",
      "metadata": {
        "id": "3MzG17g98Vk6"
      },
      "source": [
        "#파이썬 내장함수 목록 조회\n",
        "dir(__builtins__)"
      ],
      "execution_count": null,
      "outputs": []
    },
    {
      "cell_type": "markdown",
      "metadata": {
        "id": "Ojvpjvoh813X"
      },
      "source": [
        "##외장함수\n",
        "\n",
        "import하여 사용, 모듈 뒤에 점(.)을 찍어 사용"
      ]
    },
    {
      "cell_type": "markdown",
      "metadata": {
        "id": "a5iZeEh3Lgp1"
      },
      "source": [
        "### import 모듈 가져 오기 \n",
        "\n",
        "> 파이썬에서는 다양한 분야의 처리를 위한 기능을 제공합니다.  \n",
        " \n",
        "\n",
        "모듈 import 방법 \n",
        "``` \n",
        "import 모듈명 # 모듈 불러오기\n",
        "import 모듈명 as 별칭 # 별칭으로 모듈 불러오기\n",
        "from 패키지명 import 모듈명  # 원하는 모듈만 특정해서 불러오기\n",
        "from 모듈명 import 함수명  # 원하는 함수만 특정해서 불러오기\n",
        "``` "
      ]
    },
    {
      "cell_type": "markdown",
      "metadata": {
        "id": "6yNlGxCMLHST"
      },
      "source": [
        "1. 캘린더 기능   \n",
        "month(): 함수에 인수로 년,월을 입력하여 호출하면 캘린더 데이터(문자열)반환  \n",
        "isleap(): 함수에 인수로 년도를 입력하면 bol을 반환"
      ]
    },
    {
      "cell_type": "code",
      "metadata": {
        "id": "q0CW7kAfWxk_"
      },
      "source": [
        "import random\n",
        "list_data = [1,2,3,4,5]\n",
        "random.choice(list_data)"
      ],
      "execution_count": null,
      "outputs": []
    },
    {
      "cell_type": "code",
      "metadata": {
        "id": "td1yqMRGvGDm"
      },
      "source": [
        "import calendar  # calendar 모듈 import\n",
        "print(calendar.month(2021,5)) # 달력 년월을 지정 출력"
      ],
      "execution_count": null,
      "outputs": []
    },
    {
      "cell_type": "code",
      "metadata": {
        "id": "v4UcSIa59bNI"
      },
      "source": [
        "# calendar 모듈 import\n",
        "from calendar import month\n",
        "print(month(2021,5))"
      ],
      "execution_count": null,
      "outputs": []
    },
    {
      "cell_type": "markdown",
      "metadata": {
        "id": "NumBqlj6bCmO"
      },
      "source": [
        "* 경과한 날짜 수 확인 \n",
        "임의의 날짜에서 다른 임의의 날짜까지의 경과일 계산"
      ]
    },
    {
      "cell_type": "code",
      "metadata": {
        "id": "xiLs2fuSbTKs"
      },
      "source": [
        "# 태어난 지 얼마나 지났을까?\n",
        "import datetime \n",
        "\n",
        "date1 = datetime.date.today()\n",
        "date2 = datetime.date(1998,10,17)\n",
        "print(date1-date2)"
      ],
      "execution_count": null,
      "outputs": []
    },
    {
      "cell_type": "code",
      "metadata": {
        "id": "N1uUGsxB_BNG"
      },
      "source": [
        "import random\n",
        "\n",
        "#None 조심\n",
        "#시퀀스 데이터를 무작위로 랜덤하게 섞기\n",
        "a = ['호호', '하하', '히히', '킥킥', '캭캭']\n",
        "random.shuffle(a)\n",
        "print(a)\n",
        "\n",
        "#0과 1사이의 실수 반환\n",
        "b = random.random()\n",
        "\n",
        "#사직과 끝값 사이의 랜덤한 정수 선택\n",
        "c = random.randint(1,10)\n",
        "\n",
        "#함수로 만들어지는 정수 중에 하나를 랜덤하게 선택\n",
        "d = random.randrange(0,101,2)\n",
        "\n",
        "# 시퀀스 데이터 내에서 무작위로 하나의 원소 선택\n",
        "e = random.choice('abcdefg')\n",
        "\n",
        "print(b, c, d, e)"
      ],
      "execution_count": null,
      "outputs": []
    },
    {
      "cell_type": "code",
      "metadata": {
        "id": "7aaqHnBRjMfa"
      },
      "source": [
        "import random\n",
        "a = random.random() # Random float x, 0.0 <= x < 1.0\n",
        "\n",
        "#2개의 숫자 사이의 랜덤 실수를 리턴합니다.\n",
        "b = random.uniform(1, 10) # Random float x, 1.0 <= x < 10.0\n",
        "\n",
        "\n",
        "#2개의 숫자 사이의 랜덤 정수를 리턴합니다. (2번째 인자로 넘어온 정수도 범위에 포함시킴)\n",
        "c =random.randint(1, 10) # Integer from 1 to 10, endpoints included\n",
        "\n",
        "\n",
        "#range(start, stop, step) 함수로 만들어지는 정수 중에 하나를 랜덤하게 리턴합니다.\n",
        "d=random.randrange(0, 101, 2)  # Even integer from 0 to 100\n",
        "\n",
        "#choice() 함수 랜덤하게 하나의 원소를 선택합니다.\n",
        "e = random.choice('abcdefghij') # Choose a random element \n",
        "f = random.choice(['가위','바위','보'])\n",
        "\n",
        "print(a,b,c,d,e,f)"
      ],
      "execution_count": null,
      "outputs": []
    },
    {
      "cell_type": "markdown",
      "metadata": {
        "id": "-dKMi79WdAYG"
      },
      "source": [
        "## 함수정의 "
      ]
    },
    {
      "cell_type": "markdown",
      "metadata": {
        "id": "6_1-epGfJvIb"
      },
      "source": [
        "#### 파이썬에서 함수 구현\n",
        "* 함수 정의 키워드 def()\n",
        "       def 함수명(매개변수);\n",
        "              함수가 수행할 일\n",
        "              return 함수가 반환할 객체"
      ]
    },
    {
      "cell_type": "markdown",
      "metadata": {
        "id": "_h4hUsZfCgMj"
      },
      "source": [
        "**예제1: 환영에시지 출력하기**\n",
        "\n",
        "환영메시지를 출력하는 함수를 만들고, 함수를 호출하여 출력"
      ]
    },
    {
      "cell_type": "code",
      "metadata": {
        "id": "hmD6GiLJc2-6"
      },
      "source": [
        "#환영메시지 출력하기\n",
        "def say_hello():\n",
        "    print('안녕하세요!!')\n",
        "    print('파이썬의 세계에 오신 것을 환영합니다.')\n",
        "    print('즐거운 시간 되세요!!')\n",
        "say_hello()"
      ],
      "execution_count": null,
      "outputs": []
    },
    {
      "cell_type": "code",
      "metadata": {
        "id": "va2TpguUdyNy"
      },
      "source": [
        "#인수로 전달하여 출력하기\n",
        "#매개변수 1개, 반환값 없음\n",
        "def say_hello(name):\n",
        "    print(f'안녕하세요, {name}!!')\n",
        "    print('파이썬의 세계에 오신 것을 환영합니다.')\n",
        "    print('즐거운 시간 되세요!!')\n",
        "say_hello('홍길동')"
      ],
      "execution_count": null,
      "outputs": []
    },
    {
      "cell_type": "code",
      "metadata": {
        "id": "LxzhUy_RDM5R"
      },
      "source": [
        "#인수로 전달하여 출력하기\n",
        "#매개변수 2개, 반환값 없음\n",
        "def say_hello(name1, name2):\n",
        "    print(f'안녕하세요, {name1}, {name2}!!')\n",
        "    print('파이썬의 세계에 오신 것을 환영합니다.')\n",
        "    print('즐거운 시간 되세요!!')\n",
        "say_hello('홍길동', '홍홍홍')"
      ],
      "execution_count": null,
      "outputs": []
    },
    {
      "cell_type": "markdown",
      "metadata": {
        "id": "L4nzwCIxGSAW"
      },
      "source": [
        "**예제2: 원의 넓이를 구하는 함수 만들기**\n",
        "\n",
        "원의 반지름을 보내면 원의 넓이를 계산하여 반환하는 함수 작성"
      ]
    },
    {
      "cell_type": "code",
      "metadata": {
        "id": "bOVH-Zh0eNZw"
      },
      "source": [
        "# 원의 넓이\n",
        "#매개변수 1개, 반환값 1개\n",
        "def circle_area(radius):\n",
        "    area = 3.14 * radius ** 2\n",
        "    return area\n",
        "circle_area(5)"
      ],
      "execution_count": null,
      "outputs": []
    },
    {
      "cell_type": "code",
      "metadata": {
        "id": "5vPjisEDH7LQ"
      },
      "source": [
        "# 원의 넓이 & 둘레\n",
        "#매개변수 2개, 반환값 2개\n",
        "def circle_area_circum(radius1, radius2):\n",
        "    area = 3.14 * radius1 ** 2\n",
        "    circum = 2 * 3.14 * radius2\n",
        "    return area, circum\n",
        "circle_area_circum(3,3)"
      ],
      "execution_count": null,
      "outputs": []
    },
    {
      "cell_type": "markdown",
      "metadata": {
        "id": "lCIugokYHaU3"
      },
      "source": [
        "**예제3: 두 수를 더하여 결과를 반환하는 점수 만들기**\n",
        "\n",
        "두 수를 매개변수로 받아 더한 값을 반환하는 함수 만들기"
      ]
    },
    {
      "cell_type": "code",
      "metadata": {
        "id": "57C0dPOIerjK"
      },
      "source": [
        "# 두수를 더하여 반환\n",
        "def get_plus(num1,num2):\n",
        "    result = num1 + num2\n",
        "    return result\n",
        "get_plus(1,2)"
      ],
      "execution_count": null,
      "outputs": []
    },
    {
      "cell_type": "code",
      "metadata": {
        "id": "zbrF9LeufIlU"
      },
      "source": [
        "# 두수를 더한 값과 뺀 값을  반환\n",
        "#매개변수 2개, 반환값 2개\n",
        "def get_plus_minus(num1,num2):\n",
        "    plus = num1 + num2\n",
        "    minus = num1 - num2\n",
        "    return plus,minus\n",
        "get_plus_minus(1,2)"
      ],
      "execution_count": null,
      "outputs": []
    },
    {
      "cell_type": "code",
      "metadata": {
        "id": "I923K9mVI85C"
      },
      "source": [
        "# 두수를 곱한 값과 나눈 값을  반환\n",
        "#매개변수 2개, 반환값 1개\n",
        "\n",
        "def get_divi(numb1,numb2):\n",
        "    if numb2 == 0:\n",
        "        print('Impossible')\n",
        "    else:\n",
        "        divi = numb1/numb2\n",
        "    return divi\n",
        "\n",
        "x = random.randint(0,10)\n",
        "y = random.randint(0,10)\n",
        "print(x,y)\n",
        "get_divi(x,y)"
      ],
      "execution_count": null,
      "outputs": []
    },
    {
      "cell_type": "markdown",
      "metadata": {
        "id": "R7ZD9UlRhRkN"
      },
      "source": [
        "### 지역변수\n",
        "* 함수 내에서 생성한 변수"
      ]
    },
    {
      "cell_type": "markdown",
      "metadata": {
        "id": "C6en44-9Mds_"
      },
      "source": [
        "### 전역변수\n",
        "\n",
        "* 함수 밖에서 생성한 변수"
      ]
    },
    {
      "cell_type": "code",
      "metadata": {
        "id": "-o_7NUHOgqN4"
      },
      "source": [
        "# 함수내 변수를 밖에서 사용 못함\n",
        "def get_plus_minus(num1,num2):\n",
        "    plus = num1 + num2\n",
        "    minus = num1 - num2\n",
        "    return plus,minus\n",
        "# get_plus_minus(1,2)\n",
        "print(plus,minus)"
      ],
      "execution_count": null,
      "outputs": []
    },
    {
      "cell_type": "code",
      "metadata": {
        "id": "wvFAYHUVf1T_"
      },
      "source": [
        "# 전역변수 - 함수밖에서 생성\n",
        "def circle_area():\n",
        "    area = 3.14 * radius ** 2\n",
        "    return area\n",
        "radius = float(input('반지름:'))\n",
        "circle_area()"
      ],
      "execution_count": null,
      "outputs": []
    },
    {
      "cell_type": "markdown",
      "metadata": {
        "id": "UKR8-IKdhYyp"
      },
      "source": [
        "###함수 안에서 전역변수 변경 \n",
        "\n",
        "* 함수 안에서 전역변수의 값을 변경하려면, global 키워드를 사용해야 한다."
      ]
    },
    {
      "cell_type": "code",
      "metadata": {
        "id": "xYKs0doThc3a"
      },
      "source": [
        "#global 키워드 미사용\n",
        "def circle_area():\n",
        "    area = 3.14 * radius ** 2\n",
        "    return area\n",
        "area = 0  #변수 초기값 사용\n",
        "radius = float(input('반지름:'))\n",
        "print('원의 넓이:',circle_area())\n",
        "print(area) #변경안됨"
      ],
      "execution_count": null,
      "outputs": []
    },
    {
      "cell_type": "code",
      "metadata": {
        "id": "QUvzv3YricBe"
      },
      "source": [
        "#global 키워드 사용\n",
        "def circle_area():\n",
        "    global area\n",
        "    area = 3.14 * radius ** 2\n",
        "    return area\n",
        "area = 0  #변수 초기값 사용\n",
        "radius = float(input('반지름:'))\n",
        "print('원의 넓이:',circle_area())\n",
        "print(area) #변경"
      ],
      "execution_count": null,
      "outputs": []
    },
    {
      "cell_type": "code",
      "metadata": {
        "id": "qebOZGv9OMVU"
      },
      "source": [
        "def circle_circum():\n",
        "    global circum\n",
        "    circum = 2 * 3.14 * radius\n",
        "    return circum\n",
        "circum = 0\n",
        "radius = float(random.randint(1,11))\n",
        "print('원의 둘레:', circle_circum())\n",
        "print(circum)"
      ],
      "execution_count": null,
      "outputs": []
    },
    {
      "cell_type": "markdown",
      "metadata": {
        "id": "0fGAcZpniskE"
      },
      "source": [
        "### 디폴트 인수\n",
        "\n",
        "* 매개변수의 개수와 인수의 개수가 다르면 에러 발생"
      ]
    },
    {
      "cell_type": "code",
      "metadata": {
        "id": "tjDpc4QXivKI"
      },
      "source": [
        "def greet(name,msg):\n",
        "    print(f'안녕 {name},{msg}')\n",
        "greet('철수','좋은 아침이야')"
      ],
      "execution_count": null,
      "outputs": []
    },
    {
      "cell_type": "code",
      "metadata": {
        "id": "MCmSlP8IjL6q"
      },
      "source": [
        "# greet() missing 1 required positional argument: 'msg'\n",
        "def greet(name,msg):\n",
        "    print(f'안녕 {name},{msg}')\n",
        "greet('철수')"
      ],
      "execution_count": null,
      "outputs": []
    },
    {
      "cell_type": "code",
      "metadata": {
        "id": "QK33z-7Yjc1C"
      },
      "source": [
        "# 인수 부족 시 기본값 사용 \n",
        "def greet(name='친구',msg='잘 지내니?'):\n",
        "    print(f'안녕 {name},{msg}')\n",
        "greet('영희','오랜만이야')"
      ],
      "execution_count": null,
      "outputs": []
    },
    {
      "cell_type": "code",
      "metadata": {
        "id": "luck3G00jtdL"
      },
      "source": [
        "# 인수 부족 시 기본값 사용 \n",
        "def greet(name='친구',msg='잘 지내니?'):\n",
        "    print(f'안녕 {name},{msg}')\n",
        "greet('영희')"
      ],
      "execution_count": null,
      "outputs": []
    },
    {
      "cell_type": "code",
      "metadata": {
        "id": "kVfL8h7mj8T4"
      },
      "source": [
        "# 인수 부족 시 기본값 사용\n",
        "def greet(name='친구',msg='잘 지내니?'):\n",
        "    print(f'안녕 {name},{msg}')\n",
        "greet()"
      ],
      "execution_count": null,
      "outputs": []
    },
    {
      "cell_type": "code",
      "metadata": {
        "id": "s1g_Va5oP78k"
      },
      "source": [
        "# 인수 부족 시 기본값 사용\n",
        "def ask(name='까치',ques='어디 가?'):\n",
        "    print(f'야야! {name},{ques}')\n",
        "ask()"
      ],
      "execution_count": null,
      "outputs": []
    },
    {
      "cell_type": "markdown",
      "metadata": {
        "id": "bpSsoMrskDQv"
      },
      "source": [
        "### 키워드 인수\n",
        "\n",
        "* 위치 인수와 키워드 인수를 혼합하여 사용할 수 있지만, 위치 인수를 먼저 사용해야 함"
      ]
    },
    {
      "cell_type": "code",
      "metadata": {
        "id": "XGv_ZLQSkIZV"
      },
      "source": [
        "def calc(x,y,z):\n",
        "    result = x,y,z\n",
        "    return result\n",
        "calc(1,z=5,y=3)"
      ],
      "execution_count": null,
      "outputs": []
    },
    {
      "cell_type": "code",
      "metadata": {
        "id": "Z7WBE1Cgki-_"
      },
      "source": [
        "def calc(x,y,z):\n",
        "    result = x,y,z\n",
        "    return result\n",
        "calc(x=1,z=5,y=3)"
      ],
      "execution_count": null,
      "outputs": []
    },
    {
      "cell_type": "code",
      "metadata": {
        "id": "N3lsgsktkpOh"
      },
      "source": [
        "# positional argument follows keyword argument\n",
        "def calc(x,y,z):\n",
        "    result = x,y,z\n",
        "    return result\n",
        "calc(x=1,5,y=3)"
      ],
      "execution_count": null,
      "outputs": []
    },
    {
      "cell_type": "code",
      "metadata": {
        "id": "IpckPdKFRG_M"
      },
      "source": [
        "# positional argument follows keyword argument\n",
        "def calc(x,y,z):\n",
        "    result = x+y-z\n",
        "    return result\n",
        "calc(x=1,5,3)"
      ],
      "execution_count": null,
      "outputs": []
    },
    {
      "cell_type": "code",
      "metadata": {
        "id": "r4UUlGmlSFXo"
      },
      "source": [
        "# possibility of ZeroDivision Error\n",
        "def print_numb(x,y,z):\n",
        "    result = int((x+y)/z)\n",
        "    return result\n",
        "x = random.randint(0,10)\n",
        "y = random.randint(0,10)\n",
        "z = random.randint(0,10)\n",
        "print_numb(x,y,z)"
      ],
      "execution_count": null,
      "outputs": []
    },
    {
      "cell_type": "code",
      "metadata": {
        "id": "STfa7NRnUC5W"
      },
      "source": [
        "def print_descrip(g, c, n):\n",
        "    print(g, \"학년\", c, \"반\", n, \"번\")\n",
        "    return descrip\n",
        "\n",
        "print_descrip(1, 6, 24)\n",
        "print_descrip(2, c = 4, n = 6)"
      ],
      "execution_count": null,
      "outputs": []
    },
    {
      "cell_type": "markdown",
      "metadata": {
        "id": "D1pVhnrfky_x"
      },
      "source": [
        "### 매개변수 *args"
      ]
    },
    {
      "cell_type": "code",
      "metadata": {
        "id": "4AEnrFrCm_fo"
      },
      "source": [
        "# 매개변수 개수 가변적일때 사용. \n",
        "#arg는 튜플 데이터 \n",
        "def average(*args):\n",
        "    avrg1 = sum(args) /len(args)\n",
        "    return avrg1\n",
        "print(average(1,2,3)) #인수 3개\n",
        "print(average(1,2,3,4,5)) #인수 5개"
      ],
      "execution_count": null,
      "outputs": []
    },
    {
      "cell_type": "code",
      "metadata": {
        "id": "t3r7sTkFk5bJ"
      },
      "source": [
        "# 매개변수 개수 가변적일때 사용. \n",
        "def average(*a):\n",
        "    avrg1 = sum(a) /len(a)\n",
        "    return avrg1\n",
        "print(average(1,2,3))\n",
        "print(average(1,2,3,4,5))"
      ],
      "execution_count": null,
      "outputs": []
    },
    {
      "cell_type": "code",
      "metadata": {
        "id": "hhUxIat9hteH"
      },
      "source": [
        "def num(*args):\n",
        "    outcome = 0\n",
        "    for i in args:\n",
        "        outcome+=i\n",
        "    return outcome\n",
        "    \n",
        "x = num(1,2,3,4,5)\n",
        "print(x) "
      ],
      "execution_count": null,
      "outputs": []
    },
    {
      "cell_type": "code",
      "metadata": {
        "id": "ITfP3kgNiLLV"
      },
      "source": [
        "def char(*args):\n",
        "    return args\n",
        "    \n",
        "c = char('짱구', '둘리', 'GoodFriend')    \n",
        "print(c) "
      ],
      "execution_count": null,
      "outputs": []
    },
    {
      "cell_type": "markdown",
      "metadata": {
        "id": "uNU8hmefXNqz"
      },
      "source": [
        "**예제: 소수 여부 판단하기**\n",
        "\n",
        "키보드로 입력된 수가 소수인지 아닌지 판별\n",
        "\n",
        "* 소수: 1과 자기자신만으로만 나누어 떨어지는 1보다 큰 양의 정수"
      ]
    },
    {
      "cell_type": "code",
      "metadata": {
        "id": "5Y7ogzUJWU23"
      },
      "source": [
        "def is_prime(numb):\n",
        "    if numb < 2:\n",
        "        return False\n",
        "    \n",
        "    for i in range(2,numb):\n",
        "        if numb % i == 0:\n",
        "            return False\n",
        "    \n",
        "    return True\n",
        "\n",
        "input_numb = int(input('숫자 입력:'))\n",
        "if is_prime(input_numb):\n",
        "    print('소수입니다')\n",
        "else:\n",
        "    print('소수가 아닙니다')"
      ],
      "execution_count": null,
      "outputs": []
    },
    {
      "cell_type": "code",
      "metadata": {
        "id": "kDTzN_r9X8pA"
      },
      "source": [
        "#홀수 & 짝수 판별기 \n",
        "def check_even(no):\n",
        "    if no % 2 == 0:\n",
        "        return True\n",
        "    else:\n",
        "        return False\n",
        "\n",
        "input_no = int(input('숫자 입력:'))\n",
        "if input_no == 0:\n",
        "    print('Unknown')\n",
        "elif check_even(input_no):\n",
        "    print('짝수입니다')\n",
        "else:\n",
        "    print('홀수입니다')"
      ],
      "execution_count": null,
      "outputs": []
    },
    {
      "cell_type": "markdown",
      "metadata": {
        "id": "lE9Q_ouWd-5D"
      },
      "source": [
        "**예제: 오늘의 메뉴**\n",
        "\n",
        "오늘의 급식메뉴를 출력하는 프로그램 만들기.\n",
        "\n",
        "몇 개의 메뉴가 선택될 지 모른다.\n",
        "\n",
        "오늘의 메뉴를 출력하는 부분을 함수로 만들어 프로그램 작성."
      ]
    },
    {
      "cell_type": "code",
      "metadata": {
        "id": "ZSQtWYePd-Mq"
      },
      "source": [
        "def today_menu(*menu):\n",
        "     for i in menu:\n",
        "        print(i)\n",
        "print(\"== 오늘의 메뉴 ==\")\n",
        "today_menu('김밥', '떡볶이','어묵','냉면','쫄면','닭발','매운오돌뼈')"
      ],
      "execution_count": null,
      "outputs": []
    },
    {
      "cell_type": "code",
      "metadata": {
        "id": "60EUhDT-5F8H"
      },
      "source": [
        "def today_menu(*menu):\n",
        "    for i in menu:\n",
        "        print(i)\n",
        "print('===오늘의 메뉴===')\n",
        "today_menu('김밥','떡볶이','오뎅')"
      ],
      "execution_count": null,
      "outputs": []
    },
    {
      "cell_type": "code",
      "metadata": {
        "id": "w4tAyChglRa9"
      },
      "source": [
        "def today_menu(*menu):\n",
        "    for i in range(len(menu)):\n",
        "        print(menu[i])\n",
        "print(\"== 오늘의 메뉴 ==\")\n",
        "today_menu('김밥','떡볶이','어묵')"
      ],
      "execution_count": null,
      "outputs": []
    },
    {
      "cell_type": "markdown",
      "metadata": {
        "id": "7tkDGSptmqu5"
      },
      "source": [
        "##lambda 함수\n",
        "\n",
        "한 줄로 간단하게 만들어 주는 함수"
      ]
    },
    {
      "cell_type": "code",
      "metadata": {
        "id": "XAqurt_Qrvrv"
      },
      "source": [
        "#lambda 함수\n",
        "def plus(num1,num2):\n",
        "    result = num1+num2\n",
        "    return result\n",
        "print(plus(10,20))"
      ],
      "execution_count": null,
      "outputs": []
    },
    {
      "cell_type": "code",
      "metadata": {
        "id": "da7UjTxSnG-0"
      },
      "source": [
        "#lambda\n",
        "plus = lambda num1,num2: num1+num2\n",
        "print(plus(10,20))"
      ],
      "execution_count": null,
      "outputs": []
    },
    {
      "cell_type": "markdown",
      "metadata": {
        "id": "pXFUSPhasZpE"
      },
      "source": [
        "##map 함수"
      ]
    },
    {
      "cell_type": "code",
      "metadata": {
        "id": "viWF1rF7rMN1"
      },
      "source": [
        "#map 함수\n",
        "mylist = [1,2,3,4,5]\n",
        "mylist = list(map(lambda num: num+10, mylist))\n",
        "print(mylist)"
      ],
      "execution_count": null,
      "outputs": []
    },
    {
      "cell_type": "code",
      "metadata": {
        "id": "GgBmr6Sqt9ve"
      },
      "source": [
        "#map 함수\n",
        "mylist = (1,2,3,4,5)\n",
        "mylist = set(map(lambda num: num+10, mylist))\n",
        "print(mylist)"
      ],
      "execution_count": null,
      "outputs": []
    },
    {
      "cell_type": "markdown",
      "metadata": {
        "id": "XNMkBtl_o74p"
      },
      "source": [
        "##재귀함수\n",
        "\n",
        "* 함수 안에서 함수 자기자신을 호출하는 방식\n",
        "\n",
        "* 재귀호출은 일반적인 상황에서는 잘 사용하지 않지만 알고리즘을 구현할 때 유용"
      ]
    },
    {
      "cell_type": "code",
      "metadata": {
        "id": "QX1jhdRpo-Zu"
      },
      "source": [
        "#함수 내에서 함수 호출\n",
        "def hello(count):\n",
        "    if count == 0: #종료 조건을 만듦, count가 0이면 다시 hello 함수를 호출하지 않고 끝냄\n",
        "        return\n",
        "    print('Hello, world!', count)\n",
        "\n",
        "    count -= 1 #count 1 감소시킨 뒤\n",
        "    hello(count) #다시 hello에 넣음\n",
        "hello(5)"
      ],
      "execution_count": null,
      "outputs": []
    },
    {
      "cell_type": "markdown",
      "metadata": {
        "id": "wq8xDSeYqJ4b"
      },
      "source": [
        "**예제**"
      ]
    },
    {
      "cell_type": "code",
      "metadata": {
        "id": "-NSJ9hgxqJAP"
      },
      "source": [
        "#재귀함수\n",
        "def factorial(n):\n",
        "    if n == 1:          #n이 1일 때\n",
        "        return 1        #1을 반환하고 재귀호출을 끝냄\n",
        "    return n * factorial(n-1)  #n과 factorial 함수에 n-1을 넣어서 반환한 값을 곱함\n",
        "\n",
        "print(factorial(5))"
      ],
      "execution_count": null,
      "outputs": []
    },
    {
      "cell_type": "markdown",
      "metadata": {
        "id": "qoRS8PhDufAU"
      },
      "source": [
        "##예제: 편의점 재고 관리 시스템\n",
        "\n",
        "* 초기재고: 삼각김밥 10개, 커피우유 10개"
      ]
    },
    {
      "cell_type": "code",
      "metadata": {
        "id": "FxExu__Yore9"
      },
      "source": [
        "#step1 전체구조\n",
        "#재고 등록,판매,확인 함수를 추가하도록 합니다\n",
        "while True:\n",
        "    print('    ===================재고관리 시스템 ======================     ')\n",
        "    print('    1: 재고등록  2: 제품판매    4:재고 확인   0: 프로그램 종료    ')\n",
        "\n",
        "    menu = input('메뉴를 입력하세요:')\n",
        "    if menu == '0': #문자열\n",
        "        break"
      ],
      "execution_count": null,
      "outputs": []
    },
    {
      "cell_type": "code",
      "metadata": {
        "id": "caYv61jRq2CB"
      },
      "source": [
        "#step2 재고 등록\n",
        "inventory = {'삼각김밥':10,'커피우유':10} #초기재고\n",
        "def add_product():\n",
        "    while True:\n",
        "        product = input('상품명:')\n",
        "        if product == '':\n",
        "            break\n",
        "        num = int(input('갯수:'))\n",
        "        if product in inventory.keys():\n",
        "            inventory[product] += num\n",
        "        else:\n",
        "            inventory[product] = num\n",
        "    print('-'*50)\n",
        "    for key,value in inventory.items():\n",
        "        print(key,':',value)\n",
        "add_product()    "
      ],
      "execution_count": null,
      "outputs": []
    },
    {
      "cell_type": "code",
      "metadata": {
        "id": "45Q6hgq_rX-e"
      },
      "source": [
        "#step3 제품판매\n",
        "def sel_product():\n",
        "    while True:\n",
        "        product = input('상품명:')\n",
        "        if product == '':\n",
        "            break\n",
        "        num = int(input('갯수:'))\n",
        "        if inventory[product] < num:\n",
        "            print('재고가 부족합니다')\n",
        "        else:\n",
        "            inventory[product] -= num\n",
        "            print(inventory[product],'개 남았습니다')\n",
        "sel_product()"
      ],
      "execution_count": null,
      "outputs": []
    },
    {
      "cell_type": "code",
      "metadata": {
        "id": "vV49TqRuofsz"
      },
      "source": [
        "#step3 재고확인 \n",
        "def search_product():\n",
        "    while True:\n",
        "        product = input('상품명:')\n",
        "        if product == '':\n",
        "            break\n",
        "        print(inventory.get(product,'등록되지 않은 상품'))\n",
        "search_product()"
      ],
      "execution_count": null,
      "outputs": []
    },
    {
      "cell_type": "code",
      "metadata": {
        "id": "HJFqaCl1xnjM"
      },
      "source": [
        "#step1 전체구조\n",
        "while True:\n",
        "    print('    ===================재고관리 시스템 ======================     ')\n",
        "    print('    1: 재고등록  2: 제품판매    4:재고 확인   0: 프로그램 종료    ')\n",
        "\n",
        "    menu = input('메뉴를 입력하세요:')\n",
        "    if menu == '0': #문자열\n",
        "        break\n",
        "    elif menu == '1': \n",
        "        add_product()\n",
        "    elif menu == '2': \n",
        "        sel_product()\n",
        "    elif menu == '3': \n",
        "        search_product()"
      ],
      "execution_count": null,
      "outputs": []
    },
    {
      "cell_type": "code",
      "metadata": {
        "id": "P6XgPqCmwepf"
      },
      "source": [
        "# step 합치기\n",
        "# 재고 등록\n",
        "def add_product():\n",
        "    while True:\n",
        "        product = input('상품명:')\n",
        "        if product == '':\n",
        "            break\n",
        "        num = int(input('갯수:'))\n",
        "        if product in inventory.keys():\n",
        "            inventory[product] += num\n",
        "        else:\n",
        "            inventory[product] = num\n",
        "        \n",
        "    print('-'*50)\n",
        "    for key,value in inventory.items():\n",
        "        print(key,':',value)\n",
        "\n",
        "# 제품 판매\n",
        "def sel_product():\n",
        "    while True:\n",
        "        product = input('상품명:')\n",
        "        if product == '':\n",
        "            break\n",
        "        num = int(input('갯수:'))\n",
        "        if inventory[product] < num:\n",
        "            print('재고가 부족합니다')\n",
        "        else:\n",
        "            inventory[product] -= num\n",
        "            print(inventory[product],'개 남았습니다')\n",
        "\n",
        "# 재고확인 \n",
        "def search_product():\n",
        "    while True:\n",
        "        product = input('상품명:')\n",
        "        if product == '':\n",
        "            break\n",
        "        print(inventory.get(product,'등록되지 않은 상품'))\n",
        "\n",
        "# 전체구조\n",
        "inventory = {'삼각김밥':10,'커피우유':10} #초기재고\n",
        "while True:\n",
        "    print('    ===================재고관리 시스템 ======================     ')\n",
        "    print('    1: 재고등록  2: 제품판매    4:재고 확인   0: 프로그램 종료    ')\n",
        "\n",
        "    menu = input('메뉴를 입력하세요:')\n",
        "    if menu == '0': #문자열\n",
        "        break\n",
        "    elif menu == '1': \n",
        "        add_product()\n",
        "    elif menu == '2': \n",
        "        sel_product()\n",
        "    elif menu == '3': \n",
        "        search_product()"
      ],
      "execution_count": null,
      "outputs": []
    },
    {
      "cell_type": "markdown",
      "metadata": {
        "id": "BLLi1jDY3FKx"
      },
      "source": [
        "### 수정 - 제품판매 get사용"
      ]
    },
    {
      "cell_type": "code",
      "metadata": {
        "id": "KjnBAt4J4lLv"
      },
      "source": [
        "# 테스트 수정 \n",
        "# 재고 등록\n",
        "def add_product():\n",
        "    while True:\n",
        "        product = input('상품명:')\n",
        "        if product == '':\n",
        "            break\n",
        "        num = int(input('갯수:'))\n",
        "        if product in inventory.keys():\n",
        "            inventory[product] += num\n",
        "        else:\n",
        "            inventory[product] = num\n",
        "        \n",
        "    print('-'*50)\n",
        "    for key,value in inventory.items():\n",
        "        print(key,':',value)\n",
        "\n",
        "# 제품 판매\n",
        "def sel_product():\n",
        "    while True:\n",
        "        product = input('상품명:')\n",
        "        if product == '':\n",
        "            break\n",
        "        # 추가 조건문\n",
        "        if inventory.get(product,'미등록') == '미등록':\n",
        "            print('등록되지 않은 상품입니다')\n",
        "            break \n",
        "        # if product not in inventory.keys():\n",
        "        #     print('등록되지 않은 상품입니다')\n",
        "        #     break \n",
        "        num = int(input('갯수:'))\n",
        "        if inventory[product] < num:\n",
        "            print('재고가 부족합니다')\n",
        "        else:\n",
        "            inventory[product] -= num\n",
        "            print(inventory[product],'개 남았습니다')\n",
        "           \n",
        "\n",
        "# 재고확인 \n",
        "def search_product():\n",
        "    while True:\n",
        "        product = input('상품명:')\n",
        "        if product == '':\n",
        "            break\n",
        "        print(inventory.get(product,'등록되지 않은 상품'))\n",
        "\n",
        "# 전체구조\n",
        "inventory = {'삼각김밥':10,'커피우유':10} #초기재고\n",
        "while True:\n",
        "    print('    ===================재고관리 시스템 ======================     ')\n",
        "    print('    1: 재고등록  2: 제품판매    4:재고 확인   0: 프로그램 종료    ')\n",
        "\n",
        "    menu = input('메뉴를 입력하세요:')\n",
        "    if menu == '0': #문자열\n",
        "        break\n",
        "    elif menu == '1': \n",
        "        add_product()\n",
        "    elif menu == '2': \n",
        "        sel_product()\n",
        "    elif menu == '3': \n",
        "        search_product()"
      ],
      "execution_count": null,
      "outputs": []
    },
    {
      "cell_type": "code",
      "metadata": {
        "id": "dUUFNgn7BBb-"
      },
      "source": [
        "## slack 5팀 신동열님 코드 & 설명 (My version은 실패: 복습 필요)\n",
        "inventory = {'삼각김밥':10,'커피우유':10} #초기재고\n",
        "\n",
        "def 재고등록(): #재고등록 함수 설정\n",
        "    while True:\n",
        "        product=input('상품명:') #상품입력\n",
        "        if product == '': #엔터입력시 반복문 종료 \n",
        "            break\n",
        "        num=input('갯수:') #갯수입력 & (엔터입력시 반복문을 종료하기 위해 int로 형변환 하지 않았음) \n",
        "        if num == '': #위 num값 입력시 int로 형변환 해주면 이 부분에서 에러 발생  \n",
        "            break\n",
        "        elif product in inventory: #입력한 상품이 기존 inventory에 있을 경우 갯수 추가 \n",
        "            inventory[product]+=int(num) #계산시 int로 형변환 \n",
        "        else: #입력한 상품이 기존 inventory에 없을 경우 갯수 추가 \n",
        "            inventory[product]=int(num)\n",
        "    print('-'*15,'보유 재고','-'*15)        \n",
        "    for product, num in inventory.items(): #item함수를 사용하여 product,num에 key값,value값 할당\n",
        "        print(f'{product} : {num}') #product=key, num=value 값  print\n",
        "\n",
        "def 제품판매():\n",
        "    while True:\n",
        "        product=input('상품명:')\n",
        "        if product=='':\n",
        "            break\n",
        "        elif product not in inventory:\n",
        "            print('해당 상품이 등록되어 있지 않습니다.') \n",
        "            break\n",
        "        num=input('판매갯수 입력:')\n",
        "        if num == '':\n",
        "            break\n",
        "        elif int(num)>inventory[product]:\n",
        "            print('재고가 부족합니다.')\n",
        "        else:\n",
        "            inventory[product]-=int(num)\n",
        "            print(f'{product}는 {inventory[product]}개 남았습니다.')\n",
        "\n",
        "def 재고확인():\n",
        "    print('-'*15,'보유 재고','-'*15) \n",
        "    for product, num in inventory.items():\n",
        "        print(f'{product} : {num}')\n",
        "\n",
        "\n",
        "\n",
        "while True:\n",
        "    print('''\n",
        "    ------------------재고관리 시스템--------------------\n",
        "   | 1:재고등록  2:제품판매  3:재고확인  0:프로그램 종료 |\n",
        "    -----------------------------------------------------''')\n",
        "\n",
        "    menu=input('메뉴를 선택하세요:')\n",
        "    if menu=='1':\n",
        "        print('''\n",
        "    --------재고관리 시스템----------\n",
        "   |      1.재고등록 탭 입니다.      |\n",
        "    ---------------------------------''')\n",
        "        재고등록()\n",
        "    elif menu=='2':\n",
        "        print('''\n",
        "    --------재고관리 시스템----------\n",
        "   |      2.제품판매 탭 입니다.      |\n",
        "    ---------------------------------''')\n",
        "        제품판매()\n",
        "    elif menu=='3':\n",
        "        print('''\n",
        "    --------재고관리 시스템----------\n",
        "   |      3.재고확인 탭 입니다.      |\n",
        "    ---------------------------------''')\n",
        "        재고확인()\n",
        "    else:\n",
        "        print('재고 관리 시스템을 종료합니다.')\n",
        "        break"
      ],
      "execution_count": null,
      "outputs": []
    }
  ]
}